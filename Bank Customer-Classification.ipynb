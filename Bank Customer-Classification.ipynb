{
 "cells": [
  {
   "cell_type": "code",
   "execution_count": 1,
   "metadata": {},
   "outputs": [],
   "source": [
    "import numpy as np\n",
    "import pandas as pd\n",
    "import matplotlib.pyplot as plt\n",
    "import seaborn as sns"
   ]
  },
  {
   "cell_type": "markdown",
   "metadata": {},
   "source": [
    "## 1. Domain Understanding\n",
    "Given data of bank customer. The objective is to find the most impacting factors that cause exitness of customer, and predict the output (either customer leave or stay) based on (new) data in the future."
   ]
  },
  {
   "cell_type": "code",
   "execution_count": 2,
   "metadata": {},
   "outputs": [
    {
     "data": {
      "text/html": [
       "<div>\n",
       "<style scoped>\n",
       "    .dataframe tbody tr th:only-of-type {\n",
       "        vertical-align: middle;\n",
       "    }\n",
       "\n",
       "    .dataframe tbody tr th {\n",
       "        vertical-align: top;\n",
       "    }\n",
       "\n",
       "    .dataframe thead th {\n",
       "        text-align: right;\n",
       "    }\n",
       "</style>\n",
       "<table border=\"1\" class=\"dataframe\">\n",
       "  <thead>\n",
       "    <tr style=\"text-align: right;\">\n",
       "      <th></th>\n",
       "      <th>RowNumber</th>\n",
       "      <th>CustomerId</th>\n",
       "      <th>Surname</th>\n",
       "      <th>CreditScore</th>\n",
       "      <th>Geography</th>\n",
       "      <th>Gender</th>\n",
       "      <th>Age</th>\n",
       "      <th>Tenure</th>\n",
       "      <th>Balance</th>\n",
       "      <th>NumOfProducts</th>\n",
       "      <th>HasCrCard</th>\n",
       "      <th>IsActiveMember</th>\n",
       "      <th>EstimatedSalary</th>\n",
       "      <th>Exited</th>\n",
       "    </tr>\n",
       "  </thead>\n",
       "  <tbody>\n",
       "    <tr>\n",
       "      <th>0</th>\n",
       "      <td>1</td>\n",
       "      <td>15634602</td>\n",
       "      <td>Hargrave</td>\n",
       "      <td>619</td>\n",
       "      <td>France</td>\n",
       "      <td>Female</td>\n",
       "      <td>42</td>\n",
       "      <td>2</td>\n",
       "      <td>0.00</td>\n",
       "      <td>1</td>\n",
       "      <td>1</td>\n",
       "      <td>1</td>\n",
       "      <td>101348.88</td>\n",
       "      <td>1</td>\n",
       "    </tr>\n",
       "    <tr>\n",
       "      <th>1</th>\n",
       "      <td>2</td>\n",
       "      <td>15647311</td>\n",
       "      <td>Hill</td>\n",
       "      <td>608</td>\n",
       "      <td>Spain</td>\n",
       "      <td>Female</td>\n",
       "      <td>41</td>\n",
       "      <td>1</td>\n",
       "      <td>83807.86</td>\n",
       "      <td>1</td>\n",
       "      <td>0</td>\n",
       "      <td>1</td>\n",
       "      <td>112542.58</td>\n",
       "      <td>0</td>\n",
       "    </tr>\n",
       "    <tr>\n",
       "      <th>2</th>\n",
       "      <td>3</td>\n",
       "      <td>15619304</td>\n",
       "      <td>Onio</td>\n",
       "      <td>502</td>\n",
       "      <td>France</td>\n",
       "      <td>Female</td>\n",
       "      <td>42</td>\n",
       "      <td>8</td>\n",
       "      <td>159660.80</td>\n",
       "      <td>3</td>\n",
       "      <td>1</td>\n",
       "      <td>0</td>\n",
       "      <td>113931.57</td>\n",
       "      <td>1</td>\n",
       "    </tr>\n",
       "    <tr>\n",
       "      <th>3</th>\n",
       "      <td>4</td>\n",
       "      <td>15701354</td>\n",
       "      <td>Boni</td>\n",
       "      <td>699</td>\n",
       "      <td>France</td>\n",
       "      <td>Female</td>\n",
       "      <td>39</td>\n",
       "      <td>1</td>\n",
       "      <td>0.00</td>\n",
       "      <td>2</td>\n",
       "      <td>0</td>\n",
       "      <td>0</td>\n",
       "      <td>93826.63</td>\n",
       "      <td>0</td>\n",
       "    </tr>\n",
       "    <tr>\n",
       "      <th>4</th>\n",
       "      <td>5</td>\n",
       "      <td>15737888</td>\n",
       "      <td>Mitchell</td>\n",
       "      <td>850</td>\n",
       "      <td>Spain</td>\n",
       "      <td>Female</td>\n",
       "      <td>43</td>\n",
       "      <td>2</td>\n",
       "      <td>125510.82</td>\n",
       "      <td>1</td>\n",
       "      <td>1</td>\n",
       "      <td>1</td>\n",
       "      <td>79084.10</td>\n",
       "      <td>0</td>\n",
       "    </tr>\n",
       "  </tbody>\n",
       "</table>\n",
       "</div>"
      ],
      "text/plain": [
       "   RowNumber  CustomerId   Surname  CreditScore Geography  Gender  Age  \\\n",
       "0          1    15634602  Hargrave          619    France  Female   42   \n",
       "1          2    15647311      Hill          608     Spain  Female   41   \n",
       "2          3    15619304      Onio          502    France  Female   42   \n",
       "3          4    15701354      Boni          699    France  Female   39   \n",
       "4          5    15737888  Mitchell          850     Spain  Female   43   \n",
       "\n",
       "   Tenure    Balance  NumOfProducts  HasCrCard  IsActiveMember  \\\n",
       "0       2       0.00              1          1               1   \n",
       "1       1   83807.86              1          0               1   \n",
       "2       8  159660.80              3          1               0   \n",
       "3       1       0.00              2          0               0   \n",
       "4       2  125510.82              1          1               1   \n",
       "\n",
       "   EstimatedSalary  Exited  \n",
       "0        101348.88       1  \n",
       "1        112542.58       0  \n",
       "2        113931.57       1  \n",
       "3         93826.63       0  \n",
       "4         79084.10       0  "
      ]
     },
     "execution_count": 2,
     "metadata": {},
     "output_type": "execute_result"
    }
   ],
   "source": [
    "df = pd.read_csv(r'D:\\Github\\Datasets\\Bank_churn_modelling.csv')\n",
    "df.head()"
   ]
  },
  {
   "cell_type": "markdown",
   "metadata": {},
   "source": [
    "## 2. Data Exploration and Collection"
   ]
  },
  {
   "cell_type": "code",
   "execution_count": 3,
   "metadata": {},
   "outputs": [
    {
     "name": "stdout",
     "output_type": "stream",
     "text": [
      "<class 'pandas.core.frame.DataFrame'>\n",
      "RangeIndex: 10000 entries, 0 to 9999\n",
      "Data columns (total 14 columns):\n",
      " #   Column           Non-Null Count  Dtype  \n",
      "---  ------           --------------  -----  \n",
      " 0   RowNumber        10000 non-null  int64  \n",
      " 1   CustomerId       10000 non-null  int64  \n",
      " 2   Surname          10000 non-null  object \n",
      " 3   CreditScore      10000 non-null  int64  \n",
      " 4   Geography        10000 non-null  object \n",
      " 5   Gender           10000 non-null  object \n",
      " 6   Age              10000 non-null  int64  \n",
      " 7   Tenure           10000 non-null  int64  \n",
      " 8   Balance          10000 non-null  float64\n",
      " 9   NumOfProducts    10000 non-null  int64  \n",
      " 10  HasCrCard        10000 non-null  int64  \n",
      " 11  IsActiveMember   10000 non-null  int64  \n",
      " 12  EstimatedSalary  10000 non-null  float64\n",
      " 13  Exited           10000 non-null  int64  \n",
      "dtypes: float64(2), int64(9), object(3)\n",
      "memory usage: 1.1+ MB\n"
     ]
    }
   ],
   "source": [
    "df.info()"
   ]
  },
  {
   "cell_type": "code",
   "execution_count": 4,
   "metadata": {},
   "outputs": [
    {
     "data": {
      "text/plain": [
       "array(['France', 'Spain', 'Germany'], dtype=object)"
      ]
     },
     "execution_count": 4,
     "metadata": {},
     "output_type": "execute_result"
    }
   ],
   "source": [
    "df.Geography.unique()"
   ]
  },
  {
   "cell_type": "code",
   "execution_count": 5,
   "metadata": {},
   "outputs": [
    {
     "data": {
      "text/plain": [
       "array(['Female', 'Male'], dtype=object)"
      ]
     },
     "execution_count": 5,
     "metadata": {},
     "output_type": "execute_result"
    }
   ],
   "source": [
    "df.Gender.unique()"
   ]
  },
  {
   "cell_type": "code",
   "execution_count": 6,
   "metadata": {},
   "outputs": [
    {
     "data": {
      "text/html": [
       "<div>\n",
       "<style scoped>\n",
       "    .dataframe tbody tr th:only-of-type {\n",
       "        vertical-align: middle;\n",
       "    }\n",
       "\n",
       "    .dataframe tbody tr th {\n",
       "        vertical-align: top;\n",
       "    }\n",
       "\n",
       "    .dataframe thead th {\n",
       "        text-align: right;\n",
       "    }\n",
       "</style>\n",
       "<table border=\"1\" class=\"dataframe\">\n",
       "  <thead>\n",
       "    <tr style=\"text-align: right;\">\n",
       "      <th></th>\n",
       "      <th>RowNumber</th>\n",
       "      <th>CustomerId</th>\n",
       "      <th>CreditScore</th>\n",
       "      <th>Age</th>\n",
       "      <th>Tenure</th>\n",
       "      <th>Balance</th>\n",
       "      <th>NumOfProducts</th>\n",
       "      <th>HasCrCard</th>\n",
       "      <th>IsActiveMember</th>\n",
       "      <th>EstimatedSalary</th>\n",
       "      <th>Exited</th>\n",
       "    </tr>\n",
       "  </thead>\n",
       "  <tbody>\n",
       "    <tr>\n",
       "      <th>count</th>\n",
       "      <td>10000.00000</td>\n",
       "      <td>1.000000e+04</td>\n",
       "      <td>10000.000000</td>\n",
       "      <td>10000.000000</td>\n",
       "      <td>10000.000000</td>\n",
       "      <td>10000.000000</td>\n",
       "      <td>10000.000000</td>\n",
       "      <td>10000.00000</td>\n",
       "      <td>10000.000000</td>\n",
       "      <td>10000.000000</td>\n",
       "      <td>10000.000000</td>\n",
       "    </tr>\n",
       "    <tr>\n",
       "      <th>mean</th>\n",
       "      <td>5000.50000</td>\n",
       "      <td>1.569094e+07</td>\n",
       "      <td>650.528800</td>\n",
       "      <td>38.921800</td>\n",
       "      <td>5.012800</td>\n",
       "      <td>76485.889288</td>\n",
       "      <td>1.530200</td>\n",
       "      <td>0.70550</td>\n",
       "      <td>0.515100</td>\n",
       "      <td>100090.239881</td>\n",
       "      <td>0.203700</td>\n",
       "    </tr>\n",
       "    <tr>\n",
       "      <th>std</th>\n",
       "      <td>2886.89568</td>\n",
       "      <td>7.193619e+04</td>\n",
       "      <td>96.653299</td>\n",
       "      <td>10.487806</td>\n",
       "      <td>2.892174</td>\n",
       "      <td>62397.405202</td>\n",
       "      <td>0.581654</td>\n",
       "      <td>0.45584</td>\n",
       "      <td>0.499797</td>\n",
       "      <td>57510.492818</td>\n",
       "      <td>0.402769</td>\n",
       "    </tr>\n",
       "    <tr>\n",
       "      <th>min</th>\n",
       "      <td>1.00000</td>\n",
       "      <td>1.556570e+07</td>\n",
       "      <td>350.000000</td>\n",
       "      <td>18.000000</td>\n",
       "      <td>0.000000</td>\n",
       "      <td>0.000000</td>\n",
       "      <td>1.000000</td>\n",
       "      <td>0.00000</td>\n",
       "      <td>0.000000</td>\n",
       "      <td>11.580000</td>\n",
       "      <td>0.000000</td>\n",
       "    </tr>\n",
       "    <tr>\n",
       "      <th>25%</th>\n",
       "      <td>2500.75000</td>\n",
       "      <td>1.562853e+07</td>\n",
       "      <td>584.000000</td>\n",
       "      <td>32.000000</td>\n",
       "      <td>3.000000</td>\n",
       "      <td>0.000000</td>\n",
       "      <td>1.000000</td>\n",
       "      <td>0.00000</td>\n",
       "      <td>0.000000</td>\n",
       "      <td>51002.110000</td>\n",
       "      <td>0.000000</td>\n",
       "    </tr>\n",
       "    <tr>\n",
       "      <th>50%</th>\n",
       "      <td>5000.50000</td>\n",
       "      <td>1.569074e+07</td>\n",
       "      <td>652.000000</td>\n",
       "      <td>37.000000</td>\n",
       "      <td>5.000000</td>\n",
       "      <td>97198.540000</td>\n",
       "      <td>1.000000</td>\n",
       "      <td>1.00000</td>\n",
       "      <td>1.000000</td>\n",
       "      <td>100193.915000</td>\n",
       "      <td>0.000000</td>\n",
       "    </tr>\n",
       "    <tr>\n",
       "      <th>75%</th>\n",
       "      <td>7500.25000</td>\n",
       "      <td>1.575323e+07</td>\n",
       "      <td>718.000000</td>\n",
       "      <td>44.000000</td>\n",
       "      <td>7.000000</td>\n",
       "      <td>127644.240000</td>\n",
       "      <td>2.000000</td>\n",
       "      <td>1.00000</td>\n",
       "      <td>1.000000</td>\n",
       "      <td>149388.247500</td>\n",
       "      <td>0.000000</td>\n",
       "    </tr>\n",
       "    <tr>\n",
       "      <th>max</th>\n",
       "      <td>10000.00000</td>\n",
       "      <td>1.581569e+07</td>\n",
       "      <td>850.000000</td>\n",
       "      <td>92.000000</td>\n",
       "      <td>10.000000</td>\n",
       "      <td>250898.090000</td>\n",
       "      <td>4.000000</td>\n",
       "      <td>1.00000</td>\n",
       "      <td>1.000000</td>\n",
       "      <td>199992.480000</td>\n",
       "      <td>1.000000</td>\n",
       "    </tr>\n",
       "  </tbody>\n",
       "</table>\n",
       "</div>"
      ],
      "text/plain": [
       "         RowNumber    CustomerId   CreditScore           Age        Tenure  \\\n",
       "count  10000.00000  1.000000e+04  10000.000000  10000.000000  10000.000000   \n",
       "mean    5000.50000  1.569094e+07    650.528800     38.921800      5.012800   \n",
       "std     2886.89568  7.193619e+04     96.653299     10.487806      2.892174   \n",
       "min        1.00000  1.556570e+07    350.000000     18.000000      0.000000   \n",
       "25%     2500.75000  1.562853e+07    584.000000     32.000000      3.000000   \n",
       "50%     5000.50000  1.569074e+07    652.000000     37.000000      5.000000   \n",
       "75%     7500.25000  1.575323e+07    718.000000     44.000000      7.000000   \n",
       "max    10000.00000  1.581569e+07    850.000000     92.000000     10.000000   \n",
       "\n",
       "             Balance  NumOfProducts    HasCrCard  IsActiveMember  \\\n",
       "count   10000.000000   10000.000000  10000.00000    10000.000000   \n",
       "mean    76485.889288       1.530200      0.70550        0.515100   \n",
       "std     62397.405202       0.581654      0.45584        0.499797   \n",
       "min         0.000000       1.000000      0.00000        0.000000   \n",
       "25%         0.000000       1.000000      0.00000        0.000000   \n",
       "50%     97198.540000       1.000000      1.00000        1.000000   \n",
       "75%    127644.240000       2.000000      1.00000        1.000000   \n",
       "max    250898.090000       4.000000      1.00000        1.000000   \n",
       "\n",
       "       EstimatedSalary        Exited  \n",
       "count     10000.000000  10000.000000  \n",
       "mean     100090.239881      0.203700  \n",
       "std       57510.492818      0.402769  \n",
       "min          11.580000      0.000000  \n",
       "25%       51002.110000      0.000000  \n",
       "50%      100193.915000      0.000000  \n",
       "75%      149388.247500      0.000000  \n",
       "max      199992.480000      1.000000  "
      ]
     },
     "execution_count": 6,
     "metadata": {},
     "output_type": "execute_result"
    }
   ],
   "source": [
    "df.describe()"
   ]
  },
  {
   "cell_type": "code",
   "execution_count": 7,
   "metadata": {},
   "outputs": [
    {
     "data": {
      "text/plain": [
       "RowNumber          0.000000\n",
       "CustomerId         0.001149\n",
       "CreditScore       -0.071607\n",
       "Age                1.011320\n",
       "Tenure             0.010991\n",
       "Balance           -0.141109\n",
       "NumOfProducts      0.745568\n",
       "HasCrCard         -0.901812\n",
       "IsActiveMember    -0.060437\n",
       "EstimatedSalary    0.002085\n",
       "Exited             1.471611\n",
       "dtype: float64"
      ]
     },
     "execution_count": 7,
     "metadata": {},
     "output_type": "execute_result"
    }
   ],
   "source": [
    "df.skew()"
   ]
  },
  {
   "cell_type": "markdown",
   "metadata": {},
   "source": [
    "## 3. Data Cleaning"
   ]
  },
  {
   "cell_type": "code",
   "execution_count": 8,
   "metadata": {},
   "outputs": [],
   "source": [
    "df.drop(['RowNumber','CustomerId','Surname'],axis=1,inplace=True)"
   ]
  },
  {
   "cell_type": "code",
   "execution_count": 9,
   "metadata": {},
   "outputs": [
    {
     "data": {
      "text/plain": [
       "CreditScore        0\n",
       "Geography          0\n",
       "Gender             0\n",
       "Age                0\n",
       "Tenure             0\n",
       "Balance            0\n",
       "NumOfProducts      0\n",
       "HasCrCard          0\n",
       "IsActiveMember     0\n",
       "EstimatedSalary    0\n",
       "Exited             0\n",
       "dtype: int64"
      ]
     },
     "execution_count": 9,
     "metadata": {},
     "output_type": "execute_result"
    }
   ],
   "source": [
    "df.isnull().sum()"
   ]
  },
  {
   "cell_type": "code",
   "execution_count": 10,
   "metadata": {},
   "outputs": [
    {
     "data": {
      "text/plain": [
       "0"
      ]
     },
     "execution_count": 10,
     "metadata": {},
     "output_type": "execute_result"
    }
   ],
   "source": [
    "df.duplicated().sum()"
   ]
  },
  {
   "cell_type": "markdown",
   "metadata": {},
   "source": [
    "## 4. Feature Engineering"
   ]
  },
  {
   "cell_type": "code",
   "execution_count": 11,
   "metadata": {},
   "outputs": [
    {
     "data": {
      "text/plain": [
       "Index(['CreditScore', 'Geography', 'Gender', 'Age', 'Tenure', 'Balance',\n",
       "       'NumOfProducts', 'HasCrCard', 'IsActiveMember', 'EstimatedSalary',\n",
       "       'Exited'],\n",
       "      dtype='object')"
      ]
     },
     "execution_count": 11,
     "metadata": {},
     "output_type": "execute_result"
    }
   ],
   "source": [
    "df.columns"
   ]
  },
  {
   "cell_type": "code",
   "execution_count": 12,
   "metadata": {},
   "outputs": [],
   "source": [
    "num=['CreditScore', 'Age', 'Tenure', 'Balance','NumOfProducts', 'EstimatedSalary']\n",
    "cat=['Geography', 'Gender','HasCrCard','IsActiveMember']"
   ]
  },
  {
   "cell_type": "code",
   "execution_count": 13,
   "metadata": {},
   "outputs": [
    {
     "data": {
      "image/png": "[encoded data removed]",
      "text/plain": [
       "<Figure size 720x360 with 1 Axes>"
      ]
     },
     "metadata": {
      "needs_background": "light"
     },
     "output_type": "display_data"
    },
    {
     "data": {
      "image/png": "[encoded data removed]",
      "text/plain": [
       "<Figure size 720x360 with 1 Axes>"
      ]
     },
     "metadata": {
      "needs_background": "light"
     },
     "output_type": "display_data"
    },
    {
     "data": {
      "image/png": "[encoded data removed]",
      "text/plain": [
       "<Figure size 720x360 with 1 Axes>"
      ]
     },
     "metadata": {
      "needs_background": "light"
     },
     "output_type": "display_data"
    },
    {
     "data": {
      "image/png": "[encoded data removed]",
      "text/plain": [
       "<Figure size 720x360 with 1 Axes>"
      ]
     },
     "metadata": {
      "needs_background": "light"
     },
     "output_type": "display_data"
    },
    {
     "data": {
      "image/png": "[encoded data removed]",
      "text/plain": [
       "<Figure size 720x360 with 1 Axes>"
      ]
     },
     "metadata": {
      "needs_background": "light"
     },
     "output_type": "display_data"
    },
    {
     "data": {
      "image/png": "[encoded data removed]",
      "text/plain": [
       "<Figure size 720x360 with 1 Axes>"
      ]
     },
     "metadata": {
      "needs_background": "light"
     },
     "output_type": "display_data"
    }
   ],
   "source": [
    "for col in num:\n",
    "    plt.figure(figsize=(10,5))\n",
    "    sns.distplot(df[col][df.Exited==0])\n",
    "    sns.distplot(df[col][df.Exited==1])\n",
    "    plt.legend(['0','1'])\n",
    "    plt.show()"
   ]
  },
  {
   "cell_type": "markdown",
   "metadata": {},
   "source": [
    "- CreditScore doesn't significantly impact exited behaviour\n",
    "- Most customers who stay are in age range below 40. Younger customers tend to stay, older customers tend to leave the bank.\n",
    "- Tenure doesn't impact exited behaviour\n",
    "- Balance doesn't impact exited behaviour\n",
    "- Customers who have higher NumOfProducts tend to leave\n",
    "- Estimated salary doesn't significantly impact exited behaviour"
   ]
  },
  {
   "cell_type": "code",
   "execution_count": 14,
   "metadata": {},
   "outputs": [
    {
     "data": {
      "image/png": "[encoded data removed]",
      "text/plain": [
       "<Figure size 576x432 with 1 Axes>"
      ]
     },
     "metadata": {
      "needs_background": "light"
     },
     "output_type": "display_data"
    },
    {
     "data": {
      "image/png": "[encoded data removed]",
      "text/plain": [
       "<Figure size 576x432 with 1 Axes>"
      ]
     },
     "metadata": {
      "needs_background": "light"
     },
     "output_type": "display_data"
    },
    {
     "data": {
      "image/png": "[encoded data removed]",
      "text/plain": [
       "<Figure size 576x432 with 1 Axes>"
      ]
     },
     "metadata": {
      "needs_background": "light"
     },
     "output_type": "display_data"
    },
    {
     "data": {
      "image/png": "[encoded data removed]",
      "text/plain": [
       "<Figure size 576x432 with 1 Axes>"
      ]
     },
     "metadata": {
      "needs_background": "light"
     },
     "output_type": "display_data"
    }
   ],
   "source": [
    "for col in cat:\n",
    "    table = pd.crosstab(df[col],df['Exited'],margins=True)\n",
    "    dropout_rate = table[1]/table['All']\n",
    "    plt.figure(figsize=(8,6))\n",
    "    sns.barplot(dropout_rate.index,dropout_rate.values)\n",
    "    plt.show()"
   ]
  },
  {
   "cell_type": "markdown",
   "metadata": {},
   "source": [
    "- Germany customers tend to leave bank\n",
    "- Female customers tend to leave bank\n",
    "- CreditCard ownership doesn't impact exit behaviour\n",
    "- Unactive member tend to leave bank"
   ]
  },
  {
   "cell_type": "code",
   "execution_count": 15,
   "metadata": {},
   "outputs": [
    {
     "data": {
      "image/png": "[encoded data removed]",
      "text/plain": [
       "<Figure size 576x432 with 2 Axes>"
      ]
     },
     "metadata": {
      "needs_background": "light"
     },
     "output_type": "display_data"
    }
   ],
   "source": [
    "cor=df.corr()\n",
    "plt.figure(figsize=(8,6))\n",
    "ax=sns.heatmap(cor,annot=True,cmap='coolwarm')\n",
    "bot,top = ax.get_ylim()\n",
    "ax.set_ylim(bot+0.5, top-0.5)\n",
    "plt.show()"
   ]
  },
  {
   "cell_type": "markdown",
   "metadata": {},
   "source": [
    "Logistic regression is linear model to modelling classification problem. So we need to know the linear correlation among features first.\n",
    "- bad correlation: CreditScore, Tenure, NumOfProducts, HasCrCard, EstimatedSalary\n",
    "- good correlation: Age, Balance, IsActiveMember\n",
    "\n",
    "Among all 8 numeric features 3 of them are good correlation, the rest 5 are bad correlation. None of them are very good correlation. In general, can be concluded that the linear correlation is not quite good. It means the pattern generally is not linear. "
   ]
  },
  {
   "cell_type": "markdown",
   "metadata": {},
   "source": [
    "#### ANOVA \n",
    "ANOVA - Analysis of variance – compare means / variation in two or more samples\n",
    "\n",
    "Sample1 – an array having data of age of customers who left the bank\n",
    "\n",
    "Sample2 – an array having data of age of customers who didn't leave the bank\n",
    "*************************************************************\n",
    " \n",
    "\n",
    " \n",
    "\n",
    "**For ANOVA -**  \n",
    "\n",
    "Null Hypothesis – H0 = means of two samples are similar to each other\n",
    "\n",
    "Alternate Hypothesis – Ha = means of two samples are different than each other\n",
    " \n",
    "\n",
    " \n",
    "\n",
    "- If the business confidence is = 95% = 0.95 \n",
    "\n",
    "- Significance level = 5% = 0.05 \n",
    "\n",
    " ******************************\n",
    "\n",
    " \n",
    "\n",
    "If pvalue > 0.05 = we accept the H0 (Null Hypothesis) = feature is not important  \n",
    "\n",
    "If pvalue <0.05 = we reject the H0 (Null Hypothesis) = feature is important "
   ]
  },
  {
   "cell_type": "code",
   "execution_count": 16,
   "metadata": {},
   "outputs": [
    {
     "name": "stdout",
     "output_type": "stream",
     "text": [
      "CreditScore 0.006738213892205324\n",
      "Age 1.2399313093459443e-186\n",
      "Tenure 0.1615268494946745\n",
      "Balance 1.2755633191546494e-32\n",
      "NumOfProducts 1.717333004806199e-06\n",
      "EstimatedSalary 0.22644042802263928\n"
     ]
    }
   ],
   "source": [
    "x = df[num]\n",
    "y = df.Exited\n",
    "\n",
    "from sklearn.feature_selection import f_regression\n",
    "fvalue,pval = f_regression(x,y)\n",
    "for i in range(len(x.columns)):\n",
    "    print(x.columns[i],pval[i]) "
   ]
  },
  {
   "cell_type": "markdown",
   "metadata": {},
   "source": [
    "Assuming business confidence is 95%.\n",
    "- CreditScore, Age, Balance, NumofProducts: important features\n",
    "- Tenure, EstimatedSalary : unimportant features"
   ]
  },
  {
   "cell_type": "markdown",
   "metadata": {},
   "source": [
    "#### Chi Square Test \n",
    "Chi Square Test - comparison of distribution of categories among multiple groups\n",
    "\n",
    "It is widely used in categorical data\n",
    "\n",
    "Sample1 – distribution of geography for customers who left\n",
    "\n",
    "Sample2 – distrbution of geography for customers who didn't leave\n",
    "*************************************************************\n",
    " \n",
    "\n",
    " \n",
    "\n",
    "**For Chi Square -**  \n",
    "\n",
    "Null Hypothesis – H0 = two groups have similar distribution \n",
    "\n",
    "Alternate Hypothesis – Ha = two groups have different distribution.\n",
    " \n",
    "\n",
    " \n",
    "\n",
    "- If the business confidence is = 95% = 0.95 \n",
    "\n",
    "- Significance level = 5% = 0.05 \n",
    "\n",
    " ******************************\n",
    "\n",
    " \n",
    "\n",
    "If pvalue > 0.05 = we accept the H0 (Null Hypothesis) = feature is not important  \n",
    "\n",
    "If pvalue <0.05 = we reject the H0 (Null Hypothesis) = feature is important "
   ]
  },
  {
   "cell_type": "code",
   "execution_count": 17,
   "metadata": {},
   "outputs": [
    {
     "name": "stdout",
     "output_type": "stream",
     "text": [
      "Geography   0.0005756078382573235\n",
      "Gender   7.015574513879596e-13\n",
      "HasCrCard   0.6984962089530451\n",
      "IsActiveMember   1.568036240543455e-27\n"
     ]
    },
    {
     "name": "stderr",
     "output_type": "stream",
     "text": [
      "C:\\Users\\Juanda\\anaconda3\\lib\\site-packages\\pandas\\core\\generic.py:5303: SettingWithCopyWarning: \n",
      "A value is trying to be set on a copy of a slice from a DataFrame.\n",
      "Try using .loc[row_indexer,col_indexer] = value instead\n",
      "\n",
      "See the caveats in the documentation: https://pandas.pydata.org/pandas-docs/stable/user_guide/indexing.html#returning-a-view-versus-a-copy\n",
      "  self[name] = value\n"
     ]
    }
   ],
   "source": [
    "xcat = df[cat]\n",
    "from sklearn.preprocessing import LabelEncoder\n",
    "xcat.Geography = LabelEncoder().fit_transform(xcat.Geography)\n",
    "xcat.Gender = LabelEncoder().fit_transform(xcat.Gender)\n",
    "\n",
    "from sklearn.feature_selection import chi2\n",
    "cval,pval = chi2(xcat,y)\n",
    "for i in range(len(cat)):\n",
    "    print(cat[i],' ',pval[i])"
   ]
  },
  {
   "cell_type": "markdown",
   "metadata": {},
   "source": [
    "HasCrCard is unimportant feature"
   ]
  },
  {
   "cell_type": "code",
   "execution_count": 18,
   "metadata": {},
   "outputs": [],
   "source": [
    "#encoding categorical values\n",
    "from sklearn.preprocessing import LabelEncoder,OneHotEncoder\n",
    "from sklearn.compose import ColumnTransformer"
   ]
  },
  {
   "cell_type": "code",
   "execution_count": 19,
   "metadata": {},
   "outputs": [
    {
     "data": {
      "text/plain": [
       "Index(['CreditScore', 'Geography', 'Gender', 'Age', 'Tenure', 'Balance',\n",
       "       'NumOfProducts', 'HasCrCard', 'IsActiveMember', 'EstimatedSalary',\n",
       "       'Exited'],\n",
       "      dtype='object')"
      ]
     },
     "execution_count": 19,
     "metadata": {},
     "output_type": "execute_result"
    }
   ],
   "source": [
    "df.columns"
   ]
  },
  {
   "cell_type": "code",
   "execution_count": 20,
   "metadata": {},
   "outputs": [],
   "source": [
    "x= df.drop(['Exited','Tenure','HasCrCard','EstimatedSalary'],axis=1)\n",
    "y=df.Exited"
   ]
  },
  {
   "cell_type": "code",
   "execution_count": 21,
   "metadata": {},
   "outputs": [
    {
     "data": {
      "text/html": [
       "<div>\n",
       "<style scoped>\n",
       "    .dataframe tbody tr th:only-of-type {\n",
       "        vertical-align: middle;\n",
       "    }\n",
       "\n",
       "    .dataframe tbody tr th {\n",
       "        vertical-align: top;\n",
       "    }\n",
       "\n",
       "    .dataframe thead th {\n",
       "        text-align: right;\n",
       "    }\n",
       "</style>\n",
       "<table border=\"1\" class=\"dataframe\">\n",
       "  <thead>\n",
       "    <tr style=\"text-align: right;\">\n",
       "      <th></th>\n",
       "      <th>CreditScore</th>\n",
       "      <th>Geography</th>\n",
       "      <th>Gender</th>\n",
       "      <th>Age</th>\n",
       "      <th>Balance</th>\n",
       "      <th>NumOfProducts</th>\n",
       "      <th>IsActiveMember</th>\n",
       "    </tr>\n",
       "  </thead>\n",
       "  <tbody>\n",
       "    <tr>\n",
       "      <th>0</th>\n",
       "      <td>619</td>\n",
       "      <td>France</td>\n",
       "      <td>0</td>\n",
       "      <td>42</td>\n",
       "      <td>0.00</td>\n",
       "      <td>1</td>\n",
       "      <td>1</td>\n",
       "    </tr>\n",
       "    <tr>\n",
       "      <th>1</th>\n",
       "      <td>608</td>\n",
       "      <td>Spain</td>\n",
       "      <td>0</td>\n",
       "      <td>41</td>\n",
       "      <td>83807.86</td>\n",
       "      <td>1</td>\n",
       "      <td>1</td>\n",
       "    </tr>\n",
       "    <tr>\n",
       "      <th>2</th>\n",
       "      <td>502</td>\n",
       "      <td>France</td>\n",
       "      <td>0</td>\n",
       "      <td>42</td>\n",
       "      <td>159660.80</td>\n",
       "      <td>3</td>\n",
       "      <td>0</td>\n",
       "    </tr>\n",
       "    <tr>\n",
       "      <th>3</th>\n",
       "      <td>699</td>\n",
       "      <td>France</td>\n",
       "      <td>0</td>\n",
       "      <td>39</td>\n",
       "      <td>0.00</td>\n",
       "      <td>2</td>\n",
       "      <td>0</td>\n",
       "    </tr>\n",
       "    <tr>\n",
       "      <th>4</th>\n",
       "      <td>850</td>\n",
       "      <td>Spain</td>\n",
       "      <td>0</td>\n",
       "      <td>43</td>\n",
       "      <td>125510.82</td>\n",
       "      <td>1</td>\n",
       "      <td>1</td>\n",
       "    </tr>\n",
       "    <tr>\n",
       "      <th>5</th>\n",
       "      <td>645</td>\n",
       "      <td>Spain</td>\n",
       "      <td>1</td>\n",
       "      <td>44</td>\n",
       "      <td>113755.78</td>\n",
       "      <td>2</td>\n",
       "      <td>0</td>\n",
       "    </tr>\n",
       "  </tbody>\n",
       "</table>\n",
       "</div>"
      ],
      "text/plain": [
       "   CreditScore Geography  Gender  Age    Balance  NumOfProducts  \\\n",
       "0          619    France       0   42       0.00              1   \n",
       "1          608     Spain       0   41   83807.86              1   \n",
       "2          502    France       0   42  159660.80              3   \n",
       "3          699    France       0   39       0.00              2   \n",
       "4          850     Spain       0   43  125510.82              1   \n",
       "5          645     Spain       1   44  113755.78              2   \n",
       "\n",
       "   IsActiveMember  \n",
       "0               1  \n",
       "1               1  \n",
       "2               0  \n",
       "3               0  \n",
       "4               1  \n",
       "5               0  "
      ]
     },
     "execution_count": 21,
     "metadata": {},
     "output_type": "execute_result"
    }
   ],
   "source": [
    "#for gender\n",
    "le=LabelEncoder()\n",
    "x.Gender = le.fit_transform(x.Gender)\n",
    "x.head(6)"
   ]
  },
  {
   "cell_type": "code",
   "execution_count": 22,
   "metadata": {},
   "outputs": [
    {
     "data": {
      "text/html": [
       "<div>\n",
       "<style scoped>\n",
       "    .dataframe tbody tr th:only-of-type {\n",
       "        vertical-align: middle;\n",
       "    }\n",
       "\n",
       "    .dataframe tbody tr th {\n",
       "        vertical-align: top;\n",
       "    }\n",
       "\n",
       "    .dataframe thead th {\n",
       "        text-align: right;\n",
       "    }\n",
       "</style>\n",
       "<table border=\"1\" class=\"dataframe\">\n",
       "  <thead>\n",
       "    <tr style=\"text-align: right;\">\n",
       "      <th></th>\n",
       "      <th>0</th>\n",
       "      <th>1</th>\n",
       "      <th>2</th>\n",
       "      <th>3</th>\n",
       "      <th>4</th>\n",
       "      <th>5</th>\n",
       "      <th>6</th>\n",
       "      <th>7</th>\n",
       "      <th>8</th>\n",
       "    </tr>\n",
       "  </thead>\n",
       "  <tbody>\n",
       "    <tr>\n",
       "      <th>0</th>\n",
       "      <td>1.0</td>\n",
       "      <td>0.0</td>\n",
       "      <td>0.0</td>\n",
       "      <td>619.0</td>\n",
       "      <td>0.0</td>\n",
       "      <td>42.0</td>\n",
       "      <td>0.00</td>\n",
       "      <td>1.0</td>\n",
       "      <td>1.0</td>\n",
       "    </tr>\n",
       "    <tr>\n",
       "      <th>1</th>\n",
       "      <td>0.0</td>\n",
       "      <td>0.0</td>\n",
       "      <td>1.0</td>\n",
       "      <td>608.0</td>\n",
       "      <td>0.0</td>\n",
       "      <td>41.0</td>\n",
       "      <td>83807.86</td>\n",
       "      <td>1.0</td>\n",
       "      <td>1.0</td>\n",
       "    </tr>\n",
       "    <tr>\n",
       "      <th>2</th>\n",
       "      <td>1.0</td>\n",
       "      <td>0.0</td>\n",
       "      <td>0.0</td>\n",
       "      <td>502.0</td>\n",
       "      <td>0.0</td>\n",
       "      <td>42.0</td>\n",
       "      <td>159660.80</td>\n",
       "      <td>3.0</td>\n",
       "      <td>0.0</td>\n",
       "    </tr>\n",
       "    <tr>\n",
       "      <th>3</th>\n",
       "      <td>1.0</td>\n",
       "      <td>0.0</td>\n",
       "      <td>0.0</td>\n",
       "      <td>699.0</td>\n",
       "      <td>0.0</td>\n",
       "      <td>39.0</td>\n",
       "      <td>0.00</td>\n",
       "      <td>2.0</td>\n",
       "      <td>0.0</td>\n",
       "    </tr>\n",
       "    <tr>\n",
       "      <th>4</th>\n",
       "      <td>0.0</td>\n",
       "      <td>0.0</td>\n",
       "      <td>1.0</td>\n",
       "      <td>850.0</td>\n",
       "      <td>0.0</td>\n",
       "      <td>43.0</td>\n",
       "      <td>125510.82</td>\n",
       "      <td>1.0</td>\n",
       "      <td>1.0</td>\n",
       "    </tr>\n",
       "  </tbody>\n",
       "</table>\n",
       "</div>"
      ],
      "text/plain": [
       "     0    1    2      3    4     5          6    7    8\n",
       "0  1.0  0.0  0.0  619.0  0.0  42.0       0.00  1.0  1.0\n",
       "1  0.0  0.0  1.0  608.0  0.0  41.0   83807.86  1.0  1.0\n",
       "2  1.0  0.0  0.0  502.0  0.0  42.0  159660.80  3.0  0.0\n",
       "3  1.0  0.0  0.0  699.0  0.0  39.0       0.00  2.0  0.0\n",
       "4  0.0  0.0  1.0  850.0  0.0  43.0  125510.82  1.0  1.0"
      ]
     },
     "execution_count": 22,
     "metadata": {},
     "output_type": "execute_result"
    }
   ],
   "source": [
    "#encoding geography\n",
    "from sklearn.preprocessing import StandardScaler \n",
    "encoder = ColumnTransformer([('ohe',OneHotEncoder(),[1])],remainder='passthrough')\n",
    "x2 = encoder.fit_transform(x)\n",
    "x2 = pd.DataFrame(x2)\n",
    "x2.head()"
   ]
  },
  {
   "cell_type": "markdown",
   "metadata": {},
   "source": [
    "## 5. Preprocessing of Data"
   ]
  },
  {
   "cell_type": "code",
   "execution_count": 23,
   "metadata": {},
   "outputs": [],
   "source": [
    "from sklearn.model_selection import train_test_split\n",
    "xtrain,xtest,ytrain,ytest=train_test_split(x2,y,test_size=0.2, random_state=5)"
   ]
  },
  {
   "cell_type": "markdown",
   "metadata": {},
   "source": [
    "## 6. Apply Machine Learning Algorithm - Logistic Regression"
   ]
  },
  {
   "cell_type": "code",
   "execution_count": 24,
   "metadata": {},
   "outputs": [],
   "source": [
    "from sklearn.linear_model import LogisticRegression\n",
    "model = LogisticRegression()"
   ]
  },
  {
   "cell_type": "code",
   "execution_count": 25,
   "metadata": {},
   "outputs": [
    {
     "data": {
      "text/plain": [
       "LogisticRegression(C=1.0, class_weight=None, dual=False, fit_intercept=True,\n",
       "                   intercept_scaling=1, l1_ratio=None, max_iter=100,\n",
       "                   multi_class='auto', n_jobs=None, penalty='l2',\n",
       "                   random_state=None, solver='lbfgs', tol=0.0001, verbose=0,\n",
       "                   warm_start=False)"
      ]
     },
     "execution_count": 25,
     "metadata": {},
     "output_type": "execute_result"
    }
   ],
   "source": [
    "model.fit(xtrain,ytrain)"
   ]
  },
  {
   "cell_type": "code",
   "execution_count": 26,
   "metadata": {},
   "outputs": [
    {
     "data": {
      "text/plain": [
       "array([1], dtype=int64)"
      ]
     },
     "execution_count": 26,
     "metadata": {},
     "output_type": "execute_result"
    }
   ],
   "source": [
    "new_customer = [[650,'Germany',1,51,456125,3,1]]\n",
    "new_customer = encoder.transform(new_customer)\n",
    "model.predict(new_customer)"
   ]
  },
  {
   "cell_type": "markdown",
   "metadata": {},
   "source": [
    "## 7. Performance Analysis - Logistic Regression"
   ]
  },
  {
   "cell_type": "code",
   "execution_count": 27,
   "metadata": {},
   "outputs": [
    {
     "data": {
      "text/plain": [
       "0.792"
      ]
     },
     "execution_count": 27,
     "metadata": {},
     "output_type": "execute_result"
    }
   ],
   "source": [
    "#accuracy score is used to measure the exactness of predicted to the actual value\n",
    "#0.90 means 90% of predicted value have exactly value with actual\n",
    "#it is usually used in classification problem\n",
    "ypred = model.predict(xtest)\n",
    "from sklearn import metrics\n",
    "metrics.accuracy_score(ytest,ypred)"
   ]
  },
  {
   "cell_type": "markdown",
   "metadata": {},
   "source": [
    "### Relevant Accuracy\n",
    "<img src ='images/relevant_accuracy.png'>"
   ]
  },
  {
   "cell_type": "code",
   "execution_count": 28,
   "metadata": {},
   "outputs": [
    {
     "data": {
      "text/plain": [
       "0.05185185185185185"
      ]
     },
     "execution_count": 28,
     "metadata": {},
     "output_type": "execute_result"
    }
   ],
   "source": [
    "metrics.recall_score(ytest,ypred)"
   ]
  },
  {
   "cell_type": "markdown",
   "metadata": {},
   "source": [
    "from 79% accuracy, only 5% is useful to business\n",
    "\n",
    "The objective of the machine is to identify customers who are more likely to leave. This result mean machine is able to correctly identify 5% of leaving customer from actual data as predicted leaving customer."
   ]
  },
  {
   "cell_type": "markdown",
   "metadata": {},
   "source": [
    "<img src ='images/confusion.png'>"
   ]
  },
  {
   "cell_type": "code",
   "execution_count": 29,
   "metadata": {},
   "outputs": [
    {
     "data": {
      "text/plain": [
       "array([[1563,   32],\n",
       "       [ 384,   21]], dtype=int64)"
      ]
     },
     "execution_count": 29,
     "metadata": {},
     "output_type": "execute_result"
    }
   ],
   "source": [
    "metrics.confusion_matrix(ytest,ypred)"
   ]
  },
  {
   "cell_type": "code",
   "execution_count": 30,
   "metadata": {},
   "outputs": [
    {
     "data": {
      "text/plain": [
       "0.09170305676855894"
      ]
     },
     "execution_count": 30,
     "metadata": {},
     "output_type": "execute_result"
    }
   ],
   "source": [
    "metrics.f1_score(ytest,ypred)"
   ]
  },
  {
   "cell_type": "markdown",
   "metadata": {},
   "source": [
    "what is the meaning of f1 score?"
   ]
  },
  {
   "cell_type": "markdown",
   "metadata": {},
   "source": [
    "### Bias in high scale features\n",
    "Balance has higher scale than Age and CreditScore. Mathematically, Balance impact more in calculation. But, based on statistic analysis, Age is more impacting than Balance to the target (Exited). It cause bias in model building. To handle it, we can build othe approach which bring features to the same scale.\n",
    "<img src ='images/feature_scaling.jpg'>"
   ]
  },
  {
   "cell_type": "code",
   "execution_count": 31,
   "metadata": {},
   "outputs": [
    {
     "data": {
      "text/html": [
       "<div>\n",
       "<style scoped>\n",
       "    .dataframe tbody tr th:only-of-type {\n",
       "        vertical-align: middle;\n",
       "    }\n",
       "\n",
       "    .dataframe tbody tr th {\n",
       "        vertical-align: top;\n",
       "    }\n",
       "\n",
       "    .dataframe thead th {\n",
       "        text-align: right;\n",
       "    }\n",
       "</style>\n",
       "<table border=\"1\" class=\"dataframe\">\n",
       "  <thead>\n",
       "    <tr style=\"text-align: right;\">\n",
       "      <th></th>\n",
       "      <th>CreditScore</th>\n",
       "      <th>Geography</th>\n",
       "      <th>Gender</th>\n",
       "      <th>Age</th>\n",
       "      <th>Balance</th>\n",
       "      <th>NumOfProducts</th>\n",
       "      <th>IsActiveMember</th>\n",
       "    </tr>\n",
       "  </thead>\n",
       "  <tbody>\n",
       "    <tr>\n",
       "      <th>0</th>\n",
       "      <td>619</td>\n",
       "      <td>France</td>\n",
       "      <td>0</td>\n",
       "      <td>42</td>\n",
       "      <td>0.00</td>\n",
       "      <td>1</td>\n",
       "      <td>1</td>\n",
       "    </tr>\n",
       "    <tr>\n",
       "      <th>1</th>\n",
       "      <td>608</td>\n",
       "      <td>Spain</td>\n",
       "      <td>0</td>\n",
       "      <td>41</td>\n",
       "      <td>83807.86</td>\n",
       "      <td>1</td>\n",
       "      <td>1</td>\n",
       "    </tr>\n",
       "    <tr>\n",
       "      <th>2</th>\n",
       "      <td>502</td>\n",
       "      <td>France</td>\n",
       "      <td>0</td>\n",
       "      <td>42</td>\n",
       "      <td>159660.80</td>\n",
       "      <td>3</td>\n",
       "      <td>0</td>\n",
       "    </tr>\n",
       "    <tr>\n",
       "      <th>3</th>\n",
       "      <td>699</td>\n",
       "      <td>France</td>\n",
       "      <td>0</td>\n",
       "      <td>39</td>\n",
       "      <td>0.00</td>\n",
       "      <td>2</td>\n",
       "      <td>0</td>\n",
       "    </tr>\n",
       "    <tr>\n",
       "      <th>4</th>\n",
       "      <td>850</td>\n",
       "      <td>Spain</td>\n",
       "      <td>0</td>\n",
       "      <td>43</td>\n",
       "      <td>125510.82</td>\n",
       "      <td>1</td>\n",
       "      <td>1</td>\n",
       "    </tr>\n",
       "  </tbody>\n",
       "</table>\n",
       "</div>"
      ],
      "text/plain": [
       "   CreditScore Geography  Gender  Age    Balance  NumOfProducts  \\\n",
       "0          619    France       0   42       0.00              1   \n",
       "1          608     Spain       0   41   83807.86              1   \n",
       "2          502    France       0   42  159660.80              3   \n",
       "3          699    France       0   39       0.00              2   \n",
       "4          850     Spain       0   43  125510.82              1   \n",
       "\n",
       "   IsActiveMember  \n",
       "0               1  \n",
       "1               1  \n",
       "2               0  \n",
       "3               0  \n",
       "4               1  "
      ]
     },
     "execution_count": 31,
     "metadata": {},
     "output_type": "execute_result"
    }
   ],
   "source": [
    "x.head()"
   ]
  },
  {
   "cell_type": "code",
   "execution_count": 32,
   "metadata": {},
   "outputs": [
    {
     "data": {
      "text/html": [
       "<div>\n",
       "<style scoped>\n",
       "    .dataframe tbody tr th:only-of-type {\n",
       "        vertical-align: middle;\n",
       "    }\n",
       "\n",
       "    .dataframe tbody tr th {\n",
       "        vertical-align: top;\n",
       "    }\n",
       "\n",
       "    .dataframe thead th {\n",
       "        text-align: right;\n",
       "    }\n",
       "</style>\n",
       "<table border=\"1\" class=\"dataframe\">\n",
       "  <thead>\n",
       "    <tr style=\"text-align: right;\">\n",
       "      <th></th>\n",
       "      <th>0</th>\n",
       "      <th>1</th>\n",
       "      <th>2</th>\n",
       "      <th>3</th>\n",
       "      <th>4</th>\n",
       "      <th>5</th>\n",
       "      <th>6</th>\n",
       "      <th>7</th>\n",
       "      <th>8</th>\n",
       "    </tr>\n",
       "  </thead>\n",
       "  <tbody>\n",
       "    <tr>\n",
       "      <th>0</th>\n",
       "      <td>1.0</td>\n",
       "      <td>0.0</td>\n",
       "      <td>0.0</td>\n",
       "      <td>-0.326221</td>\n",
       "      <td>0.293517</td>\n",
       "      <td>-1.225848</td>\n",
       "      <td>-0.911583</td>\n",
       "      <td>0.0</td>\n",
       "      <td>1.0</td>\n",
       "    </tr>\n",
       "    <tr>\n",
       "      <th>1</th>\n",
       "      <td>0.0</td>\n",
       "      <td>0.0</td>\n",
       "      <td>1.0</td>\n",
       "      <td>-0.440036</td>\n",
       "      <td>0.198164</td>\n",
       "      <td>0.117350</td>\n",
       "      <td>-0.911583</td>\n",
       "      <td>0.0</td>\n",
       "      <td>1.0</td>\n",
       "    </tr>\n",
       "    <tr>\n",
       "      <th>2</th>\n",
       "      <td>1.0</td>\n",
       "      <td>0.0</td>\n",
       "      <td>0.0</td>\n",
       "      <td>-1.536794</td>\n",
       "      <td>0.293517</td>\n",
       "      <td>1.333053</td>\n",
       "      <td>2.527057</td>\n",
       "      <td>0.0</td>\n",
       "      <td>0.0</td>\n",
       "    </tr>\n",
       "    <tr>\n",
       "      <th>3</th>\n",
       "      <td>1.0</td>\n",
       "      <td>0.0</td>\n",
       "      <td>0.0</td>\n",
       "      <td>0.501521</td>\n",
       "      <td>0.007457</td>\n",
       "      <td>-1.225848</td>\n",
       "      <td>0.807737</td>\n",
       "      <td>0.0</td>\n",
       "      <td>0.0</td>\n",
       "    </tr>\n",
       "    <tr>\n",
       "      <th>4</th>\n",
       "      <td>0.0</td>\n",
       "      <td>0.0</td>\n",
       "      <td>1.0</td>\n",
       "      <td>2.063884</td>\n",
       "      <td>0.388871</td>\n",
       "      <td>0.785728</td>\n",
       "      <td>-0.911583</td>\n",
       "      <td>0.0</td>\n",
       "      <td>1.0</td>\n",
       "    </tr>\n",
       "  </tbody>\n",
       "</table>\n",
       "</div>"
      ],
      "text/plain": [
       "     0    1    2         3         4         5         6    7    8\n",
       "0  1.0  0.0  0.0 -0.326221  0.293517 -1.225848 -0.911583  0.0  1.0\n",
       "1  0.0  0.0  1.0 -0.440036  0.198164  0.117350 -0.911583  0.0  1.0\n",
       "2  1.0  0.0  0.0 -1.536794  0.293517  1.333053  2.527057  0.0  0.0\n",
       "3  1.0  0.0  0.0  0.501521  0.007457 -1.225848  0.807737  0.0  0.0\n",
       "4  0.0  0.0  1.0  2.063884  0.388871  0.785728 -0.911583  0.0  1.0"
      ]
     },
     "execution_count": 32,
     "metadata": {},
     "output_type": "execute_result"
    }
   ],
   "source": [
    "#standardize scale of features\n",
    "encoder = ColumnTransformer([('ohe',OneHotEncoder(),[1]),\n",
    "                            ('sc',StandardScaler(),[0,3,4,5])],remainder='passthrough')\n",
    "x2 = encoder.fit_transform(x)\n",
    "x2 = pd.DataFrame(x2)\n",
    "x2.head()"
   ]
  },
  {
   "cell_type": "markdown",
   "metadata": {},
   "source": [
    "# Decision Tree\n",
    "- is a non linear model\n",
    "- can be using for both regression and classification problems\n",
    "- for classification, it is also used for multiclass classification\n",
    "- very much interpretable model\n",
    "- easily overfit with data\n",
    "\n",
    "Entropy is amount of uncertainty present in any event\n",
    "<img src = 'images\\dectree.PNG'>\n",
    "Decision tree is choosing split that is leading entropy to zero (minimum)"
   ]
  },
  {
   "cell_type": "code",
   "execution_count": 33,
   "metadata": {},
   "outputs": [],
   "source": [
    "from sklearn.tree import DecisionTreeClassifier\n",
    "model2 = DecisionTreeClassifier(criterion='gini')"
   ]
  },
  {
   "cell_type": "code",
   "execution_count": 34,
   "metadata": {},
   "outputs": [
    {
     "data": {
      "text/plain": [
       "DecisionTreeClassifier(ccp_alpha=0.0, class_weight=None, criterion='gini',\n",
       "                       max_depth=None, max_features=None, max_leaf_nodes=None,\n",
       "                       min_impurity_decrease=0.0, min_impurity_split=None,\n",
       "                       min_samples_leaf=1, min_samples_split=2,\n",
       "                       min_weight_fraction_leaf=0.0, presort='deprecated',\n",
       "                       random_state=None, splitter='best')"
      ]
     },
     "execution_count": 34,
     "metadata": {},
     "output_type": "execute_result"
    }
   ],
   "source": [
    "model2.fit(xtrain,ytrain)"
   ]
  },
  {
   "cell_type": "code",
   "execution_count": 35,
   "metadata": {},
   "outputs": [
    {
     "name": "stdout",
     "output_type": "stream",
     "text": [
      "accuracy_score 0.7875\n",
      "recall_score 0.5185185185185185\n",
      "f1_score 0.4970414201183432\n"
     ]
    }
   ],
   "source": [
    "ypred = model2.predict(xtest)\n",
    "print('accuracy_score',metrics.accuracy_score(ytest,ypred))\n",
    "print('recall_score',metrics.recall_score(ytest,ypred))\n",
    "print('f1_score',metrics.f1_score(ytest,ypred))"
   ]
  },
  {
   "cell_type": "markdown",
   "metadata": {},
   "source": [
    "### Visualizing Decision Tree"
   ]
  },
  {
   "cell_type": "code",
   "execution_count": 36,
   "metadata": {},
   "outputs": [
    {
     "data": {
      "text/plain": [
       "(10000, 9)"
      ]
     },
     "execution_count": 36,
     "metadata": {},
     "output_type": "execute_result"
    }
   ],
   "source": [
    "# To visualize it, we need to remove the feature scaling\n",
    "encoder = ColumnTransformer([(\"ohe\",OneHotEncoder(),[1])],remainder='passthrough')\n",
    "encoder.fit(x)\n",
    "x2 = encoder.transform(x)\n",
    "x2.shape"
   ]
  },
  {
   "cell_type": "code",
   "execution_count": 37,
   "metadata": {},
   "outputs": [],
   "source": [
    "from sklearn.model_selection import train_test_split\n",
    "xtrain,xtest,ytrain,ytest=train_test_split(x2,y,test_size=0.2,random_state=5)"
   ]
  },
  {
   "cell_type": "code",
   "execution_count": 38,
   "metadata": {},
   "outputs": [
    {
     "data": {
      "text/plain": [
       "DecisionTreeClassifier(ccp_alpha=0.0, class_weight=None, criterion='gini',\n",
       "                       max_depth=8, max_features=None, max_leaf_nodes=30,\n",
       "                       min_impurity_decrease=0.0, min_impurity_split=None,\n",
       "                       min_samples_leaf=1, min_samples_split=2,\n",
       "                       min_weight_fraction_leaf=0.0, presort='deprecated',\n",
       "                       random_state=None, splitter='best')"
      ]
     },
     "execution_count": 38,
     "metadata": {},
     "output_type": "execute_result"
    }
   ],
   "source": [
    "#build new model\n",
    "model2 = DecisionTreeClassifier(criterion=\"gini\",max_depth=8,max_leaf_nodes=30)\n",
    "# train the model using train data - xtrain, ytrain\n",
    "model2.fit(xtrain,ytrain)"
   ]
  },
  {
   "cell_type": "code",
   "execution_count": 39,
   "metadata": {},
   "outputs": [
    {
     "name": "stdout",
     "output_type": "stream",
     "text": [
      "accuracy_score 0.855\n",
      "recall_score 0.43703703703703706\n",
      "f1_score 0.5496894409937889\n"
     ]
    }
   ],
   "source": [
    "ypred = model2.predict(xtest)\n",
    "print('accuracy_score',metrics.accuracy_score(ytest,ypred))\n",
    "print('recall_score',metrics.recall_score(ytest,ypred))\n",
    "print('f1_score',metrics.f1_score(ytest,ypred))"
   ]
  },
  {
   "cell_type": "code",
   "execution_count": 40,
   "metadata": {},
   "outputs": [
    {
     "data": {
      "image/svg+xml": [
       "<?xml version=\"1.0\" encoding=\"UTF-8\" standalone=\"no\"?>\r\n",
       "<!DOCTYPE svg PUBLIC \"-//W3C//DTD SVG 1.1//EN\"\r\n",
       " \"http://www.w3.org/Graphics/SVG/1.1/DTD/svg11.dtd\">\r\n",
       "<!-- Generated by graphviz version 2.38.0 (20140413.2041)\r\n",
       " -->\r\n",
       "<!-- Title: Tree Pages: 1 -->\r\n",
       "<svg width=\"2103pt\" height=\"1028pt\"\r\n",
       " viewBox=\"0.00 0.00 2103.00 1028.00\" xmlns=\"http://www.w3.org/2000/svg\" xmlns:xlink=\"http://www.w3.org/1999/xlink\">\r\n",
       "<g id=\"graph0\" class=\"graph\" transform=\"scale(1 1) rotate(0) translate(4 1024)\">\r\n",
       "<title>Tree</title>\r\n",
       "<polygon fill=\"white\" stroke=\"none\" points=\"-4,4 -4,-1024 2099,-1024 2099,4 -4,4\"/>\r\n",
       "<!-- 0 -->\r\n",
       "<g id=\"node1\" class=\"node\"><title>0</title>\r\n",
       "<path fill=\"#eca16c\" stroke=\"black\" d=\"M1185.5,-1020C1185.5,-1020 1063.5,-1020 1063.5,-1020 1057.5,-1020 1051.5,-1014 1051.5,-1008 1051.5,-1008 1051.5,-949 1051.5,-949 1051.5,-943 1057.5,-937 1063.5,-937 1063.5,-937 1185.5,-937 1185.5,-937 1191.5,-937 1197.5,-943 1197.5,-949 1197.5,-949 1197.5,-1008 1197.5,-1008 1197.5,-1014 1191.5,-1020 1185.5,-1020\"/>\r\n",
       "<text text-anchor=\"middle\" x=\"1124.5\" y=\"-1004.8\" font-family=\"Helvetica,sans-Serif\" font-size=\"14.00\">Age &lt;= 42.5</text>\r\n",
       "<text text-anchor=\"middle\" x=\"1124.5\" y=\"-989.8\" font-family=\"Helvetica,sans-Serif\" font-size=\"14.00\">gini = 0.325</text>\r\n",
       "<text text-anchor=\"middle\" x=\"1124.5\" y=\"-974.8\" font-family=\"Helvetica,sans-Serif\" font-size=\"14.00\">samples = 8000</text>\r\n",
       "<text text-anchor=\"middle\" x=\"1124.5\" y=\"-959.8\" font-family=\"Helvetica,sans-Serif\" font-size=\"14.00\">value = [6368, 1632]</text>\r\n",
       "<text text-anchor=\"middle\" x=\"1124.5\" y=\"-944.8\" font-family=\"Helvetica,sans-Serif\" font-size=\"14.00\">class = Not Exited</text>\r\n",
       "</g>\r\n",
       "<!-- 1 -->\r\n",
       "<g id=\"node2\" class=\"node\"><title>1</title>\r\n",
       "<path fill=\"#e89253\" stroke=\"black\" d=\"M1078,-901C1078,-901 939,-901 939,-901 933,-901 927,-895 927,-889 927,-889 927,-830 927,-830 927,-824 933,-818 939,-818 939,-818 1078,-818 1078,-818 1084,-818 1090,-824 1090,-830 1090,-830 1090,-889 1090,-889 1090,-895 1084,-901 1078,-901\"/>\r\n",
       "<text text-anchor=\"middle\" x=\"1008.5\" y=\"-885.8\" font-family=\"Helvetica,sans-Serif\" font-size=\"14.00\">NumOfProducts &lt;= 2.5</text>\r\n",
       "<text text-anchor=\"middle\" x=\"1008.5\" y=\"-870.8\" font-family=\"Helvetica,sans-Serif\" font-size=\"14.00\">gini = 0.207</text>\r\n",
       "<text text-anchor=\"middle\" x=\"1008.5\" y=\"-855.8\" font-family=\"Helvetica,sans-Serif\" font-size=\"14.00\">samples = 5681</text>\r\n",
       "<text text-anchor=\"middle\" x=\"1008.5\" y=\"-840.8\" font-family=\"Helvetica,sans-Serif\" font-size=\"14.00\">value = [5016, 665]</text>\r\n",
       "<text text-anchor=\"middle\" x=\"1008.5\" y=\"-825.8\" font-family=\"Helvetica,sans-Serif\" font-size=\"14.00\">class = Not Exited</text>\r\n",
       "</g>\r\n",
       "<!-- 0&#45;&gt;1 -->\r\n",
       "<g id=\"edge1\" class=\"edge\"><title>0&#45;&gt;1</title>\r\n",
       "<path fill=\"none\" stroke=\"black\" d=\"M1084.25,-936.907C1075.08,-927.651 1065.24,-917.732 1055.8,-908.209\"/>\r\n",
       "<polygon fill=\"black\" stroke=\"black\" points=\"1058.2,-905.658 1048.67,-901.021 1053.23,-910.586 1058.2,-905.658\"/>\r\n",
       "<text text-anchor=\"middle\" x=\"1048.57\" y=\"-922.321\" font-family=\"Helvetica,sans-Serif\" font-size=\"14.00\">True</text>\r\n",
       "</g>\r\n",
       "<!-- 2 -->\r\n",
       "<g id=\"node23\" class=\"node\"><title>2</title>\r\n",
       "<path fill=\"#f8dbc7\" stroke=\"black\" d=\"M1311.5,-901C1311.5,-901 1171.5,-901 1171.5,-901 1165.5,-901 1159.5,-895 1159.5,-889 1159.5,-889 1159.5,-830 1159.5,-830 1159.5,-824 1165.5,-818 1171.5,-818 1171.5,-818 1311.5,-818 1311.5,-818 1317.5,-818 1323.5,-824 1323.5,-830 1323.5,-830 1323.5,-889 1323.5,-889 1323.5,-895 1317.5,-901 1311.5,-901\"/>\r\n",
       "<text text-anchor=\"middle\" x=\"1241.5\" y=\"-885.8\" font-family=\"Helvetica,sans-Serif\" font-size=\"14.00\">IsActiveMember &lt;= 0.5</text>\r\n",
       "<text text-anchor=\"middle\" x=\"1241.5\" y=\"-870.8\" font-family=\"Helvetica,sans-Serif\" font-size=\"14.00\">gini = 0.486</text>\r\n",
       "<text text-anchor=\"middle\" x=\"1241.5\" y=\"-855.8\" font-family=\"Helvetica,sans-Serif\" font-size=\"14.00\">samples = 2319</text>\r\n",
       "<text text-anchor=\"middle\" x=\"1241.5\" y=\"-840.8\" font-family=\"Helvetica,sans-Serif\" font-size=\"14.00\">value = [1352, 967]</text>\r\n",
       "<text text-anchor=\"middle\" x=\"1241.5\" y=\"-825.8\" font-family=\"Helvetica,sans-Serif\" font-size=\"14.00\">class = Not Exited</text>\r\n",
       "</g>\r\n",
       "<!-- 0&#45;&gt;2 -->\r\n",
       "<g id=\"edge22\" class=\"edge\"><title>0&#45;&gt;2</title>\r\n",
       "<path fill=\"none\" stroke=\"black\" d=\"M1165.09,-936.907C1174.35,-927.651 1184.27,-917.732 1193.79,-908.209\"/>\r\n",
       "<polygon fill=\"black\" stroke=\"black\" points=\"1196.38,-910.567 1200.98,-901.021 1191.43,-905.617 1196.38,-910.567\"/>\r\n",
       "<text text-anchor=\"middle\" x=\"1200.98\" y=\"-922.321\" font-family=\"Helvetica,sans-Serif\" font-size=\"14.00\">False</text>\r\n",
       "</g>\r\n",
       "<!-- 5 -->\r\n",
       "<g id=\"node3\" class=\"node\"><title>5</title>\r\n",
       "<path fill=\"#e88f50\" stroke=\"black\" d=\"M846,-782C846,-782 707,-782 707,-782 701,-782 695,-776 695,-770 695,-770 695,-711 695,-711 695,-705 701,-699 707,-699 707,-699 846,-699 846,-699 852,-699 858,-705 858,-711 858,-711 858,-770 858,-770 858,-776 852,-782 846,-782\"/>\r\n",
       "<text text-anchor=\"middle\" x=\"776.5\" y=\"-766.8\" font-family=\"Helvetica,sans-Serif\" font-size=\"14.00\">NumOfProducts &lt;= 1.5</text>\r\n",
       "<text text-anchor=\"middle\" x=\"776.5\" y=\"-751.8\" font-family=\"Helvetica,sans-Serif\" font-size=\"14.00\">gini = 0.184</text>\r\n",
       "<text text-anchor=\"middle\" x=\"776.5\" y=\"-736.8\" font-family=\"Helvetica,sans-Serif\" font-size=\"14.00\">samples = 5556</text>\r\n",
       "<text text-anchor=\"middle\" x=\"776.5\" y=\"-721.8\" font-family=\"Helvetica,sans-Serif\" font-size=\"14.00\">value = [4985, 571]</text>\r\n",
       "<text text-anchor=\"middle\" x=\"776.5\" y=\"-706.8\" font-family=\"Helvetica,sans-Serif\" font-size=\"14.00\">class = Not Exited</text>\r\n",
       "</g>\r\n",
       "<!-- 1&#45;&gt;5 -->\r\n",
       "<g id=\"edge2\" class=\"edge\"><title>1&#45;&gt;5</title>\r\n",
       "<path fill=\"none\" stroke=\"black\" d=\"M928.009,-817.907C907.944,-807.789 886.311,-796.879 865.848,-786.559\"/>\r\n",
       "<polygon fill=\"black\" stroke=\"black\" points=\"867.354,-783.399 856.849,-782.021 864.202,-789.649 867.354,-783.399\"/>\r\n",
       "</g>\r\n",
       "<!-- 6 -->\r\n",
       "<g id=\"node20\" class=\"node\"><title>6</title>\r\n",
       "<path fill=\"#7abdee\" stroke=\"black\" d=\"M1077,-782C1077,-782 940,-782 940,-782 934,-782 928,-776 928,-770 928,-770 928,-711 928,-711 928,-705 934,-699 940,-699 940,-699 1077,-699 1077,-699 1083,-699 1089,-705 1089,-711 1089,-711 1089,-770 1089,-770 1089,-776 1083,-782 1077,-782\"/>\r\n",
       "<text text-anchor=\"middle\" x=\"1008.5\" y=\"-766.8\" font-family=\"Helvetica,sans-Serif\" font-size=\"14.00\">Balance &lt;= 62066.145</text>\r\n",
       "<text text-anchor=\"middle\" x=\"1008.5\" y=\"-751.8\" font-family=\"Helvetica,sans-Serif\" font-size=\"14.00\">gini = 0.373</text>\r\n",
       "<text text-anchor=\"middle\" x=\"1008.5\" y=\"-736.8\" font-family=\"Helvetica,sans-Serif\" font-size=\"14.00\">samples = 125</text>\r\n",
       "<text text-anchor=\"middle\" x=\"1008.5\" y=\"-721.8\" font-family=\"Helvetica,sans-Serif\" font-size=\"14.00\">value = [31, 94]</text>\r\n",
       "<text text-anchor=\"middle\" x=\"1008.5\" y=\"-706.8\" font-family=\"Helvetica,sans-Serif\" font-size=\"14.00\">class = Exited</text>\r\n",
       "</g>\r\n",
       "<!-- 1&#45;&gt;6 -->\r\n",
       "<g id=\"edge19\" class=\"edge\"><title>1&#45;&gt;6</title>\r\n",
       "<path fill=\"none\" stroke=\"black\" d=\"M1008.5,-817.907C1008.5,-809.649 1008.5,-800.864 1008.5,-792.302\"/>\r\n",
       "<polygon fill=\"black\" stroke=\"black\" points=\"1012,-792.021 1008.5,-782.021 1005,-792.021 1012,-792.021\"/>\r\n",
       "</g>\r\n",
       "<!-- 11 -->\r\n",
       "<g id=\"node4\" class=\"node\"><title>11</title>\r\n",
       "<path fill=\"#ea9a61\" stroke=\"black\" d=\"M583.5,-663C583.5,-663 469.5,-663 469.5,-663 463.5,-663 457.5,-657 457.5,-651 457.5,-651 457.5,-592 457.5,-592 457.5,-586 463.5,-580 469.5,-580 469.5,-580 583.5,-580 583.5,-580 589.5,-580 595.5,-586 595.5,-592 595.5,-592 595.5,-651 595.5,-651 595.5,-657 589.5,-663 583.5,-663\"/>\r\n",
       "<text text-anchor=\"middle\" x=\"526.5\" y=\"-647.8\" font-family=\"Helvetica,sans-Serif\" font-size=\"14.00\">Germany &lt;= 0.5</text>\r\n",
       "<text text-anchor=\"middle\" x=\"526.5\" y=\"-632.8\" font-family=\"Helvetica,sans-Serif\" font-size=\"14.00\">gini = 0.278</text>\r\n",
       "<text text-anchor=\"middle\" x=\"526.5\" y=\"-617.8\" font-family=\"Helvetica,sans-Serif\" font-size=\"14.00\">samples = 2762</text>\r\n",
       "<text text-anchor=\"middle\" x=\"526.5\" y=\"-602.8\" font-family=\"Helvetica,sans-Serif\" font-size=\"14.00\">value = [2302, 460]</text>\r\n",
       "<text text-anchor=\"middle\" x=\"526.5\" y=\"-587.8\" font-family=\"Helvetica,sans-Serif\" font-size=\"14.00\">class = Not Exited</text>\r\n",
       "</g>\r\n",
       "<!-- 5&#45;&gt;11 -->\r\n",
       "<g id=\"edge3\" class=\"edge\"><title>5&#45;&gt;11</title>\r\n",
       "<path fill=\"none\" stroke=\"black\" d=\"M694.987,-701.352C666.057,-687.813 633.578,-672.612 604.913,-659.197\"/>\r\n",
       "<polygon fill=\"black\" stroke=\"black\" points=\"606.29,-655.977 595.749,-654.909 603.323,-662.318 606.29,-655.977\"/>\r\n",
       "</g>\r\n",
       "<!-- 12 -->\r\n",
       "<g id=\"node19\" class=\"node\"><title>12</title>\r\n",
       "<path fill=\"#e68641\" stroke=\"black\" d=\"M833.5,-655.5C833.5,-655.5 719.5,-655.5 719.5,-655.5 713.5,-655.5 707.5,-649.5 707.5,-643.5 707.5,-643.5 707.5,-599.5 707.5,-599.5 707.5,-593.5 713.5,-587.5 719.5,-587.5 719.5,-587.5 833.5,-587.5 833.5,-587.5 839.5,-587.5 845.5,-593.5 845.5,-599.5 845.5,-599.5 845.5,-643.5 845.5,-643.5 845.5,-649.5 839.5,-655.5 833.5,-655.5\"/>\r\n",
       "<text text-anchor=\"middle\" x=\"776.5\" y=\"-640.3\" font-family=\"Helvetica,sans-Serif\" font-size=\"14.00\">gini = 0.076</text>\r\n",
       "<text text-anchor=\"middle\" x=\"776.5\" y=\"-625.3\" font-family=\"Helvetica,sans-Serif\" font-size=\"14.00\">samples = 2794</text>\r\n",
       "<text text-anchor=\"middle\" x=\"776.5\" y=\"-610.3\" font-family=\"Helvetica,sans-Serif\" font-size=\"14.00\">value = [2683, 111]</text>\r\n",
       "<text text-anchor=\"middle\" x=\"776.5\" y=\"-595.3\" font-family=\"Helvetica,sans-Serif\" font-size=\"14.00\">class = Not Exited</text>\r\n",
       "</g>\r\n",
       "<!-- 5&#45;&gt;12 -->\r\n",
       "<g id=\"edge18\" class=\"edge\"><title>5&#45;&gt;12</title>\r\n",
       "<path fill=\"none\" stroke=\"black\" d=\"M776.5,-698.907C776.5,-688.204 776.5,-676.615 776.5,-665.776\"/>\r\n",
       "<polygon fill=\"black\" stroke=\"black\" points=\"780,-665.667 776.5,-655.667 773,-665.667 780,-665.667\"/>\r\n",
       "</g>\r\n",
       "<!-- 23 -->\r\n",
       "<g id=\"node5\" class=\"node\"><title>23</title>\r\n",
       "<path fill=\"#e99558\" stroke=\"black\" d=\"M344,-544C344,-544 207,-544 207,-544 201,-544 195,-538 195,-532 195,-532 195,-473 195,-473 195,-467 201,-461 207,-461 207,-461 344,-461 344,-461 350,-461 356,-467 356,-473 356,-473 356,-532 356,-532 356,-538 350,-544 344,-544\"/>\r\n",
       "<text text-anchor=\"middle\" x=\"275.5\" y=\"-528.8\" font-family=\"Helvetica,sans-Serif\" font-size=\"14.00\">Balance &lt;= 74197.941</text>\r\n",
       "<text text-anchor=\"middle\" x=\"275.5\" y=\"-513.8\" font-family=\"Helvetica,sans-Serif\" font-size=\"14.00\">gini = 0.234</text>\r\n",
       "<text text-anchor=\"middle\" x=\"275.5\" y=\"-498.8\" font-family=\"Helvetica,sans-Serif\" font-size=\"14.00\">samples = 2087</text>\r\n",
       "<text text-anchor=\"middle\" x=\"275.5\" y=\"-483.8\" font-family=\"Helvetica,sans-Serif\" font-size=\"14.00\">value = [1804, 283]</text>\r\n",
       "<text text-anchor=\"middle\" x=\"275.5\" y=\"-468.8\" font-family=\"Helvetica,sans-Serif\" font-size=\"14.00\">class = Not Exited</text>\r\n",
       "</g>\r\n",
       "<!-- 11&#45;&gt;23 -->\r\n",
       "<g id=\"edge4\" class=\"edge\"><title>11&#45;&gt;23</title>\r\n",
       "<path fill=\"none\" stroke=\"black\" d=\"M457.249,-588.22C428.844,-574.979 395.593,-559.479 365.352,-545.383\"/>\r\n",
       "<polygon fill=\"black\" stroke=\"black\" points=\"366.615,-542.11 356.073,-541.058 363.657,-548.455 366.615,-542.11\"/>\r\n",
       "</g>\r\n",
       "<!-- 24 -->\r\n",
       "<g id=\"node12\" class=\"node\"><title>24</title>\r\n",
       "<path fill=\"#eeae7f\" stroke=\"black\" d=\"M580,-544C580,-544 473,-544 473,-544 467,-544 461,-538 461,-532 461,-532 461,-473 461,-473 461,-467 467,-461 473,-461 473,-461 580,-461 580,-461 586,-461 592,-467 592,-473 592,-473 592,-532 592,-532 592,-538 586,-544 580,-544\"/>\r\n",
       "<text text-anchor=\"middle\" x=\"526.5\" y=\"-528.8\" font-family=\"Helvetica,sans-Serif\" font-size=\"14.00\">Age &lt;= 33.5</text>\r\n",
       "<text text-anchor=\"middle\" x=\"526.5\" y=\"-513.8\" font-family=\"Helvetica,sans-Serif\" font-size=\"14.00\">gini = 0.387</text>\r\n",
       "<text text-anchor=\"middle\" x=\"526.5\" y=\"-498.8\" font-family=\"Helvetica,sans-Serif\" font-size=\"14.00\">samples = 675</text>\r\n",
       "<text text-anchor=\"middle\" x=\"526.5\" y=\"-483.8\" font-family=\"Helvetica,sans-Serif\" font-size=\"14.00\">value = [498, 177]</text>\r\n",
       "<text text-anchor=\"middle\" x=\"526.5\" y=\"-468.8\" font-family=\"Helvetica,sans-Serif\" font-size=\"14.00\">class = Not Exited</text>\r\n",
       "</g>\r\n",
       "<!-- 11&#45;&gt;24 -->\r\n",
       "<g id=\"edge11\" class=\"edge\"><title>11&#45;&gt;24</title>\r\n",
       "<path fill=\"none\" stroke=\"black\" d=\"M526.5,-579.907C526.5,-571.649 526.5,-562.864 526.5,-554.302\"/>\r\n",
       "<polygon fill=\"black\" stroke=\"black\" points=\"530,-554.021 526.5,-544.021 523,-554.021 530,-554.021\"/>\r\n",
       "</g>\r\n",
       "<!-- 25 -->\r\n",
       "<g id=\"node6\" class=\"node\"><title>25</title>\r\n",
       "<path fill=\"#edaa79\" stroke=\"black\" d=\"M160,-417.5C160,-417.5 53,-417.5 53,-417.5 47,-417.5 41,-411.5 41,-405.5 41,-405.5 41,-361.5 41,-361.5 41,-355.5 47,-349.5 53,-349.5 53,-349.5 160,-349.5 160,-349.5 166,-349.5 172,-355.5 172,-361.5 172,-361.5 172,-405.5 172,-405.5 172,-411.5 166,-417.5 160,-417.5\"/>\r\n",
       "<text text-anchor=\"middle\" x=\"106.5\" y=\"-402.3\" font-family=\"Helvetica,sans-Serif\" font-size=\"14.00\">gini = 0.37</text>\r\n",
       "<text text-anchor=\"middle\" x=\"106.5\" y=\"-387.3\" font-family=\"Helvetica,sans-Serif\" font-size=\"14.00\">samples = 556</text>\r\n",
       "<text text-anchor=\"middle\" x=\"106.5\" y=\"-372.3\" font-family=\"Helvetica,sans-Serif\" font-size=\"14.00\">value = [420, 136]</text>\r\n",
       "<text text-anchor=\"middle\" x=\"106.5\" y=\"-357.3\" font-family=\"Helvetica,sans-Serif\" font-size=\"14.00\">class = Not Exited</text>\r\n",
       "</g>\r\n",
       "<!-- 23&#45;&gt;25 -->\r\n",
       "<g id=\"edge5\" class=\"edge\"><title>23&#45;&gt;25</title>\r\n",
       "<path fill=\"none\" stroke=\"black\" d=\"M216.866,-460.907C199.334,-448.769 180.157,-435.493 162.779,-423.462\"/>\r\n",
       "<polygon fill=\"black\" stroke=\"black\" points=\"164.622,-420.481 154.408,-417.667 160.637,-426.237 164.622,-420.481\"/>\r\n",
       "</g>\r\n",
       "<!-- 26 -->\r\n",
       "<g id=\"node7\" class=\"node\"><title>26</title>\r\n",
       "<path fill=\"#e88e4e\" stroke=\"black\" d=\"M348.5,-425C348.5,-425 202.5,-425 202.5,-425 196.5,-425 190.5,-419 190.5,-413 190.5,-413 190.5,-354 190.5,-354 190.5,-348 196.5,-342 202.5,-342 202.5,-342 348.5,-342 348.5,-342 354.5,-342 360.5,-348 360.5,-354 360.5,-354 360.5,-413 360.5,-413 360.5,-419 354.5,-425 348.5,-425\"/>\r\n",
       "<text text-anchor=\"middle\" x=\"275.5\" y=\"-409.8\" font-family=\"Helvetica,sans-Serif\" font-size=\"14.00\">Balance &lt;= 177775.578</text>\r\n",
       "<text text-anchor=\"middle\" x=\"275.5\" y=\"-394.8\" font-family=\"Helvetica,sans-Serif\" font-size=\"14.00\">gini = 0.174</text>\r\n",
       "<text text-anchor=\"middle\" x=\"275.5\" y=\"-379.8\" font-family=\"Helvetica,sans-Serif\" font-size=\"14.00\">samples = 1531</text>\r\n",
       "<text text-anchor=\"middle\" x=\"275.5\" y=\"-364.8\" font-family=\"Helvetica,sans-Serif\" font-size=\"14.00\">value = [1384, 147]</text>\r\n",
       "<text text-anchor=\"middle\" x=\"275.5\" y=\"-349.8\" font-family=\"Helvetica,sans-Serif\" font-size=\"14.00\">class = Not Exited</text>\r\n",
       "</g>\r\n",
       "<!-- 23&#45;&gt;26 -->\r\n",
       "<g id=\"edge6\" class=\"edge\"><title>23&#45;&gt;26</title>\r\n",
       "<path fill=\"none\" stroke=\"black\" d=\"M275.5,-460.907C275.5,-452.649 275.5,-443.864 275.5,-435.302\"/>\r\n",
       "<polygon fill=\"black\" stroke=\"black\" points=\"279,-435.021 275.5,-425.021 272,-435.021 279,-435.021\"/>\r\n",
       "</g>\r\n",
       "<!-- 47 -->\r\n",
       "<g id=\"node8\" class=\"node\"><title>47</title>\r\n",
       "<path fill=\"#e78d4c\" stroke=\"black\" d=\"M187.5,-306C187.5,-306 57.5,-306 57.5,-306 51.5,-306 45.5,-300 45.5,-294 45.5,-294 45.5,-235 45.5,-235 45.5,-229 51.5,-223 57.5,-223 57.5,-223 187.5,-223 187.5,-223 193.5,-223 199.5,-229 199.5,-235 199.5,-235 199.5,-294 199.5,-294 199.5,-300 193.5,-306 187.5,-306\"/>\r\n",
       "<text text-anchor=\"middle\" x=\"122.5\" y=\"-290.8\" font-family=\"Helvetica,sans-Serif\" font-size=\"14.00\">CreditScore &lt;= 412.5</text>\r\n",
       "<text text-anchor=\"middle\" x=\"122.5\" y=\"-275.8\" font-family=\"Helvetica,sans-Serif\" font-size=\"14.00\">gini = 0.157</text>\r\n",
       "<text text-anchor=\"middle\" x=\"122.5\" y=\"-260.8\" font-family=\"Helvetica,sans-Serif\" font-size=\"14.00\">samples = 1474</text>\r\n",
       "<text text-anchor=\"middle\" x=\"122.5\" y=\"-245.8\" font-family=\"Helvetica,sans-Serif\" font-size=\"14.00\">value = [1347, 127]</text>\r\n",
       "<text text-anchor=\"middle\" x=\"122.5\" y=\"-230.8\" font-family=\"Helvetica,sans-Serif\" font-size=\"14.00\">class = Not Exited</text>\r\n",
       "</g>\r\n",
       "<!-- 26&#45;&gt;47 -->\r\n",
       "<g id=\"edge7\" class=\"edge\"><title>26&#45;&gt;47</title>\r\n",
       "<path fill=\"none\" stroke=\"black\" d=\"M222.417,-341.907C209.957,-332.379 196.578,-322.148 183.791,-312.37\"/>\r\n",
       "<polygon fill=\"black\" stroke=\"black\" points=\"185.558,-309.315 175.489,-306.021 181.306,-314.876 185.558,-309.315\"/>\r\n",
       "</g>\r\n",
       "<!-- 48 -->\r\n",
       "<g id=\"node11\" class=\"node\"><title>48</title>\r\n",
       "<path fill=\"#f3c5a4\" stroke=\"black\" d=\"M337,-298.5C337,-298.5 230,-298.5 230,-298.5 224,-298.5 218,-292.5 218,-286.5 218,-286.5 218,-242.5 218,-242.5 218,-236.5 224,-230.5 230,-230.5 230,-230.5 337,-230.5 337,-230.5 343,-230.5 349,-236.5 349,-242.5 349,-242.5 349,-286.5 349,-286.5 349,-292.5 343,-298.5 337,-298.5\"/>\r\n",
       "<text text-anchor=\"middle\" x=\"283.5\" y=\"-283.3\" font-family=\"Helvetica,sans-Serif\" font-size=\"14.00\">gini = 0.456</text>\r\n",
       "<text text-anchor=\"middle\" x=\"283.5\" y=\"-268.3\" font-family=\"Helvetica,sans-Serif\" font-size=\"14.00\">samples = 57</text>\r\n",
       "<text text-anchor=\"middle\" x=\"283.5\" y=\"-253.3\" font-family=\"Helvetica,sans-Serif\" font-size=\"14.00\">value = [37, 20]</text>\r\n",
       "<text text-anchor=\"middle\" x=\"283.5\" y=\"-238.3\" font-family=\"Helvetica,sans-Serif\" font-size=\"14.00\">class = Not Exited</text>\r\n",
       "</g>\r\n",
       "<!-- 26&#45;&gt;48 -->\r\n",
       "<g id=\"edge10\" class=\"edge\"><title>26&#45;&gt;48</title>\r\n",
       "<path fill=\"none\" stroke=\"black\" d=\"M278.276,-341.907C279.007,-331.204 279.8,-319.615 280.541,-308.776\"/>\r\n",
       "<polygon fill=\"black\" stroke=\"black\" points=\"284.042,-308.882 281.232,-298.667 277.058,-308.405 284.042,-308.882\"/>\r\n",
       "</g>\r\n",
       "<!-- 55 -->\r\n",
       "<g id=\"node9\" class=\"node\"><title>55</title>\r\n",
       "<path fill=\"#399de5\" stroke=\"black\" d=\"M93,-179.5C93,-179.5 12,-179.5 12,-179.5 6,-179.5 0,-173.5 0,-167.5 0,-167.5 0,-123.5 0,-123.5 0,-117.5 6,-111.5 12,-111.5 12,-111.5 93,-111.5 93,-111.5 99,-111.5 105,-117.5 105,-123.5 105,-123.5 105,-167.5 105,-167.5 105,-173.5 99,-179.5 93,-179.5\"/>\r\n",
       "<text text-anchor=\"middle\" x=\"52.5\" y=\"-164.3\" font-family=\"Helvetica,sans-Serif\" font-size=\"14.00\">gini = 0.0</text>\r\n",
       "<text text-anchor=\"middle\" x=\"52.5\" y=\"-149.3\" font-family=\"Helvetica,sans-Serif\" font-size=\"14.00\">samples = 3</text>\r\n",
       "<text text-anchor=\"middle\" x=\"52.5\" y=\"-134.3\" font-family=\"Helvetica,sans-Serif\" font-size=\"14.00\">value = [0, 3]</text>\r\n",
       "<text text-anchor=\"middle\" x=\"52.5\" y=\"-119.3\" font-family=\"Helvetica,sans-Serif\" font-size=\"14.00\">class = Exited</text>\r\n",
       "</g>\r\n",
       "<!-- 47&#45;&gt;55 -->\r\n",
       "<g id=\"edge8\" class=\"edge\"><title>47&#45;&gt;55</title>\r\n",
       "<path fill=\"none\" stroke=\"black\" d=\"M98.2138,-222.907C91.546,-211.763 84.304,-199.658 77.5918,-188.439\"/>\r\n",
       "<polygon fill=\"black\" stroke=\"black\" points=\"80.4812,-186.451 72.3435,-179.667 74.4742,-190.045 80.4812,-186.451\"/>\r\n",
       "</g>\r\n",
       "<!-- 56 -->\r\n",
       "<g id=\"node10\" class=\"node\"><title>56</title>\r\n",
       "<path fill=\"#e78d4b\" stroke=\"black\" d=\"M249.5,-179.5C249.5,-179.5 135.5,-179.5 135.5,-179.5 129.5,-179.5 123.5,-173.5 123.5,-167.5 123.5,-167.5 123.5,-123.5 123.5,-123.5 123.5,-117.5 129.5,-111.5 135.5,-111.5 135.5,-111.5 249.5,-111.5 249.5,-111.5 255.5,-111.5 261.5,-117.5 261.5,-123.5 261.5,-123.5 261.5,-167.5 261.5,-167.5 261.5,-173.5 255.5,-179.5 249.5,-179.5\"/>\r\n",
       "<text text-anchor=\"middle\" x=\"192.5\" y=\"-164.3\" font-family=\"Helvetica,sans-Serif\" font-size=\"14.00\">gini = 0.154</text>\r\n",
       "<text text-anchor=\"middle\" x=\"192.5\" y=\"-149.3\" font-family=\"Helvetica,sans-Serif\" font-size=\"14.00\">samples = 1471</text>\r\n",
       "<text text-anchor=\"middle\" x=\"192.5\" y=\"-134.3\" font-family=\"Helvetica,sans-Serif\" font-size=\"14.00\">value = [1347, 124]</text>\r\n",
       "<text text-anchor=\"middle\" x=\"192.5\" y=\"-119.3\" font-family=\"Helvetica,sans-Serif\" font-size=\"14.00\">class = Not Exited</text>\r\n",
       "</g>\r\n",
       "<!-- 47&#45;&gt;56 -->\r\n",
       "<g id=\"edge9\" class=\"edge\"><title>47&#45;&gt;56</title>\r\n",
       "<path fill=\"none\" stroke=\"black\" d=\"M146.786,-222.907C153.454,-211.763 160.696,-199.658 167.408,-188.439\"/>\r\n",
       "<polygon fill=\"black\" stroke=\"black\" points=\"170.526,-190.045 172.657,-179.667 164.519,-186.451 170.526,-190.045\"/>\r\n",
       "</g>\r\n",
       "<!-- 31 -->\r\n",
       "<g id=\"node13\" class=\"node\"><title>31</title>\r\n",
       "<path fill=\"#ea9a61\" stroke=\"black\" d=\"M498,-417.5C498,-417.5 391,-417.5 391,-417.5 385,-417.5 379,-411.5 379,-405.5 379,-405.5 379,-361.5 379,-361.5 379,-355.5 385,-349.5 391,-349.5 391,-349.5 498,-349.5 498,-349.5 504,-349.5 510,-355.5 510,-361.5 510,-361.5 510,-405.5 510,-405.5 510,-411.5 504,-417.5 498,-417.5\"/>\r\n",
       "<text text-anchor=\"middle\" x=\"444.5\" y=\"-402.3\" font-family=\"Helvetica,sans-Serif\" font-size=\"14.00\">gini = 0.28</text>\r\n",
       "<text text-anchor=\"middle\" x=\"444.5\" y=\"-387.3\" font-family=\"Helvetica,sans-Serif\" font-size=\"14.00\">samples = 315</text>\r\n",
       "<text text-anchor=\"middle\" x=\"444.5\" y=\"-372.3\" font-family=\"Helvetica,sans-Serif\" font-size=\"14.00\">value = [262, 53]</text>\r\n",
       "<text text-anchor=\"middle\" x=\"444.5\" y=\"-357.3\" font-family=\"Helvetica,sans-Serif\" font-size=\"14.00\">class = Not Exited</text>\r\n",
       "</g>\r\n",
       "<!-- 24&#45;&gt;31 -->\r\n",
       "<g id=\"edge12\" class=\"edge\"><title>24&#45;&gt;31</title>\r\n",
       "<path fill=\"none\" stroke=\"black\" d=\"M498.051,-460.907C490.162,-449.652 481.588,-437.418 473.66,-426.106\"/>\r\n",
       "<polygon fill=\"black\" stroke=\"black\" points=\"476.351,-423.847 467.745,-417.667 470.618,-427.865 476.351,-423.847\"/>\r\n",
       "</g>\r\n",
       "<!-- 32 -->\r\n",
       "<g id=\"node14\" class=\"node\"><title>32</title>\r\n",
       "<path fill=\"#f3c3a1\" stroke=\"black\" d=\"M677,-425C677,-425 540,-425 540,-425 534,-425 528,-419 528,-413 528,-413 528,-354 528,-354 528,-348 534,-342 540,-342 540,-342 677,-342 677,-342 683,-342 689,-348 689,-354 689,-354 689,-413 689,-413 689,-419 683,-425 677,-425\"/>\r\n",
       "<text text-anchor=\"middle\" x=\"608.5\" y=\"-409.8\" font-family=\"Helvetica,sans-Serif\" font-size=\"14.00\">Balance &lt;= 90340.855</text>\r\n",
       "<text text-anchor=\"middle\" x=\"608.5\" y=\"-394.8\" font-family=\"Helvetica,sans-Serif\" font-size=\"14.00\">gini = 0.452</text>\r\n",
       "<text text-anchor=\"middle\" x=\"608.5\" y=\"-379.8\" font-family=\"Helvetica,sans-Serif\" font-size=\"14.00\">samples = 360</text>\r\n",
       "<text text-anchor=\"middle\" x=\"608.5\" y=\"-364.8\" font-family=\"Helvetica,sans-Serif\" font-size=\"14.00\">value = [236, 124]</text>\r\n",
       "<text text-anchor=\"middle\" x=\"608.5\" y=\"-349.8\" font-family=\"Helvetica,sans-Serif\" font-size=\"14.00\">class = Not Exited</text>\r\n",
       "</g>\r\n",
       "<!-- 24&#45;&gt;32 -->\r\n",
       "<g id=\"edge13\" class=\"edge\"><title>24&#45;&gt;32</title>\r\n",
       "<path fill=\"none\" stroke=\"black\" d=\"M554.949,-460.907C561.183,-452.014 567.844,-442.509 574.277,-433.331\"/>\r\n",
       "<polygon fill=\"black\" stroke=\"black\" points=\"577.228,-435.219 580.101,-425.021 571.495,-431.201 577.228,-435.219\"/>\r\n",
       "</g>\r\n",
       "<!-- 43 -->\r\n",
       "<g id=\"node15\" class=\"node\"><title>43</title>\r\n",
       "<path fill=\"#e78a47\" stroke=\"black\" d=\"M493,-298.5C493,-298.5 386,-298.5 386,-298.5 380,-298.5 374,-292.5 374,-286.5 374,-286.5 374,-242.5 374,-242.5 374,-236.5 380,-230.5 386,-230.5 386,-230.5 493,-230.5 493,-230.5 499,-230.5 505,-236.5 505,-242.5 505,-242.5 505,-286.5 505,-286.5 505,-292.5 499,-298.5 493,-298.5\"/>\r\n",
       "<text text-anchor=\"middle\" x=\"439.5\" y=\"-283.3\" font-family=\"Helvetica,sans-Serif\" font-size=\"14.00\">gini = 0.124</text>\r\n",
       "<text text-anchor=\"middle\" x=\"439.5\" y=\"-268.3\" font-family=\"Helvetica,sans-Serif\" font-size=\"14.00\">samples = 45</text>\r\n",
       "<text text-anchor=\"middle\" x=\"439.5\" y=\"-253.3\" font-family=\"Helvetica,sans-Serif\" font-size=\"14.00\">value = [42, 3]</text>\r\n",
       "<text text-anchor=\"middle\" x=\"439.5\" y=\"-238.3\" font-family=\"Helvetica,sans-Serif\" font-size=\"14.00\">class = Not Exited</text>\r\n",
       "</g>\r\n",
       "<!-- 32&#45;&gt;43 -->\r\n",
       "<g id=\"edge14\" class=\"edge\"><title>32&#45;&gt;43</title>\r\n",
       "<path fill=\"none\" stroke=\"black\" d=\"M549.866,-341.907C532.334,-329.769 513.157,-316.493 495.779,-304.462\"/>\r\n",
       "<polygon fill=\"black\" stroke=\"black\" points=\"497.622,-301.481 487.408,-298.667 493.637,-307.237 497.622,-301.481\"/>\r\n",
       "</g>\r\n",
       "<!-- 44 -->\r\n",
       "<g id=\"node16\" class=\"node\"><title>44</title>\r\n",
       "<path fill=\"#f5d0b4\" stroke=\"black\" d=\"M681.5,-306C681.5,-306 535.5,-306 535.5,-306 529.5,-306 523.5,-300 523.5,-294 523.5,-294 523.5,-235 523.5,-235 523.5,-229 529.5,-223 535.5,-223 535.5,-223 681.5,-223 681.5,-223 687.5,-223 693.5,-229 693.5,-235 693.5,-235 693.5,-294 693.5,-294 693.5,-300 687.5,-306 681.5,-306\"/>\r\n",
       "<text text-anchor=\"middle\" x=\"608.5\" y=\"-290.8\" font-family=\"Helvetica,sans-Serif\" font-size=\"14.00\">Balance &lt;= 154374.766</text>\r\n",
       "<text text-anchor=\"middle\" x=\"608.5\" y=\"-275.8\" font-family=\"Helvetica,sans-Serif\" font-size=\"14.00\">gini = 0.473</text>\r\n",
       "<text text-anchor=\"middle\" x=\"608.5\" y=\"-260.8\" font-family=\"Helvetica,sans-Serif\" font-size=\"14.00\">samples = 315</text>\r\n",
       "<text text-anchor=\"middle\" x=\"608.5\" y=\"-245.8\" font-family=\"Helvetica,sans-Serif\" font-size=\"14.00\">value = [194, 121]</text>\r\n",
       "<text text-anchor=\"middle\" x=\"608.5\" y=\"-230.8\" font-family=\"Helvetica,sans-Serif\" font-size=\"14.00\">class = Not Exited</text>\r\n",
       "</g>\r\n",
       "<!-- 32&#45;&gt;44 -->\r\n",
       "<g id=\"edge15\" class=\"edge\"><title>32&#45;&gt;44</title>\r\n",
       "<path fill=\"none\" stroke=\"black\" d=\"M608.5,-341.907C608.5,-333.649 608.5,-324.864 608.5,-316.302\"/>\r\n",
       "<polygon fill=\"black\" stroke=\"black\" points=\"612,-316.021 608.5,-306.021 605,-316.021 612,-316.021\"/>\r\n",
       "</g>\r\n",
       "<!-- 45 -->\r\n",
       "<g id=\"node17\" class=\"node\"><title>45</title>\r\n",
       "<path fill=\"#f8dbc7\" stroke=\"black\" d=\"M588,-179.5C588,-179.5 481,-179.5 481,-179.5 475,-179.5 469,-173.5 469,-167.5 469,-167.5 469,-123.5 469,-123.5 469,-117.5 475,-111.5 481,-111.5 481,-111.5 588,-111.5 588,-111.5 594,-111.5 600,-117.5 600,-123.5 600,-123.5 600,-167.5 600,-167.5 600,-173.5 594,-179.5 588,-179.5\"/>\r\n",
       "<text text-anchor=\"middle\" x=\"534.5\" y=\"-164.3\" font-family=\"Helvetica,sans-Serif\" font-size=\"14.00\">gini = 0.486</text>\r\n",
       "<text text-anchor=\"middle\" x=\"534.5\" y=\"-149.3\" font-family=\"Helvetica,sans-Serif\" font-size=\"14.00\">samples = 290</text>\r\n",
       "<text text-anchor=\"middle\" x=\"534.5\" y=\"-134.3\" font-family=\"Helvetica,sans-Serif\" font-size=\"14.00\">value = [169, 121]</text>\r\n",
       "<text text-anchor=\"middle\" x=\"534.5\" y=\"-119.3\" font-family=\"Helvetica,sans-Serif\" font-size=\"14.00\">class = Not Exited</text>\r\n",
       "</g>\r\n",
       "<!-- 44&#45;&gt;45 -->\r\n",
       "<g id=\"edge16\" class=\"edge\"><title>44&#45;&gt;45</title>\r\n",
       "<path fill=\"none\" stroke=\"black\" d=\"M582.826,-222.907C575.777,-211.763 568.121,-199.658 561.026,-188.439\"/>\r\n",
       "<polygon fill=\"black\" stroke=\"black\" points=\"563.781,-186.248 555.477,-179.667 557.865,-189.989 563.781,-186.248\"/>\r\n",
       "</g>\r\n",
       "<!-- 46 -->\r\n",
       "<g id=\"node18\" class=\"node\"><title>46</title>\r\n",
       "<path fill=\"#e58139\" stroke=\"black\" d=\"M737,-179.5C737,-179.5 630,-179.5 630,-179.5 624,-179.5 618,-173.5 618,-167.5 618,-167.5 618,-123.5 618,-123.5 618,-117.5 624,-111.5 630,-111.5 630,-111.5 737,-111.5 737,-111.5 743,-111.5 749,-117.5 749,-123.5 749,-123.5 749,-167.5 749,-167.5 749,-173.5 743,-179.5 737,-179.5\"/>\r\n",
       "<text text-anchor=\"middle\" x=\"683.5\" y=\"-164.3\" font-family=\"Helvetica,sans-Serif\" font-size=\"14.00\">gini = 0.0</text>\r\n",
       "<text text-anchor=\"middle\" x=\"683.5\" y=\"-149.3\" font-family=\"Helvetica,sans-Serif\" font-size=\"14.00\">samples = 25</text>\r\n",
       "<text text-anchor=\"middle\" x=\"683.5\" y=\"-134.3\" font-family=\"Helvetica,sans-Serif\" font-size=\"14.00\">value = [25, 0]</text>\r\n",
       "<text text-anchor=\"middle\" x=\"683.5\" y=\"-119.3\" font-family=\"Helvetica,sans-Serif\" font-size=\"14.00\">class = Not Exited</text>\r\n",
       "</g>\r\n",
       "<!-- 44&#45;&gt;46 -->\r\n",
       "<g id=\"edge17\" class=\"edge\"><title>44&#45;&gt;46</title>\r\n",
       "<path fill=\"none\" stroke=\"black\" d=\"M634.521,-222.907C641.736,-211.652 649.578,-199.418 656.829,-188.106\"/>\r\n",
       "<polygon fill=\"black\" stroke=\"black\" points=\"659.789,-189.975 662.239,-179.667 653.896,-186.197 659.789,-189.975\"/>\r\n",
       "</g>\r\n",
       "<!-- 27 -->\r\n",
       "<g id=\"node21\" class=\"node\"><title>27</title>\r\n",
       "<path fill=\"#ffffff\" stroke=\"black\" d=\"M986,-655.5C986,-655.5 879,-655.5 879,-655.5 873,-655.5 867,-649.5 867,-643.5 867,-643.5 867,-599.5 867,-599.5 867,-593.5 873,-587.5 879,-587.5 879,-587.5 986,-587.5 986,-587.5 992,-587.5 998,-593.5 998,-599.5 998,-599.5 998,-643.5 998,-643.5 998,-649.5 992,-655.5 986,-655.5\"/>\r\n",
       "<text text-anchor=\"middle\" x=\"932.5\" y=\"-640.3\" font-family=\"Helvetica,sans-Serif\" font-size=\"14.00\">gini = 0.5</text>\r\n",
       "<text text-anchor=\"middle\" x=\"932.5\" y=\"-625.3\" font-family=\"Helvetica,sans-Serif\" font-size=\"14.00\">samples = 50</text>\r\n",
       "<text text-anchor=\"middle\" x=\"932.5\" y=\"-610.3\" font-family=\"Helvetica,sans-Serif\" font-size=\"14.00\">value = [25, 25]</text>\r\n",
       "<text text-anchor=\"middle\" x=\"932.5\" y=\"-595.3\" font-family=\"Helvetica,sans-Serif\" font-size=\"14.00\">class = Not Exited</text>\r\n",
       "</g>\r\n",
       "<!-- 6&#45;&gt;27 -->\r\n",
       "<g id=\"edge20\" class=\"edge\"><title>6&#45;&gt;27</title>\r\n",
       "<path fill=\"none\" stroke=\"black\" d=\"M982.132,-698.907C974.821,-687.652 966.874,-675.418 959.526,-664.106\"/>\r\n",
       "<polygon fill=\"black\" stroke=\"black\" points=\"962.427,-662.146 954.044,-655.667 956.557,-665.96 962.427,-662.146\"/>\r\n",
       "</g>\r\n",
       "<!-- 28 -->\r\n",
       "<g id=\"node22\" class=\"node\"><title>28</title>\r\n",
       "<path fill=\"#4aa6e7\" stroke=\"black\" d=\"M1109,-655.5C1109,-655.5 1028,-655.5 1028,-655.5 1022,-655.5 1016,-649.5 1016,-643.5 1016,-643.5 1016,-599.5 1016,-599.5 1016,-593.5 1022,-587.5 1028,-587.5 1028,-587.5 1109,-587.5 1109,-587.5 1115,-587.5 1121,-593.5 1121,-599.5 1121,-599.5 1121,-643.5 1121,-643.5 1121,-649.5 1115,-655.5 1109,-655.5\"/>\r\n",
       "<text text-anchor=\"middle\" x=\"1068.5\" y=\"-640.3\" font-family=\"Helvetica,sans-Serif\" font-size=\"14.00\">gini = 0.147</text>\r\n",
       "<text text-anchor=\"middle\" x=\"1068.5\" y=\"-625.3\" font-family=\"Helvetica,sans-Serif\" font-size=\"14.00\">samples = 75</text>\r\n",
       "<text text-anchor=\"middle\" x=\"1068.5\" y=\"-610.3\" font-family=\"Helvetica,sans-Serif\" font-size=\"14.00\">value = [6, 69]</text>\r\n",
       "<text text-anchor=\"middle\" x=\"1068.5\" y=\"-595.3\" font-family=\"Helvetica,sans-Serif\" font-size=\"14.00\">class = Exited</text>\r\n",
       "</g>\r\n",
       "<!-- 6&#45;&gt;28 -->\r\n",
       "<g id=\"edge21\" class=\"edge\"><title>6&#45;&gt;28</title>\r\n",
       "<path fill=\"none\" stroke=\"black\" d=\"M1029.32,-698.907C1034.98,-687.873 1041.12,-675.898 1046.82,-664.773\"/>\r\n",
       "<polygon fill=\"black\" stroke=\"black\" points=\"1050.04,-666.162 1051.49,-655.667 1043.81,-662.968 1050.04,-666.162\"/>\r\n",
       "</g>\r\n",
       "<!-- 3 -->\r\n",
       "<g id=\"node24\" class=\"node\"><title>3</title>\r\n",
       "<path fill=\"#c1e0f7\" stroke=\"black\" d=\"M1294.5,-782C1294.5,-782 1188.5,-782 1188.5,-782 1182.5,-782 1176.5,-776 1176.5,-770 1176.5,-770 1176.5,-711 1176.5,-711 1176.5,-705 1182.5,-699 1188.5,-699 1188.5,-699 1294.5,-699 1294.5,-699 1300.5,-699 1306.5,-705 1306.5,-711 1306.5,-711 1306.5,-770 1306.5,-770 1306.5,-776 1300.5,-782 1294.5,-782\"/>\r\n",
       "<text text-anchor=\"middle\" x=\"1241.5\" y=\"-766.8\" font-family=\"Helvetica,sans-Serif\" font-size=\"14.00\">Age &lt;= 51.5</text>\r\n",
       "<text text-anchor=\"middle\" x=\"1241.5\" y=\"-751.8\" font-family=\"Helvetica,sans-Serif\" font-size=\"14.00\">gini = 0.482</text>\r\n",
       "<text text-anchor=\"middle\" x=\"1241.5\" y=\"-736.8\" font-family=\"Helvetica,sans-Serif\" font-size=\"14.00\">samples = 1058</text>\r\n",
       "<text text-anchor=\"middle\" x=\"1241.5\" y=\"-721.8\" font-family=\"Helvetica,sans-Serif\" font-size=\"14.00\">value = [430, 628]</text>\r\n",
       "<text text-anchor=\"middle\" x=\"1241.5\" y=\"-706.8\" font-family=\"Helvetica,sans-Serif\" font-size=\"14.00\">class = Exited</text>\r\n",
       "</g>\r\n",
       "<!-- 2&#45;&gt;3 -->\r\n",
       "<g id=\"edge23\" class=\"edge\"><title>2&#45;&gt;3</title>\r\n",
       "<path fill=\"none\" stroke=\"black\" d=\"M1241.5,-817.907C1241.5,-809.649 1241.5,-800.864 1241.5,-792.302\"/>\r\n",
       "<polygon fill=\"black\" stroke=\"black\" points=\"1245,-792.021 1241.5,-782.021 1238,-792.021 1245,-792.021\"/>\r\n",
       "</g>\r\n",
       "<!-- 4 -->\r\n",
       "<g id=\"node39\" class=\"node\"><title>4</title>\r\n",
       "<path fill=\"#efaf82\" stroke=\"black\" d=\"M1632,-782C1632,-782 1493,-782 1493,-782 1487,-782 1481,-776 1481,-770 1481,-770 1481,-711 1481,-711 1481,-705 1487,-699 1493,-699 1493,-699 1632,-699 1632,-699 1638,-699 1644,-705 1644,-711 1644,-711 1644,-770 1644,-770 1644,-776 1638,-782 1632,-782\"/>\r\n",
       "<text text-anchor=\"middle\" x=\"1562.5\" y=\"-766.8\" font-family=\"Helvetica,sans-Serif\" font-size=\"14.00\">NumOfProducts &lt;= 2.5</text>\r\n",
       "<text text-anchor=\"middle\" x=\"1562.5\" y=\"-751.8\" font-family=\"Helvetica,sans-Serif\" font-size=\"14.00\">gini = 0.393</text>\r\n",
       "<text text-anchor=\"middle\" x=\"1562.5\" y=\"-736.8\" font-family=\"Helvetica,sans-Serif\" font-size=\"14.00\">samples = 1261</text>\r\n",
       "<text text-anchor=\"middle\" x=\"1562.5\" y=\"-721.8\" font-family=\"Helvetica,sans-Serif\" font-size=\"14.00\">value = [922, 339]</text>\r\n",
       "<text text-anchor=\"middle\" x=\"1562.5\" y=\"-706.8\" font-family=\"Helvetica,sans-Serif\" font-size=\"14.00\">class = Not Exited</text>\r\n",
       "</g>\r\n",
       "<!-- 2&#45;&gt;4 -->\r\n",
       "<g id=\"edge38\" class=\"edge\"><title>2&#45;&gt;4</title>\r\n",
       "<path fill=\"none\" stroke=\"black\" d=\"M1323.75,-828.522C1368.85,-812.084 1424.86,-791.669 1471.29,-774.745\"/>\r\n",
       "<polygon fill=\"black\" stroke=\"black\" points=\"1472.55,-778.012 1480.74,-771.299 1470.15,-771.435 1472.55,-778.012\"/>\r\n",
       "</g>\r\n",
       "<!-- 7 -->\r\n",
       "<g id=\"node25\" class=\"node\"><title>7</title>\r\n",
       "<path fill=\"#fef9f5\" stroke=\"black\" d=\"M1303,-663C1303,-663 1164,-663 1164,-663 1158,-663 1152,-657 1152,-651 1152,-651 1152,-592 1152,-592 1152,-586 1158,-580 1164,-580 1164,-580 1303,-580 1303,-580 1309,-580 1315,-586 1315,-592 1315,-592 1315,-651 1315,-651 1315,-657 1309,-663 1303,-663\"/>\r\n",
       "<text text-anchor=\"middle\" x=\"1233.5\" y=\"-647.8\" font-family=\"Helvetica,sans-Serif\" font-size=\"14.00\">NumOfProducts &lt;= 1.5</text>\r\n",
       "<text text-anchor=\"middle\" x=\"1233.5\" y=\"-632.8\" font-family=\"Helvetica,sans-Serif\" font-size=\"14.00\">gini = 0.5</text>\r\n",
       "<text text-anchor=\"middle\" x=\"1233.5\" y=\"-617.8\" font-family=\"Helvetica,sans-Serif\" font-size=\"14.00\">samples = 767</text>\r\n",
       "<text text-anchor=\"middle\" x=\"1233.5\" y=\"-602.8\" font-family=\"Helvetica,sans-Serif\" font-size=\"14.00\">value = [393, 374]</text>\r\n",
       "<text text-anchor=\"middle\" x=\"1233.5\" y=\"-587.8\" font-family=\"Helvetica,sans-Serif\" font-size=\"14.00\">class = Not Exited</text>\r\n",
       "</g>\r\n",
       "<!-- 3&#45;&gt;7 -->\r\n",
       "<g id=\"edge24\" class=\"edge\"><title>3&#45;&gt;7</title>\r\n",
       "<path fill=\"none\" stroke=\"black\" d=\"M1238.72,-698.907C1238.15,-690.558 1237.55,-681.671 1236.95,-673.02\"/>\r\n",
       "<polygon fill=\"black\" stroke=\"black\" points=\"1240.44,-672.759 1236.27,-663.021 1233.46,-673.236 1240.44,-672.759\"/>\r\n",
       "</g>\r\n",
       "<!-- 8 -->\r\n",
       "<g id=\"node38\" class=\"node\"><title>8</title>\r\n",
       "<path fill=\"#56abe9\" stroke=\"black\" d=\"M1443.5,-655.5C1443.5,-655.5 1345.5,-655.5 1345.5,-655.5 1339.5,-655.5 1333.5,-649.5 1333.5,-643.5 1333.5,-643.5 1333.5,-599.5 1333.5,-599.5 1333.5,-593.5 1339.5,-587.5 1345.5,-587.5 1345.5,-587.5 1443.5,-587.5 1443.5,-587.5 1449.5,-587.5 1455.5,-593.5 1455.5,-599.5 1455.5,-599.5 1455.5,-643.5 1455.5,-643.5 1455.5,-649.5 1449.5,-655.5 1443.5,-655.5\"/>\r\n",
       "<text text-anchor=\"middle\" x=\"1394.5\" y=\"-640.3\" font-family=\"Helvetica,sans-Serif\" font-size=\"14.00\">gini = 0.222</text>\r\n",
       "<text text-anchor=\"middle\" x=\"1394.5\" y=\"-625.3\" font-family=\"Helvetica,sans-Serif\" font-size=\"14.00\">samples = 291</text>\r\n",
       "<text text-anchor=\"middle\" x=\"1394.5\" y=\"-610.3\" font-family=\"Helvetica,sans-Serif\" font-size=\"14.00\">value = [37, 254]</text>\r\n",
       "<text text-anchor=\"middle\" x=\"1394.5\" y=\"-595.3\" font-family=\"Helvetica,sans-Serif\" font-size=\"14.00\">class = Exited</text>\r\n",
       "</g>\r\n",
       "<!-- 3&#45;&gt;8 -->\r\n",
       "<g id=\"edge37\" class=\"edge\"><title>3&#45;&gt;8</title>\r\n",
       "<path fill=\"none\" stroke=\"black\" d=\"M1294.58,-698.907C1310.31,-686.88 1327.5,-673.735 1343.12,-661.791\"/>\r\n",
       "<polygon fill=\"black\" stroke=\"black\" points=\"1345.31,-664.522 1351.13,-655.667 1341.06,-658.961 1345.31,-664.522\"/>\r\n",
       "</g>\r\n",
       "<!-- 13 -->\r\n",
       "<g id=\"node26\" class=\"node\"><title>13</title>\r\n",
       "<path fill=\"#b9ddf6\" stroke=\"black\" d=\"M1123.5,-544C1123.5,-544 1017.5,-544 1017.5,-544 1011.5,-544 1005.5,-538 1005.5,-532 1005.5,-532 1005.5,-473 1005.5,-473 1005.5,-467 1011.5,-461 1017.5,-461 1017.5,-461 1123.5,-461 1123.5,-461 1129.5,-461 1135.5,-467 1135.5,-473 1135.5,-473 1135.5,-532 1135.5,-532 1135.5,-538 1129.5,-544 1123.5,-544\"/>\r\n",
       "<text text-anchor=\"middle\" x=\"1070.5\" y=\"-528.8\" font-family=\"Helvetica,sans-Serif\" font-size=\"14.00\">Germany &lt;= 0.5</text>\r\n",
       "<text text-anchor=\"middle\" x=\"1070.5\" y=\"-513.8\" font-family=\"Helvetica,sans-Serif\" font-size=\"14.00\">gini = 0.477</text>\r\n",
       "<text text-anchor=\"middle\" x=\"1070.5\" y=\"-498.8\" font-family=\"Helvetica,sans-Serif\" font-size=\"14.00\">samples = 460</text>\r\n",
       "<text text-anchor=\"middle\" x=\"1070.5\" y=\"-483.8\" font-family=\"Helvetica,sans-Serif\" font-size=\"14.00\">value = [181, 279]</text>\r\n",
       "<text text-anchor=\"middle\" x=\"1070.5\" y=\"-468.8\" font-family=\"Helvetica,sans-Serif\" font-size=\"14.00\">class = Exited</text>\r\n",
       "</g>\r\n",
       "<!-- 7&#45;&gt;13 -->\r\n",
       "<g id=\"edge25\" class=\"edge\"><title>7&#45;&gt;13</title>\r\n",
       "<path fill=\"none\" stroke=\"black\" d=\"M1176.95,-579.907C1163.55,-570.288 1149.15,-559.953 1135.41,-550.09\"/>\r\n",
       "<polygon fill=\"black\" stroke=\"black\" points=\"1137.12,-547.009 1126.95,-544.021 1133.03,-552.695 1137.12,-547.009\"/>\r\n",
       "</g>\r\n",
       "<!-- 14 -->\r\n",
       "<g id=\"node33\" class=\"node\"><title>14</title>\r\n",
       "<path fill=\"#f1b992\" stroke=\"black\" d=\"M1305,-544C1305,-544 1166,-544 1166,-544 1160,-544 1154,-538 1154,-532 1154,-532 1154,-473 1154,-473 1154,-467 1160,-461 1166,-461 1166,-461 1305,-461 1305,-461 1311,-461 1317,-467 1317,-473 1317,-473 1317,-532 1317,-532 1317,-538 1311,-544 1305,-544\"/>\r\n",
       "<text text-anchor=\"middle\" x=\"1235.5\" y=\"-528.8\" font-family=\"Helvetica,sans-Serif\" font-size=\"14.00\">NumOfProducts &lt;= 2.5</text>\r\n",
       "<text text-anchor=\"middle\" x=\"1235.5\" y=\"-513.8\" font-family=\"Helvetica,sans-Serif\" font-size=\"14.00\">gini = 0.427</text>\r\n",
       "<text text-anchor=\"middle\" x=\"1235.5\" y=\"-498.8\" font-family=\"Helvetica,sans-Serif\" font-size=\"14.00\">samples = 307</text>\r\n",
       "<text text-anchor=\"middle\" x=\"1235.5\" y=\"-483.8\" font-family=\"Helvetica,sans-Serif\" font-size=\"14.00\">value = [212, 95]</text>\r\n",
       "<text text-anchor=\"middle\" x=\"1235.5\" y=\"-468.8\" font-family=\"Helvetica,sans-Serif\" font-size=\"14.00\">class = Not Exited</text>\r\n",
       "</g>\r\n",
       "<!-- 7&#45;&gt;14 -->\r\n",
       "<g id=\"edge32\" class=\"edge\"><title>7&#45;&gt;14</title>\r\n",
       "<path fill=\"none\" stroke=\"black\" d=\"M1234.19,-579.907C1234.34,-571.558 1234.49,-562.671 1234.64,-554.02\"/>\r\n",
       "<polygon fill=\"black\" stroke=\"black\" points=\"1238.14,-554.079 1234.81,-544.021 1231.14,-553.959 1238.14,-554.079\"/>\r\n",
       "</g>\r\n",
       "<!-- 21 -->\r\n",
       "<g id=\"node27\" class=\"node\"><title>21</title>\r\n",
       "<path fill=\"#fafcfe\" stroke=\"black\" d=\"M980,-425C980,-425 843,-425 843,-425 837,-425 831,-419 831,-413 831,-413 831,-354 831,-354 831,-348 837,-342 843,-342 843,-342 980,-342 980,-342 986,-342 992,-348 992,-354 992,-354 992,-413 992,-413 992,-419 986,-425 980,-425\"/>\r\n",
       "<text text-anchor=\"middle\" x=\"911.5\" y=\"-409.8\" font-family=\"Helvetica,sans-Serif\" font-size=\"14.00\">Balance &lt;= 81819.965</text>\r\n",
       "<text text-anchor=\"middle\" x=\"911.5\" y=\"-394.8\" font-family=\"Helvetica,sans-Serif\" font-size=\"14.00\">gini = 0.5</text>\r\n",
       "<text text-anchor=\"middle\" x=\"911.5\" y=\"-379.8\" font-family=\"Helvetica,sans-Serif\" font-size=\"14.00\">samples = 296</text>\r\n",
       "<text text-anchor=\"middle\" x=\"911.5\" y=\"-364.8\" font-family=\"Helvetica,sans-Serif\" font-size=\"14.00\">value = [146, 150]</text>\r\n",
       "<text text-anchor=\"middle\" x=\"911.5\" y=\"-349.8\" font-family=\"Helvetica,sans-Serif\" font-size=\"14.00\">class = Exited</text>\r\n",
       "</g>\r\n",
       "<!-- 13&#45;&gt;21 -->\r\n",
       "<g id=\"edge26\" class=\"edge\"><title>13&#45;&gt;21</title>\r\n",
       "<path fill=\"none\" stroke=\"black\" d=\"M1015.34,-460.907C1002.26,-451.288 988.219,-440.953 974.815,-431.09\"/>\r\n",
       "<polygon fill=\"black\" stroke=\"black\" points=\"976.696,-428.129 966.567,-425.021 972.547,-433.767 976.696,-428.129\"/>\r\n",
       "</g>\r\n",
       "<!-- 22 -->\r\n",
       "<g id=\"node32\" class=\"node\"><title>22</title>\r\n",
       "<path fill=\"#6fb8ec\" stroke=\"black\" d=\"M1120.5,-417.5C1120.5,-417.5 1022.5,-417.5 1022.5,-417.5 1016.5,-417.5 1010.5,-411.5 1010.5,-405.5 1010.5,-405.5 1010.5,-361.5 1010.5,-361.5 1010.5,-355.5 1016.5,-349.5 1022.5,-349.5 1022.5,-349.5 1120.5,-349.5 1120.5,-349.5 1126.5,-349.5 1132.5,-355.5 1132.5,-361.5 1132.5,-361.5 1132.5,-405.5 1132.5,-405.5 1132.5,-411.5 1126.5,-417.5 1120.5,-417.5\"/>\r\n",
       "<text text-anchor=\"middle\" x=\"1071.5\" y=\"-402.3\" font-family=\"Helvetica,sans-Serif\" font-size=\"14.00\">gini = 0.336</text>\r\n",
       "<text text-anchor=\"middle\" x=\"1071.5\" y=\"-387.3\" font-family=\"Helvetica,sans-Serif\" font-size=\"14.00\">samples = 164</text>\r\n",
       "<text text-anchor=\"middle\" x=\"1071.5\" y=\"-372.3\" font-family=\"Helvetica,sans-Serif\" font-size=\"14.00\">value = [35, 129]</text>\r\n",
       "<text text-anchor=\"middle\" x=\"1071.5\" y=\"-357.3\" font-family=\"Helvetica,sans-Serif\" font-size=\"14.00\">class = Exited</text>\r\n",
       "</g>\r\n",
       "<!-- 13&#45;&gt;22 -->\r\n",
       "<g id=\"edge31\" class=\"edge\"><title>13&#45;&gt;22</title>\r\n",
       "<path fill=\"none\" stroke=\"black\" d=\"M1070.85,-460.907C1070.94,-450.204 1071.04,-438.615 1071.13,-427.776\"/>\r\n",
       "<polygon fill=\"black\" stroke=\"black\" points=\"1074.63,-427.697 1071.22,-417.667 1067.63,-427.637 1074.63,-427.697\"/>\r\n",
       "</g>\r\n",
       "<!-- 33 -->\r\n",
       "<g id=\"node28\" class=\"node\"><title>33</title>\r\n",
       "<path fill=\"#9dcff2\" stroke=\"black\" d=\"M813,-298.5C813,-298.5 724,-298.5 724,-298.5 718,-298.5 712,-292.5 712,-286.5 712,-286.5 712,-242.5 712,-242.5 712,-236.5 718,-230.5 724,-230.5 724,-230.5 813,-230.5 813,-230.5 819,-230.5 825,-236.5 825,-242.5 825,-242.5 825,-286.5 825,-286.5 825,-292.5 819,-298.5 813,-298.5\"/>\r\n",
       "<text text-anchor=\"middle\" x=\"768.5\" y=\"-283.3\" font-family=\"Helvetica,sans-Serif\" font-size=\"14.00\">gini = 0.446</text>\r\n",
       "<text text-anchor=\"middle\" x=\"768.5\" y=\"-268.3\" font-family=\"Helvetica,sans-Serif\" font-size=\"14.00\">samples = 122</text>\r\n",
       "<text text-anchor=\"middle\" x=\"768.5\" y=\"-253.3\" font-family=\"Helvetica,sans-Serif\" font-size=\"14.00\">value = [41, 81]</text>\r\n",
       "<text text-anchor=\"middle\" x=\"768.5\" y=\"-238.3\" font-family=\"Helvetica,sans-Serif\" font-size=\"14.00\">class = Exited</text>\r\n",
       "</g>\r\n",
       "<!-- 21&#45;&gt;33 -->\r\n",
       "<g id=\"edge27\" class=\"edge\"><title>21&#45;&gt;33</title>\r\n",
       "<path fill=\"none\" stroke=\"black\" d=\"M861.887,-341.907C847.321,-329.99 831.415,-316.976 816.924,-305.12\"/>\r\n",
       "<polygon fill=\"black\" stroke=\"black\" points=\"818.993,-302.29 809.037,-298.667 814.561,-307.708 818.993,-302.29\"/>\r\n",
       "</g>\r\n",
       "<!-- 34 -->\r\n",
       "<g id=\"node29\" class=\"node\"><title>34</title>\r\n",
       "<path fill=\"#f6d4bb\" stroke=\"black\" d=\"M992,-306C992,-306 855,-306 855,-306 849,-306 843,-300 843,-294 843,-294 843,-235 843,-235 843,-229 849,-223 855,-223 855,-223 992,-223 992,-223 998,-223 1004,-229 1004,-235 1004,-235 1004,-294 1004,-294 1004,-300 998,-306 992,-306\"/>\r\n",
       "<text text-anchor=\"middle\" x=\"923.5\" y=\"-290.8\" font-family=\"Helvetica,sans-Serif\" font-size=\"14.00\">Balance &lt;= 162296.07</text>\r\n",
       "<text text-anchor=\"middle\" x=\"923.5\" y=\"-275.8\" font-family=\"Helvetica,sans-Serif\" font-size=\"14.00\">gini = 0.479</text>\r\n",
       "<text text-anchor=\"middle\" x=\"923.5\" y=\"-260.8\" font-family=\"Helvetica,sans-Serif\" font-size=\"14.00\">samples = 174</text>\r\n",
       "<text text-anchor=\"middle\" x=\"923.5\" y=\"-245.8\" font-family=\"Helvetica,sans-Serif\" font-size=\"14.00\">value = [105, 69]</text>\r\n",
       "<text text-anchor=\"middle\" x=\"923.5\" y=\"-230.8\" font-family=\"Helvetica,sans-Serif\" font-size=\"14.00\">class = Not Exited</text>\r\n",
       "</g>\r\n",
       "<!-- 21&#45;&gt;34 -->\r\n",
       "<g id=\"edge28\" class=\"edge\"><title>21&#45;&gt;34</title>\r\n",
       "<path fill=\"none\" stroke=\"black\" d=\"M915.663,-341.907C916.52,-333.558 917.431,-324.671 918.318,-316.02\"/>\r\n",
       "<polygon fill=\"black\" stroke=\"black\" points=\"921.805,-316.326 919.344,-306.021 914.842,-315.611 921.805,-316.326\"/>\r\n",
       "</g>\r\n",
       "<!-- 49 -->\r\n",
       "<g id=\"node30\" class=\"node\"><title>49</title>\r\n",
       "<path fill=\"#f2c19e\" stroke=\"black\" d=\"M969,-179.5C969,-179.5 862,-179.5 862,-179.5 856,-179.5 850,-173.5 850,-167.5 850,-167.5 850,-123.5 850,-123.5 850,-117.5 856,-111.5 862,-111.5 862,-111.5 969,-111.5 969,-111.5 975,-111.5 981,-117.5 981,-123.5 981,-123.5 981,-167.5 981,-167.5 981,-173.5 975,-179.5 969,-179.5\"/>\r\n",
       "<text text-anchor=\"middle\" x=\"915.5\" y=\"-164.3\" font-family=\"Helvetica,sans-Serif\" font-size=\"14.00\">gini = 0.447</text>\r\n",
       "<text text-anchor=\"middle\" x=\"915.5\" y=\"-149.3\" font-family=\"Helvetica,sans-Serif\" font-size=\"14.00\">samples = 145</text>\r\n",
       "<text text-anchor=\"middle\" x=\"915.5\" y=\"-134.3\" font-family=\"Helvetica,sans-Serif\" font-size=\"14.00\">value = [96, 49]</text>\r\n",
       "<text text-anchor=\"middle\" x=\"915.5\" y=\"-119.3\" font-family=\"Helvetica,sans-Serif\" font-size=\"14.00\">class = Not Exited</text>\r\n",
       "</g>\r\n",
       "<!-- 34&#45;&gt;49 -->\r\n",
       "<g id=\"edge29\" class=\"edge\"><title>34&#45;&gt;49</title>\r\n",
       "<path fill=\"none\" stroke=\"black\" d=\"M920.724,-222.907C919.993,-212.204 919.2,-200.615 918.459,-189.776\"/>\r\n",
       "<polygon fill=\"black\" stroke=\"black\" points=\"921.942,-189.405 917.768,-179.667 914.958,-189.882 921.942,-189.405\"/>\r\n",
       "</g>\r\n",
       "<!-- 50 -->\r\n",
       "<g id=\"node31\" class=\"node\"><title>50</title>\r\n",
       "<path fill=\"#92c9f1\" stroke=\"black\" d=\"M1092,-179.5C1092,-179.5 1011,-179.5 1011,-179.5 1005,-179.5 999,-173.5 999,-167.5 999,-167.5 999,-123.5 999,-123.5 999,-117.5 1005,-111.5 1011,-111.5 1011,-111.5 1092,-111.5 1092,-111.5 1098,-111.5 1104,-117.5 1104,-123.5 1104,-123.5 1104,-167.5 1104,-167.5 1104,-173.5 1098,-179.5 1092,-179.5\"/>\r\n",
       "<text text-anchor=\"middle\" x=\"1051.5\" y=\"-164.3\" font-family=\"Helvetica,sans-Serif\" font-size=\"14.00\">gini = 0.428</text>\r\n",
       "<text text-anchor=\"middle\" x=\"1051.5\" y=\"-149.3\" font-family=\"Helvetica,sans-Serif\" font-size=\"14.00\">samples = 29</text>\r\n",
       "<text text-anchor=\"middle\" x=\"1051.5\" y=\"-134.3\" font-family=\"Helvetica,sans-Serif\" font-size=\"14.00\">value = [9, 20]</text>\r\n",
       "<text text-anchor=\"middle\" x=\"1051.5\" y=\"-119.3\" font-family=\"Helvetica,sans-Serif\" font-size=\"14.00\">class = Exited</text>\r\n",
       "</g>\r\n",
       "<!-- 34&#45;&gt;50 -->\r\n",
       "<g id=\"edge30\" class=\"edge\"><title>34&#45;&gt;50</title>\r\n",
       "<path fill=\"none\" stroke=\"black\" d=\"M967.909,-222.907C980.826,-211.101 994.921,-198.217 1007.79,-186.45\"/>\r\n",
       "<polygon fill=\"black\" stroke=\"black\" points=\"1010.2,-188.997 1015.21,-179.667 1005.47,-183.83 1010.2,-188.997\"/>\r\n",
       "</g>\r\n",
       "<!-- 15 -->\r\n",
       "<g id=\"node34\" class=\"node\"><title>15</title>\r\n",
       "<path fill=\"#eb9f69\" stroke=\"black\" d=\"M1302,-425C1302,-425 1165,-425 1165,-425 1159,-425 1153,-419 1153,-413 1153,-413 1153,-354 1153,-354 1153,-348 1159,-342 1165,-342 1165,-342 1302,-342 1302,-342 1308,-342 1314,-348 1314,-354 1314,-354 1314,-413 1314,-413 1314,-419 1308,-425 1302,-425\"/>\r\n",
       "<text text-anchor=\"middle\" x=\"1233.5\" y=\"-409.8\" font-family=\"Helvetica,sans-Serif\" font-size=\"14.00\">Balance &lt;= 82341.547</text>\r\n",
       "<text text-anchor=\"middle\" x=\"1233.5\" y=\"-394.8\" font-family=\"Helvetica,sans-Serif\" font-size=\"14.00\">gini = 0.313</text>\r\n",
       "<text text-anchor=\"middle\" x=\"1233.5\" y=\"-379.8\" font-family=\"Helvetica,sans-Serif\" font-size=\"14.00\">samples = 263</text>\r\n",
       "<text text-anchor=\"middle\" x=\"1233.5\" y=\"-364.8\" font-family=\"Helvetica,sans-Serif\" font-size=\"14.00\">value = [212, 51]</text>\r\n",
       "<text text-anchor=\"middle\" x=\"1233.5\" y=\"-349.8\" font-family=\"Helvetica,sans-Serif\" font-size=\"14.00\">class = Not Exited</text>\r\n",
       "</g>\r\n",
       "<!-- 14&#45;&gt;15 -->\r\n",
       "<g id=\"edge33\" class=\"edge\"><title>14&#45;&gt;15</title>\r\n",
       "<path fill=\"none\" stroke=\"black\" d=\"M1234.81,-460.907C1234.66,-452.558 1234.51,-443.671 1234.36,-435.02\"/>\r\n",
       "<polygon fill=\"black\" stroke=\"black\" points=\"1237.86,-434.959 1234.19,-425.021 1230.86,-435.079 1237.86,-434.959\"/>\r\n",
       "</g>\r\n",
       "<!-- 16 -->\r\n",
       "<g id=\"node37\" class=\"node\"><title>16</title>\r\n",
       "<path fill=\"#399de5\" stroke=\"black\" d=\"M1425,-417.5C1425,-417.5 1344,-417.5 1344,-417.5 1338,-417.5 1332,-411.5 1332,-405.5 1332,-405.5 1332,-361.5 1332,-361.5 1332,-355.5 1338,-349.5 1344,-349.5 1344,-349.5 1425,-349.5 1425,-349.5 1431,-349.5 1437,-355.5 1437,-361.5 1437,-361.5 1437,-405.5 1437,-405.5 1437,-411.5 1431,-417.5 1425,-417.5\"/>\r\n",
       "<text text-anchor=\"middle\" x=\"1384.5\" y=\"-402.3\" font-family=\"Helvetica,sans-Serif\" font-size=\"14.00\">gini = 0.0</text>\r\n",
       "<text text-anchor=\"middle\" x=\"1384.5\" y=\"-387.3\" font-family=\"Helvetica,sans-Serif\" font-size=\"14.00\">samples = 44</text>\r\n",
       "<text text-anchor=\"middle\" x=\"1384.5\" y=\"-372.3\" font-family=\"Helvetica,sans-Serif\" font-size=\"14.00\">value = [0, 44]</text>\r\n",
       "<text text-anchor=\"middle\" x=\"1384.5\" y=\"-357.3\" font-family=\"Helvetica,sans-Serif\" font-size=\"14.00\">class = Exited</text>\r\n",
       "</g>\r\n",
       "<!-- 14&#45;&gt;16 -->\r\n",
       "<g id=\"edge36\" class=\"edge\"><title>14&#45;&gt;16</title>\r\n",
       "<path fill=\"none\" stroke=\"black\" d=\"M1287.19,-460.907C1302.37,-448.99 1318.95,-435.976 1334.04,-424.12\"/>\r\n",
       "<polygon fill=\"black\" stroke=\"black\" points=\"1336.56,-426.596 1342.26,-417.667 1332.24,-421.09 1336.56,-426.596\"/>\r\n",
       "</g>\r\n",
       "<!-- 57 -->\r\n",
       "<g id=\"node35\" class=\"node\"><title>57</title>\r\n",
       "<path fill=\"#e89051\" stroke=\"black\" d=\"M1141,-298.5C1141,-298.5 1034,-298.5 1034,-298.5 1028,-298.5 1022,-292.5 1022,-286.5 1022,-286.5 1022,-242.5 1022,-242.5 1022,-236.5 1028,-230.5 1034,-230.5 1034,-230.5 1141,-230.5 1141,-230.5 1147,-230.5 1153,-236.5 1153,-242.5 1153,-242.5 1153,-286.5 1153,-286.5 1153,-292.5 1147,-298.5 1141,-298.5\"/>\r\n",
       "<text text-anchor=\"middle\" x=\"1087.5\" y=\"-283.3\" font-family=\"Helvetica,sans-Serif\" font-size=\"14.00\">gini = 0.193</text>\r\n",
       "<text text-anchor=\"middle\" x=\"1087.5\" y=\"-268.3\" font-family=\"Helvetica,sans-Serif\" font-size=\"14.00\">samples = 148</text>\r\n",
       "<text text-anchor=\"middle\" x=\"1087.5\" y=\"-253.3\" font-family=\"Helvetica,sans-Serif\" font-size=\"14.00\">value = [132, 16]</text>\r\n",
       "<text text-anchor=\"middle\" x=\"1087.5\" y=\"-238.3\" font-family=\"Helvetica,sans-Serif\" font-size=\"14.00\">class = Not Exited</text>\r\n",
       "</g>\r\n",
       "<!-- 15&#45;&gt;57 -->\r\n",
       "<g id=\"edge34\" class=\"edge\"><title>15&#45;&gt;57</title>\r\n",
       "<path fill=\"none\" stroke=\"black\" d=\"M1182.85,-341.907C1167.97,-329.99 1151.73,-316.976 1136.94,-305.12\"/>\r\n",
       "<polygon fill=\"black\" stroke=\"black\" points=\"1138.88,-302.189 1128.89,-298.667 1134.5,-307.652 1138.88,-302.189\"/>\r\n",
       "</g>\r\n",
       "<!-- 58 -->\r\n",
       "<g id=\"node36\" class=\"node\"><title>58</title>\r\n",
       "<path fill=\"#f0b890\" stroke=\"black\" d=\"M1290,-298.5C1290,-298.5 1183,-298.5 1183,-298.5 1177,-298.5 1171,-292.5 1171,-286.5 1171,-286.5 1171,-242.5 1171,-242.5 1171,-236.5 1177,-230.5 1183,-230.5 1183,-230.5 1290,-230.5 1290,-230.5 1296,-230.5 1302,-236.5 1302,-242.5 1302,-242.5 1302,-286.5 1302,-286.5 1302,-292.5 1296,-298.5 1290,-298.5\"/>\r\n",
       "<text text-anchor=\"middle\" x=\"1236.5\" y=\"-283.3\" font-family=\"Helvetica,sans-Serif\" font-size=\"14.00\">gini = 0.423</text>\r\n",
       "<text text-anchor=\"middle\" x=\"1236.5\" y=\"-268.3\" font-family=\"Helvetica,sans-Serif\" font-size=\"14.00\">samples = 115</text>\r\n",
       "<text text-anchor=\"middle\" x=\"1236.5\" y=\"-253.3\" font-family=\"Helvetica,sans-Serif\" font-size=\"14.00\">value = [80, 35]</text>\r\n",
       "<text text-anchor=\"middle\" x=\"1236.5\" y=\"-238.3\" font-family=\"Helvetica,sans-Serif\" font-size=\"14.00\">class = Not Exited</text>\r\n",
       "</g>\r\n",
       "<!-- 15&#45;&gt;58 -->\r\n",
       "<g id=\"edge35\" class=\"edge\"><title>15&#45;&gt;58</title>\r\n",
       "<path fill=\"none\" stroke=\"black\" d=\"M1234.54,-341.907C1234.82,-331.204 1235.11,-319.615 1235.39,-308.776\"/>\r\n",
       "<polygon fill=\"black\" stroke=\"black\" points=\"1238.89,-308.753 1235.65,-298.667 1231.89,-308.574 1238.89,-308.753\"/>\r\n",
       "</g>\r\n",
       "<!-- 9 -->\r\n",
       "<g id=\"node40\" class=\"node\"><title>9</title>\r\n",
       "<path fill=\"#eda877\" stroke=\"black\" d=\"M1632,-663C1632,-663 1493,-663 1493,-663 1487,-663 1481,-657 1481,-651 1481,-651 1481,-592 1481,-592 1481,-586 1487,-580 1493,-580 1493,-580 1632,-580 1632,-580 1638,-580 1644,-586 1644,-592 1644,-592 1644,-651 1644,-651 1644,-657 1638,-663 1632,-663\"/>\r\n",
       "<text text-anchor=\"middle\" x=\"1562.5\" y=\"-647.8\" font-family=\"Helvetica,sans-Serif\" font-size=\"14.00\">NumOfProducts &lt;= 1.5</text>\r\n",
       "<text text-anchor=\"middle\" x=\"1562.5\" y=\"-632.8\" font-family=\"Helvetica,sans-Serif\" font-size=\"14.00\">gini = 0.363</text>\r\n",
       "<text text-anchor=\"middle\" x=\"1562.5\" y=\"-617.8\" font-family=\"Helvetica,sans-Serif\" font-size=\"14.00\">samples = 1207</text>\r\n",
       "<text text-anchor=\"middle\" x=\"1562.5\" y=\"-602.8\" font-family=\"Helvetica,sans-Serif\" font-size=\"14.00\">value = [919, 288]</text>\r\n",
       "<text text-anchor=\"middle\" x=\"1562.5\" y=\"-587.8\" font-family=\"Helvetica,sans-Serif\" font-size=\"14.00\">class = Not Exited</text>\r\n",
       "</g>\r\n",
       "<!-- 4&#45;&gt;9 -->\r\n",
       "<g id=\"edge39\" class=\"edge\"><title>4&#45;&gt;9</title>\r\n",
       "<path fill=\"none\" stroke=\"black\" d=\"M1562.5,-698.907C1562.5,-690.649 1562.5,-681.864 1562.5,-673.302\"/>\r\n",
       "<polygon fill=\"black\" stroke=\"black\" points=\"1566,-673.021 1562.5,-663.021 1559,-673.021 1566,-673.021\"/>\r\n",
       "</g>\r\n",
       "<!-- 10 -->\r\n",
       "<g id=\"node59\" class=\"node\"><title>10</title>\r\n",
       "<path fill=\"#45a3e7\" stroke=\"black\" d=\"M1755,-655.5C1755,-655.5 1674,-655.5 1674,-655.5 1668,-655.5 1662,-649.5 1662,-643.5 1662,-643.5 1662,-599.5 1662,-599.5 1662,-593.5 1668,-587.5 1674,-587.5 1674,-587.5 1755,-587.5 1755,-587.5 1761,-587.5 1767,-593.5 1767,-599.5 1767,-599.5 1767,-643.5 1767,-643.5 1767,-649.5 1761,-655.5 1755,-655.5\"/>\r\n",
       "<text text-anchor=\"middle\" x=\"1714.5\" y=\"-640.3\" font-family=\"Helvetica,sans-Serif\" font-size=\"14.00\">gini = 0.105</text>\r\n",
       "<text text-anchor=\"middle\" x=\"1714.5\" y=\"-625.3\" font-family=\"Helvetica,sans-Serif\" font-size=\"14.00\">samples = 54</text>\r\n",
       "<text text-anchor=\"middle\" x=\"1714.5\" y=\"-610.3\" font-family=\"Helvetica,sans-Serif\" font-size=\"14.00\">value = [3, 51]</text>\r\n",
       "<text text-anchor=\"middle\" x=\"1714.5\" y=\"-595.3\" font-family=\"Helvetica,sans-Serif\" font-size=\"14.00\">class = Exited</text>\r\n",
       "</g>\r\n",
       "<!-- 4&#45;&gt;10 -->\r\n",
       "<g id=\"edge58\" class=\"edge\"><title>4&#45;&gt;10</title>\r\n",
       "<path fill=\"none\" stroke=\"black\" d=\"M1615.24,-698.907C1630.86,-686.88 1647.94,-673.735 1663.46,-661.791\"/>\r\n",
       "<polygon fill=\"black\" stroke=\"black\" points=\"1665.62,-664.54 1671.41,-655.667 1661.35,-658.993 1665.62,-664.54\"/>\r\n",
       "</g>\r\n",
       "<!-- 17 -->\r\n",
       "<g id=\"node41\" class=\"node\"><title>17</title>\r\n",
       "<path fill=\"#f3c3a0\" stroke=\"black\" d=\"M1616,-544C1616,-544 1509,-544 1509,-544 1503,-544 1497,-538 1497,-532 1497,-532 1497,-473 1497,-473 1497,-467 1503,-461 1509,-461 1509,-461 1616,-461 1616,-461 1622,-461 1628,-467 1628,-473 1628,-473 1628,-532 1628,-532 1628,-538 1622,-544 1616,-544\"/>\r\n",
       "<text text-anchor=\"middle\" x=\"1562.5\" y=\"-528.8\" font-family=\"Helvetica,sans-Serif\" font-size=\"14.00\">Germany &lt;= 0.5</text>\r\n",
       "<text text-anchor=\"middle\" x=\"1562.5\" y=\"-513.8\" font-family=\"Helvetica,sans-Serif\" font-size=\"14.00\">gini = 0.45</text>\r\n",
       "<text text-anchor=\"middle\" x=\"1562.5\" y=\"-498.8\" font-family=\"Helvetica,sans-Serif\" font-size=\"14.00\">samples = 651</text>\r\n",
       "<text text-anchor=\"middle\" x=\"1562.5\" y=\"-483.8\" font-family=\"Helvetica,sans-Serif\" font-size=\"14.00\">value = [428, 223]</text>\r\n",
       "<text text-anchor=\"middle\" x=\"1562.5\" y=\"-468.8\" font-family=\"Helvetica,sans-Serif\" font-size=\"14.00\">class = Not Exited</text>\r\n",
       "</g>\r\n",
       "<!-- 9&#45;&gt;17 -->\r\n",
       "<g id=\"edge40\" class=\"edge\"><title>9&#45;&gt;17</title>\r\n",
       "<path fill=\"none\" stroke=\"black\" d=\"M1562.5,-579.907C1562.5,-571.649 1562.5,-562.864 1562.5,-554.302\"/>\r\n",
       "<polygon fill=\"black\" stroke=\"black\" points=\"1566,-554.021 1562.5,-544.021 1559,-554.021 1566,-554.021\"/>\r\n",
       "</g>\r\n",
       "<!-- 18 -->\r\n",
       "<g id=\"node56\" class=\"node\"><title>18</title>\r\n",
       "<path fill=\"#e89253\" stroke=\"black\" d=\"M1949,-544C1949,-544 1812,-544 1812,-544 1806,-544 1800,-538 1800,-532 1800,-532 1800,-473 1800,-473 1800,-467 1806,-461 1812,-461 1812,-461 1949,-461 1949,-461 1955,-461 1961,-467 1961,-473 1961,-473 1961,-532 1961,-532 1961,-538 1955,-544 1949,-544\"/>\r\n",
       "<text text-anchor=\"middle\" x=\"1880.5\" y=\"-528.8\" font-family=\"Helvetica,sans-Serif\" font-size=\"14.00\">Balance &lt;= 43031.969</text>\r\n",
       "<text text-anchor=\"middle\" x=\"1880.5\" y=\"-513.8\" font-family=\"Helvetica,sans-Serif\" font-size=\"14.00\">gini = 0.206</text>\r\n",
       "<text text-anchor=\"middle\" x=\"1880.5\" y=\"-498.8\" font-family=\"Helvetica,sans-Serif\" font-size=\"14.00\">samples = 556</text>\r\n",
       "<text text-anchor=\"middle\" x=\"1880.5\" y=\"-483.8\" font-family=\"Helvetica,sans-Serif\" font-size=\"14.00\">value = [491, 65]</text>\r\n",
       "<text text-anchor=\"middle\" x=\"1880.5\" y=\"-468.8\" font-family=\"Helvetica,sans-Serif\" font-size=\"14.00\">class = Not Exited</text>\r\n",
       "</g>\r\n",
       "<!-- 9&#45;&gt;18 -->\r\n",
       "<g id=\"edge55\" class=\"edge\"><title>9&#45;&gt;18</title>\r\n",
       "<path fill=\"none\" stroke=\"black\" d=\"M1644.27,-583.29C1647.04,-582.162 1649.79,-581.062 1652.5,-580 1697.31,-562.449 1748,-545.193 1790.18,-531.525\"/>\r\n",
       "<polygon fill=\"black\" stroke=\"black\" points=\"1791.43,-534.799 1799.87,-528.398 1789.28,-528.137 1791.43,-534.799\"/>\r\n",
       "</g>\r\n",
       "<!-- 19 -->\r\n",
       "<g id=\"node42\" class=\"node\"><title>19</title>\r\n",
       "<path fill=\"#eeae7f\" stroke=\"black\" d=\"M1630,-425C1630,-425 1493,-425 1493,-425 1487,-425 1481,-419 1481,-413 1481,-413 1481,-354 1481,-354 1481,-348 1487,-342 1493,-342 1493,-342 1630,-342 1630,-342 1636,-342 1642,-348 1642,-354 1642,-354 1642,-413 1642,-413 1642,-419 1636,-425 1630,-425\"/>\r\n",
       "<text text-anchor=\"middle\" x=\"1561.5\" y=\"-409.8\" font-family=\"Helvetica,sans-Serif\" font-size=\"14.00\">Balance &lt;= 66455.926</text>\r\n",
       "<text text-anchor=\"middle\" x=\"1561.5\" y=\"-394.8\" font-family=\"Helvetica,sans-Serif\" font-size=\"14.00\">gini = 0.387</text>\r\n",
       "<text text-anchor=\"middle\" x=\"1561.5\" y=\"-379.8\" font-family=\"Helvetica,sans-Serif\" font-size=\"14.00\">samples = 466</text>\r\n",
       "<text text-anchor=\"middle\" x=\"1561.5\" y=\"-364.8\" font-family=\"Helvetica,sans-Serif\" font-size=\"14.00\">value = [344, 122]</text>\r\n",
       "<text text-anchor=\"middle\" x=\"1561.5\" y=\"-349.8\" font-family=\"Helvetica,sans-Serif\" font-size=\"14.00\">class = Not Exited</text>\r\n",
       "</g>\r\n",
       "<!-- 17&#45;&gt;19 -->\r\n",
       "<g id=\"edge41\" class=\"edge\"><title>17&#45;&gt;19</title>\r\n",
       "<path fill=\"none\" stroke=\"black\" d=\"M1562.15,-460.907C1562.08,-452.649 1562.01,-443.864 1561.93,-435.302\"/>\r\n",
       "<polygon fill=\"black\" stroke=\"black\" points=\"1565.43,-434.99 1561.85,-425.021 1558.43,-435.05 1565.43,-434.99\"/>\r\n",
       "</g>\r\n",
       "<!-- 20 -->\r\n",
       "<g id=\"node51\" class=\"node\"><title>20</title>\r\n",
       "<path fill=\"#deeffb\" stroke=\"black\" d=\"M1784.5,-425C1784.5,-425 1686.5,-425 1686.5,-425 1680.5,-425 1674.5,-419 1674.5,-413 1674.5,-413 1674.5,-354 1674.5,-354 1674.5,-348 1680.5,-342 1686.5,-342 1686.5,-342 1784.5,-342 1784.5,-342 1790.5,-342 1796.5,-348 1796.5,-354 1796.5,-354 1796.5,-413 1796.5,-413 1796.5,-419 1790.5,-425 1784.5,-425\"/>\r\n",
       "<text text-anchor=\"middle\" x=\"1735.5\" y=\"-409.8\" font-family=\"Helvetica,sans-Serif\" font-size=\"14.00\">Age &lt;= 58.5</text>\r\n",
       "<text text-anchor=\"middle\" x=\"1735.5\" y=\"-394.8\" font-family=\"Helvetica,sans-Serif\" font-size=\"14.00\">gini = 0.496</text>\r\n",
       "<text text-anchor=\"middle\" x=\"1735.5\" y=\"-379.8\" font-family=\"Helvetica,sans-Serif\" font-size=\"14.00\">samples = 185</text>\r\n",
       "<text text-anchor=\"middle\" x=\"1735.5\" y=\"-364.8\" font-family=\"Helvetica,sans-Serif\" font-size=\"14.00\">value = [84, 101]</text>\r\n",
       "<text text-anchor=\"middle\" x=\"1735.5\" y=\"-349.8\" font-family=\"Helvetica,sans-Serif\" font-size=\"14.00\">class = Exited</text>\r\n",
       "</g>\r\n",
       "<!-- 17&#45;&gt;20 -->\r\n",
       "<g id=\"edge50\" class=\"edge\"><title>17&#45;&gt;20</title>\r\n",
       "<path fill=\"none\" stroke=\"black\" d=\"M1622.52,-460.907C1636.88,-451.197 1652.31,-440.758 1667.02,-430.811\"/>\r\n",
       "<polygon fill=\"black\" stroke=\"black\" points=\"1669.26,-433.522 1675.58,-425.021 1665.34,-427.724 1669.26,-433.522\"/>\r\n",
       "</g>\r\n",
       "<!-- 29 -->\r\n",
       "<g id=\"node43\" class=\"node\"><title>29</title>\r\n",
       "<path fill=\"#f8decb\" stroke=\"black\" d=\"M1439,-306C1439,-306 1332,-306 1332,-306 1326,-306 1320,-300 1320,-294 1320,-294 1320,-235 1320,-235 1320,-229 1326,-223 1332,-223 1332,-223 1439,-223 1439,-223 1445,-223 1451,-229 1451,-235 1451,-235 1451,-294 1451,-294 1451,-300 1445,-306 1439,-306\"/>\r\n",
       "<text text-anchor=\"middle\" x=\"1385.5\" y=\"-290.8\" font-family=\"Helvetica,sans-Serif\" font-size=\"14.00\">Age &lt;= 61.5</text>\r\n",
       "<text text-anchor=\"middle\" x=\"1385.5\" y=\"-275.8\" font-family=\"Helvetica,sans-Serif\" font-size=\"14.00\">gini = 0.489</text>\r\n",
       "<text text-anchor=\"middle\" x=\"1385.5\" y=\"-260.8\" font-family=\"Helvetica,sans-Serif\" font-size=\"14.00\">samples = 139</text>\r\n",
       "<text text-anchor=\"middle\" x=\"1385.5\" y=\"-245.8\" font-family=\"Helvetica,sans-Serif\" font-size=\"14.00\">value = [80, 59]</text>\r\n",
       "<text text-anchor=\"middle\" x=\"1385.5\" y=\"-230.8\" font-family=\"Helvetica,sans-Serif\" font-size=\"14.00\">class = Not Exited</text>\r\n",
       "</g>\r\n",
       "<!-- 19&#45;&gt;29 -->\r\n",
       "<g id=\"edge42\" class=\"edge\"><title>19&#45;&gt;29</title>\r\n",
       "<path fill=\"none\" stroke=\"black\" d=\"M1500.44,-341.907C1485.83,-332.197 1470.13,-321.758 1455.16,-311.811\"/>\r\n",
       "<polygon fill=\"black\" stroke=\"black\" points=\"1456.72,-308.642 1446.45,-306.021 1452.84,-314.472 1456.72,-308.642\"/>\r\n",
       "</g>\r\n",
       "<!-- 30 -->\r\n",
       "<g id=\"node48\" class=\"node\"><title>30</title>\r\n",
       "<path fill=\"#eb9f68\" stroke=\"black\" d=\"M1634.5,-306C1634.5,-306 1488.5,-306 1488.5,-306 1482.5,-306 1476.5,-300 1476.5,-294 1476.5,-294 1476.5,-235 1476.5,-235 1476.5,-229 1482.5,-223 1488.5,-223 1488.5,-223 1634.5,-223 1634.5,-223 1640.5,-223 1646.5,-229 1646.5,-235 1646.5,-235 1646.5,-294 1646.5,-294 1646.5,-300 1640.5,-306 1634.5,-306\"/>\r\n",
       "<text text-anchor=\"middle\" x=\"1561.5\" y=\"-290.8\" font-family=\"Helvetica,sans-Serif\" font-size=\"14.00\">Balance &lt;= 191171.609</text>\r\n",
       "<text text-anchor=\"middle\" x=\"1561.5\" y=\"-275.8\" font-family=\"Helvetica,sans-Serif\" font-size=\"14.00\">gini = 0.311</text>\r\n",
       "<text text-anchor=\"middle\" x=\"1561.5\" y=\"-260.8\" font-family=\"Helvetica,sans-Serif\" font-size=\"14.00\">samples = 327</text>\r\n",
       "<text text-anchor=\"middle\" x=\"1561.5\" y=\"-245.8\" font-family=\"Helvetica,sans-Serif\" font-size=\"14.00\">value = [264, 63]</text>\r\n",
       "<text text-anchor=\"middle\" x=\"1561.5\" y=\"-230.8\" font-family=\"Helvetica,sans-Serif\" font-size=\"14.00\">class = Not Exited</text>\r\n",
       "</g>\r\n",
       "<!-- 19&#45;&gt;30 -->\r\n",
       "<g id=\"edge47\" class=\"edge\"><title>19&#45;&gt;30</title>\r\n",
       "<path fill=\"none\" stroke=\"black\" d=\"M1561.5,-341.907C1561.5,-333.649 1561.5,-324.864 1561.5,-316.302\"/>\r\n",
       "<polygon fill=\"black\" stroke=\"black\" points=\"1565,-316.021 1561.5,-306.021 1558,-316.021 1565,-316.021\"/>\r\n",
       "</g>\r\n",
       "<!-- 35 -->\r\n",
       "<g id=\"node44\" class=\"node\"><title>35</title>\r\n",
       "<path fill=\"#f5fafe\" stroke=\"black\" d=\"M1279,-187C1279,-187 1190,-187 1190,-187 1184,-187 1178,-181 1178,-175 1178,-175 1178,-116 1178,-116 1178,-110 1184,-104 1190,-104 1190,-104 1279,-104 1279,-104 1285,-104 1291,-110 1291,-116 1291,-116 1291,-175 1291,-175 1291,-181 1285,-187 1279,-187\"/>\r\n",
       "<text text-anchor=\"middle\" x=\"1234.5\" y=\"-171.8\" font-family=\"Helvetica,sans-Serif\" font-size=\"14.00\">Age &lt;= 44.5</text>\r\n",
       "<text text-anchor=\"middle\" x=\"1234.5\" y=\"-156.8\" font-family=\"Helvetica,sans-Serif\" font-size=\"14.00\">gini = 0.5</text>\r\n",
       "<text text-anchor=\"middle\" x=\"1234.5\" y=\"-141.8\" font-family=\"Helvetica,sans-Serif\" font-size=\"14.00\">samples = 113</text>\r\n",
       "<text text-anchor=\"middle\" x=\"1234.5\" y=\"-126.8\" font-family=\"Helvetica,sans-Serif\" font-size=\"14.00\">value = [55, 58]</text>\r\n",
       "<text text-anchor=\"middle\" x=\"1234.5\" y=\"-111.8\" font-family=\"Helvetica,sans-Serif\" font-size=\"14.00\">class = Exited</text>\r\n",
       "</g>\r\n",
       "<!-- 29&#45;&gt;35 -->\r\n",
       "<g id=\"edge43\" class=\"edge\"><title>29&#45;&gt;35</title>\r\n",
       "<path fill=\"none\" stroke=\"black\" d=\"M1333.11,-222.907C1320.81,-213.379 1307.61,-203.148 1294.99,-193.37\"/>\r\n",
       "<polygon fill=\"black\" stroke=\"black\" points=\"1296.84,-190.379 1286.8,-187.021 1292.56,-195.912 1296.84,-190.379\"/>\r\n",
       "</g>\r\n",
       "<!-- 36 -->\r\n",
       "<g id=\"node47\" class=\"node\"><title>36</title>\r\n",
       "<path fill=\"#e68641\" stroke=\"black\" d=\"M1428,-179.5C1428,-179.5 1321,-179.5 1321,-179.5 1315,-179.5 1309,-173.5 1309,-167.5 1309,-167.5 1309,-123.5 1309,-123.5 1309,-117.5 1315,-111.5 1321,-111.5 1321,-111.5 1428,-111.5 1428,-111.5 1434,-111.5 1440,-117.5 1440,-123.5 1440,-123.5 1440,-167.5 1440,-167.5 1440,-173.5 1434,-179.5 1428,-179.5\"/>\r\n",
       "<text text-anchor=\"middle\" x=\"1374.5\" y=\"-164.3\" font-family=\"Helvetica,sans-Serif\" font-size=\"14.00\">gini = 0.074</text>\r\n",
       "<text text-anchor=\"middle\" x=\"1374.5\" y=\"-149.3\" font-family=\"Helvetica,sans-Serif\" font-size=\"14.00\">samples = 26</text>\r\n",
       "<text text-anchor=\"middle\" x=\"1374.5\" y=\"-134.3\" font-family=\"Helvetica,sans-Serif\" font-size=\"14.00\">value = [25, 1]</text>\r\n",
       "<text text-anchor=\"middle\" x=\"1374.5\" y=\"-119.3\" font-family=\"Helvetica,sans-Serif\" font-size=\"14.00\">class = Not Exited</text>\r\n",
       "</g>\r\n",
       "<!-- 29&#45;&gt;36 -->\r\n",
       "<g id=\"edge46\" class=\"edge\"><title>29&#45;&gt;36</title>\r\n",
       "<path fill=\"none\" stroke=\"black\" d=\"M1381.68,-222.907C1380.68,-212.204 1379.59,-200.615 1378.57,-189.776\"/>\r\n",
       "<polygon fill=\"black\" stroke=\"black\" points=\"1382.04,-189.295 1377.62,-179.667 1375.07,-189.951 1382.04,-189.295\"/>\r\n",
       "</g>\r\n",
       "<!-- 51 -->\r\n",
       "<g id=\"node45\" class=\"node\"><title>51</title>\r\n",
       "<path fill=\"#eb9f68\" stroke=\"black\" d=\"M1218,-68C1218,-68 1111,-68 1111,-68 1105,-68 1099,-62 1099,-56 1099,-56 1099,-12 1099,-12 1099,-6 1105,-0 1111,-0 1111,-0 1218,-0 1218,-0 1224,-0 1230,-6 1230,-12 1230,-12 1230,-56 1230,-56 1230,-62 1224,-68 1218,-68\"/>\r\n",
       "<text text-anchor=\"middle\" x=\"1164.5\" y=\"-52.8\" font-family=\"Helvetica,sans-Serif\" font-size=\"14.00\">gini = 0.308</text>\r\n",
       "<text text-anchor=\"middle\" x=\"1164.5\" y=\"-37.8\" font-family=\"Helvetica,sans-Serif\" font-size=\"14.00\">samples = 21</text>\r\n",
       "<text text-anchor=\"middle\" x=\"1164.5\" y=\"-22.8\" font-family=\"Helvetica,sans-Serif\" font-size=\"14.00\">value = [17, 4]</text>\r\n",
       "<text text-anchor=\"middle\" x=\"1164.5\" y=\"-7.8\" font-family=\"Helvetica,sans-Serif\" font-size=\"14.00\">class = Not Exited</text>\r\n",
       "</g>\r\n",
       "<!-- 35&#45;&gt;51 -->\r\n",
       "<g id=\"edge44\" class=\"edge\"><title>35&#45;&gt;51</title>\r\n",
       "<path fill=\"none\" stroke=\"black\" d=\"M1208.43,-103.726C1202.84,-94.9703 1196.91,-85.7032 1191.29,-76.9051\"/>\r\n",
       "<polygon fill=\"black\" stroke=\"black\" points=\"1194.12,-74.8399 1185.79,-68.2996 1188.22,-78.6103 1194.12,-74.8399\"/>\r\n",
       "</g>\r\n",
       "<!-- 52 -->\r\n",
       "<g id=\"node46\" class=\"node\"><title>52</title>\r\n",
       "<path fill=\"#c4e2f7\" stroke=\"black\" d=\"M1349,-68C1349,-68 1260,-68 1260,-68 1254,-68 1248,-62 1248,-56 1248,-56 1248,-12 1248,-12 1248,-6 1254,-0 1260,-0 1260,-0 1349,-0 1349,-0 1355,-0 1361,-6 1361,-12 1361,-12 1361,-56 1361,-56 1361,-62 1355,-68 1349,-68\"/>\r\n",
       "<text text-anchor=\"middle\" x=\"1304.5\" y=\"-52.8\" font-family=\"Helvetica,sans-Serif\" font-size=\"14.00\">gini = 0.485</text>\r\n",
       "<text text-anchor=\"middle\" x=\"1304.5\" y=\"-37.8\" font-family=\"Helvetica,sans-Serif\" font-size=\"14.00\">samples = 92</text>\r\n",
       "<text text-anchor=\"middle\" x=\"1304.5\" y=\"-22.8\" font-family=\"Helvetica,sans-Serif\" font-size=\"14.00\">value = [38, 54]</text>\r\n",
       "<text text-anchor=\"middle\" x=\"1304.5\" y=\"-7.8\" font-family=\"Helvetica,sans-Serif\" font-size=\"14.00\">class = Exited</text>\r\n",
       "</g>\r\n",
       "<!-- 35&#45;&gt;52 -->\r\n",
       "<g id=\"edge45\" class=\"edge\"><title>35&#45;&gt;52</title>\r\n",
       "<path fill=\"none\" stroke=\"black\" d=\"M1260.57,-103.726C1266.16,-94.9703 1272.09,-85.7032 1277.71,-76.9051\"/>\r\n",
       "<polygon fill=\"black\" stroke=\"black\" points=\"1280.78,-78.6103 1283.21,-68.2996 1274.88,-74.8399 1280.78,-78.6103\"/>\r\n",
       "</g>\r\n",
       "<!-- 41 -->\r\n",
       "<g id=\"node49\" class=\"node\"><title>41</title>\r\n",
       "<path fill=\"#eb9c64\" stroke=\"black\" d=\"M1577,-179.5C1577,-179.5 1470,-179.5 1470,-179.5 1464,-179.5 1458,-173.5 1458,-167.5 1458,-167.5 1458,-123.5 1458,-123.5 1458,-117.5 1464,-111.5 1470,-111.5 1470,-111.5 1577,-111.5 1577,-111.5 1583,-111.5 1589,-117.5 1589,-123.5 1589,-123.5 1589,-167.5 1589,-167.5 1589,-173.5 1583,-179.5 1577,-179.5\"/>\r\n",
       "<text text-anchor=\"middle\" x=\"1523.5\" y=\"-164.3\" font-family=\"Helvetica,sans-Serif\" font-size=\"14.00\">gini = 0.292</text>\r\n",
       "<text text-anchor=\"middle\" x=\"1523.5\" y=\"-149.3\" font-family=\"Helvetica,sans-Serif\" font-size=\"14.00\">samples = 321</text>\r\n",
       "<text text-anchor=\"middle\" x=\"1523.5\" y=\"-134.3\" font-family=\"Helvetica,sans-Serif\" font-size=\"14.00\">value = [264, 57]</text>\r\n",
       "<text text-anchor=\"middle\" x=\"1523.5\" y=\"-119.3\" font-family=\"Helvetica,sans-Serif\" font-size=\"14.00\">class = Not Exited</text>\r\n",
       "</g>\r\n",
       "<!-- 30&#45;&gt;41 -->\r\n",
       "<g id=\"edge48\" class=\"edge\"><title>30&#45;&gt;41</title>\r\n",
       "<path fill=\"none\" stroke=\"black\" d=\"M1548.32,-222.907C1544.8,-212.094 1541,-200.376 1537.45,-189.441\"/>\r\n",
       "<polygon fill=\"black\" stroke=\"black\" points=\"1540.69,-188.097 1534.27,-179.667 1534.03,-190.259 1540.69,-188.097\"/>\r\n",
       "</g>\r\n",
       "<!-- 42 -->\r\n",
       "<g id=\"node50\" class=\"node\"><title>42</title>\r\n",
       "<path fill=\"#399de5\" stroke=\"black\" d=\"M1700,-179.5C1700,-179.5 1619,-179.5 1619,-179.5 1613,-179.5 1607,-173.5 1607,-167.5 1607,-167.5 1607,-123.5 1607,-123.5 1607,-117.5 1613,-111.5 1619,-111.5 1619,-111.5 1700,-111.5 1700,-111.5 1706,-111.5 1712,-117.5 1712,-123.5 1712,-123.5 1712,-167.5 1712,-167.5 1712,-173.5 1706,-179.5 1700,-179.5\"/>\r\n",
       "<text text-anchor=\"middle\" x=\"1659.5\" y=\"-164.3\" font-family=\"Helvetica,sans-Serif\" font-size=\"14.00\">gini = 0.0</text>\r\n",
       "<text text-anchor=\"middle\" x=\"1659.5\" y=\"-149.3\" font-family=\"Helvetica,sans-Serif\" font-size=\"14.00\">samples = 6</text>\r\n",
       "<text text-anchor=\"middle\" x=\"1659.5\" y=\"-134.3\" font-family=\"Helvetica,sans-Serif\" font-size=\"14.00\">value = [0, 6]</text>\r\n",
       "<text text-anchor=\"middle\" x=\"1659.5\" y=\"-119.3\" font-family=\"Helvetica,sans-Serif\" font-size=\"14.00\">class = Exited</text>\r\n",
       "</g>\r\n",
       "<!-- 30&#45;&gt;42 -->\r\n",
       "<g id=\"edge49\" class=\"edge\"><title>30&#45;&gt;42</title>\r\n",
       "<path fill=\"none\" stroke=\"black\" d=\"M1595.5,-222.907C1605.11,-211.432 1615.58,-198.938 1625.21,-187.442\"/>\r\n",
       "<polygon fill=\"black\" stroke=\"black\" points=\"1627.98,-189.58 1631.72,-179.667 1622.61,-185.086 1627.98,-189.58\"/>\r\n",
       "</g>\r\n",
       "<!-- 37 -->\r\n",
       "<g id=\"node52\" class=\"node\"><title>37</title>\r\n",
       "<path fill=\"#a8d4f4\" stroke=\"black\" d=\"M1849.5,-306C1849.5,-306 1703.5,-306 1703.5,-306 1697.5,-306 1691.5,-300 1691.5,-294 1691.5,-294 1691.5,-235 1691.5,-235 1691.5,-229 1697.5,-223 1703.5,-223 1703.5,-223 1849.5,-223 1849.5,-223 1855.5,-223 1861.5,-229 1861.5,-235 1861.5,-235 1861.5,-294 1861.5,-294 1861.5,-300 1855.5,-306 1849.5,-306\"/>\r\n",
       "<text text-anchor=\"middle\" x=\"1776.5\" y=\"-290.8\" font-family=\"Helvetica,sans-Serif\" font-size=\"14.00\">Balance &lt;= 134552.766</text>\r\n",
       "<text text-anchor=\"middle\" x=\"1776.5\" y=\"-275.8\" font-family=\"Helvetica,sans-Serif\" font-size=\"14.00\">gini = 0.46</text>\r\n",
       "<text text-anchor=\"middle\" x=\"1776.5\" y=\"-260.8\" font-family=\"Helvetica,sans-Serif\" font-size=\"14.00\">samples = 134</text>\r\n",
       "<text text-anchor=\"middle\" x=\"1776.5\" y=\"-245.8\" font-family=\"Helvetica,sans-Serif\" font-size=\"14.00\">value = [48, 86]</text>\r\n",
       "<text text-anchor=\"middle\" x=\"1776.5\" y=\"-230.8\" font-family=\"Helvetica,sans-Serif\" font-size=\"14.00\">class = Exited</text>\r\n",
       "</g>\r\n",
       "<!-- 20&#45;&gt;37 -->\r\n",
       "<g id=\"edge51\" class=\"edge\"><title>20&#45;&gt;37</title>\r\n",
       "<path fill=\"none\" stroke=\"black\" d=\"M1749.72,-341.907C1752.68,-333.468 1755.83,-324.477 1758.9,-315.738\"/>\r\n",
       "<polygon fill=\"black\" stroke=\"black\" points=\"1762.3,-316.616 1762.3,-306.021 1755.69,-314.301 1762.3,-316.616\"/>\r\n",
       "</g>\r\n",
       "<!-- 38 -->\r\n",
       "<g id=\"node55\" class=\"node\"><title>38</title>\r\n",
       "<path fill=\"#f0b58b\" stroke=\"black\" d=\"M1999,-298.5C1999,-298.5 1892,-298.5 1892,-298.5 1886,-298.5 1880,-292.5 1880,-286.5 1880,-286.5 1880,-242.5 1880,-242.5 1880,-236.5 1886,-230.5 1892,-230.5 1892,-230.5 1999,-230.5 1999,-230.5 2005,-230.5 2011,-236.5 2011,-242.5 2011,-242.5 2011,-286.5 2011,-286.5 2011,-292.5 2005,-298.5 1999,-298.5\"/>\r\n",
       "<text text-anchor=\"middle\" x=\"1945.5\" y=\"-283.3\" font-family=\"Helvetica,sans-Serif\" font-size=\"14.00\">gini = 0.415</text>\r\n",
       "<text text-anchor=\"middle\" x=\"1945.5\" y=\"-268.3\" font-family=\"Helvetica,sans-Serif\" font-size=\"14.00\">samples = 51</text>\r\n",
       "<text text-anchor=\"middle\" x=\"1945.5\" y=\"-253.3\" font-family=\"Helvetica,sans-Serif\" font-size=\"14.00\">value = [36, 15]</text>\r\n",
       "<text text-anchor=\"middle\" x=\"1945.5\" y=\"-238.3\" font-family=\"Helvetica,sans-Serif\" font-size=\"14.00\">class = Not Exited</text>\r\n",
       "</g>\r\n",
       "<!-- 20&#45;&gt;38 -->\r\n",
       "<g id=\"edge54\" class=\"edge\"><title>20&#45;&gt;38</title>\r\n",
       "<path fill=\"none\" stroke=\"black\" d=\"M1796.53,-347.071C1799.56,-345.35 1802.56,-343.652 1805.5,-342 1828.2,-329.235 1853.11,-315.528 1875.54,-303.292\"/>\r\n",
       "<polygon fill=\"black\" stroke=\"black\" points=\"1877.23,-306.36 1884.33,-298.503 1873.88,-300.213 1877.23,-306.36\"/>\r\n",
       "</g>\r\n",
       "<!-- 53 -->\r\n",
       "<g id=\"node53\" class=\"node\"><title>53</title>\r\n",
       "<path fill=\"#83c1ef\" stroke=\"black\" d=\"M1831,-179.5C1831,-179.5 1742,-179.5 1742,-179.5 1736,-179.5 1730,-173.5 1730,-167.5 1730,-167.5 1730,-123.5 1730,-123.5 1730,-117.5 1736,-111.5 1742,-111.5 1742,-111.5 1831,-111.5 1831,-111.5 1837,-111.5 1843,-117.5 1843,-123.5 1843,-123.5 1843,-167.5 1843,-167.5 1843,-173.5 1837,-179.5 1831,-179.5\"/>\r\n",
       "<text text-anchor=\"middle\" x=\"1786.5\" y=\"-164.3\" font-family=\"Helvetica,sans-Serif\" font-size=\"14.00\">gini = 0.395</text>\r\n",
       "<text text-anchor=\"middle\" x=\"1786.5\" y=\"-149.3\" font-family=\"Helvetica,sans-Serif\" font-size=\"14.00\">samples = 96</text>\r\n",
       "<text text-anchor=\"middle\" x=\"1786.5\" y=\"-134.3\" font-family=\"Helvetica,sans-Serif\" font-size=\"14.00\">value = [26, 70]</text>\r\n",
       "<text text-anchor=\"middle\" x=\"1786.5\" y=\"-119.3\" font-family=\"Helvetica,sans-Serif\" font-size=\"14.00\">class = Exited</text>\r\n",
       "</g>\r\n",
       "<!-- 37&#45;&gt;53 -->\r\n",
       "<g id=\"edge52\" class=\"edge\"><title>37&#45;&gt;53</title>\r\n",
       "<path fill=\"none\" stroke=\"black\" d=\"M1779.97,-222.907C1780.88,-212.204 1781.87,-200.615 1782.8,-189.776\"/>\r\n",
       "<polygon fill=\"black\" stroke=\"black\" points=\"1786.3,-189.929 1783.67,-179.667 1779.33,-189.333 1786.3,-189.929\"/>\r\n",
       "</g>\r\n",
       "<!-- 54 -->\r\n",
       "<g id=\"node54\" class=\"node\"><title>54</title>\r\n",
       "<path fill=\"#f8ddc9\" stroke=\"black\" d=\"M1980,-179.5C1980,-179.5 1873,-179.5 1873,-179.5 1867,-179.5 1861,-173.5 1861,-167.5 1861,-167.5 1861,-123.5 1861,-123.5 1861,-117.5 1867,-111.5 1873,-111.5 1873,-111.5 1980,-111.5 1980,-111.5 1986,-111.5 1992,-117.5 1992,-123.5 1992,-123.5 1992,-167.5 1992,-167.5 1992,-173.5 1986,-179.5 1980,-179.5\"/>\r\n",
       "<text text-anchor=\"middle\" x=\"1926.5\" y=\"-164.3\" font-family=\"Helvetica,sans-Serif\" font-size=\"14.00\">gini = 0.488</text>\r\n",
       "<text text-anchor=\"middle\" x=\"1926.5\" y=\"-149.3\" font-family=\"Helvetica,sans-Serif\" font-size=\"14.00\">samples = 38</text>\r\n",
       "<text text-anchor=\"middle\" x=\"1926.5\" y=\"-134.3\" font-family=\"Helvetica,sans-Serif\" font-size=\"14.00\">value = [22, 16]</text>\r\n",
       "<text text-anchor=\"middle\" x=\"1926.5\" y=\"-119.3\" font-family=\"Helvetica,sans-Serif\" font-size=\"14.00\">class = Not Exited</text>\r\n",
       "</g>\r\n",
       "<!-- 37&#45;&gt;54 -->\r\n",
       "<g id=\"edge53\" class=\"edge\"><title>37&#45;&gt;54</title>\r\n",
       "<path fill=\"none\" stroke=\"black\" d=\"M1828.54,-222.907C1843.82,-210.99 1860.51,-197.976 1875.71,-186.12\"/>\r\n",
       "<polygon fill=\"black\" stroke=\"black\" points=\"1878.25,-188.577 1883.98,-179.667 1873.94,-183.058 1878.25,-188.577\"/>\r\n",
       "</g>\r\n",
       "<!-- 39 -->\r\n",
       "<g id=\"node57\" class=\"node\"><title>39</title>\r\n",
       "<path fill=\"#e68641\" stroke=\"black\" d=\"M1934,-417.5C1934,-417.5 1827,-417.5 1827,-417.5 1821,-417.5 1815,-411.5 1815,-405.5 1815,-405.5 1815,-361.5 1815,-361.5 1815,-355.5 1821,-349.5 1827,-349.5 1827,-349.5 1934,-349.5 1934,-349.5 1940,-349.5 1946,-355.5 1946,-361.5 1946,-361.5 1946,-405.5 1946,-405.5 1946,-411.5 1940,-417.5 1934,-417.5\"/>\r\n",
       "<text text-anchor=\"middle\" x=\"1880.5\" y=\"-402.3\" font-family=\"Helvetica,sans-Serif\" font-size=\"14.00\">gini = 0.074</text>\r\n",
       "<text text-anchor=\"middle\" x=\"1880.5\" y=\"-387.3\" font-family=\"Helvetica,sans-Serif\" font-size=\"14.00\">samples = 312</text>\r\n",
       "<text text-anchor=\"middle\" x=\"1880.5\" y=\"-372.3\" font-family=\"Helvetica,sans-Serif\" font-size=\"14.00\">value = [300, 12]</text>\r\n",
       "<text text-anchor=\"middle\" x=\"1880.5\" y=\"-357.3\" font-family=\"Helvetica,sans-Serif\" font-size=\"14.00\">class = Not Exited</text>\r\n",
       "</g>\r\n",
       "<!-- 18&#45;&gt;39 -->\r\n",
       "<g id=\"edge56\" class=\"edge\"><title>18&#45;&gt;39</title>\r\n",
       "<path fill=\"none\" stroke=\"black\" d=\"M1880.5,-460.907C1880.5,-450.204 1880.5,-438.615 1880.5,-427.776\"/>\r\n",
       "<polygon fill=\"black\" stroke=\"black\" points=\"1884,-427.667 1880.5,-417.667 1877,-427.667 1884,-427.667\"/>\r\n",
       "</g>\r\n",
       "<!-- 40 -->\r\n",
       "<g id=\"node58\" class=\"node\"><title>40</title>\r\n",
       "<path fill=\"#eca470\" stroke=\"black\" d=\"M2083,-417.5C2083,-417.5 1976,-417.5 1976,-417.5 1970,-417.5 1964,-411.5 1964,-405.5 1964,-405.5 1964,-361.5 1964,-361.5 1964,-355.5 1970,-349.5 1976,-349.5 1976,-349.5 2083,-349.5 2083,-349.5 2089,-349.5 2095,-355.5 2095,-361.5 2095,-361.5 2095,-405.5 2095,-405.5 2095,-411.5 2089,-417.5 2083,-417.5\"/>\r\n",
       "<text text-anchor=\"middle\" x=\"2029.5\" y=\"-402.3\" font-family=\"Helvetica,sans-Serif\" font-size=\"14.00\">gini = 0.34</text>\r\n",
       "<text text-anchor=\"middle\" x=\"2029.5\" y=\"-387.3\" font-family=\"Helvetica,sans-Serif\" font-size=\"14.00\">samples = 244</text>\r\n",
       "<text text-anchor=\"middle\" x=\"2029.5\" y=\"-372.3\" font-family=\"Helvetica,sans-Serif\" font-size=\"14.00\">value = [191, 53]</text>\r\n",
       "<text text-anchor=\"middle\" x=\"2029.5\" y=\"-357.3\" font-family=\"Helvetica,sans-Serif\" font-size=\"14.00\">class = Not Exited</text>\r\n",
       "</g>\r\n",
       "<!-- 18&#45;&gt;40 -->\r\n",
       "<g id=\"edge57\" class=\"edge\"><title>18&#45;&gt;40</title>\r\n",
       "<path fill=\"none\" stroke=\"black\" d=\"M1932.19,-460.907C1947.37,-448.99 1963.95,-435.976 1979.04,-424.12\"/>\r\n",
       "<polygon fill=\"black\" stroke=\"black\" points=\"1981.56,-426.596 1987.26,-417.667 1977.24,-421.09 1981.56,-426.596\"/>\r\n",
       "</g>\r\n",
       "</g>\r\n",
       "</svg>\r\n"
      ],
      "text/plain": [
       "<graphviz.files.Source at 0xcaf7348>"
      ]
     },
     "execution_count": 40,
     "metadata": {},
     "output_type": "execute_result"
    }
   ],
   "source": [
    "import graphviz\n",
    "from sklearn import tree\n",
    "features_names = [\"France\",\"Germany\",\"Spain\",'CreditScore','Gender','Age','Balance',\n",
    "       'NumOfProducts','IsActiveMember']\n",
    "class_names = ['Not Exited','Exited']\n",
    "graph_data = tree.export_graphviz(model2,feature_names=features_names,class_names=class_names,\n",
    "                                 rounded=True, filled=True)\n",
    "graph = graphviz.Source(graph_data)\n",
    "graph"
   ]
  },
  {
   "cell_type": "code",
   "execution_count": 41,
   "metadata": {},
   "outputs": [
    {
     "name": "stdout",
     "output_type": "stream",
     "text": [
      "France 0.0\n",
      "Germany 0.05476512475600039\n",
      "Spain 0.0\n",
      "CreditScore 0.005067085758864605\n",
      "Gender 0.0\n",
      "Age 0.3967934856541816\n",
      "Balance 0.10679710428617165\n",
      "NumOfProducts 0.3141213359920958\n",
      "IsActiveMember 0.12245586355268591\n"
     ]
    }
   ],
   "source": [
    "#feature importance - can be useful for feature selection\n",
    "#higher values means more important feature\n",
    "model2.feature_importances_\n",
    "for i in range(len(features_names)): print(features_names[i],model2.feature_importances_[i])"
   ]
  },
  {
   "cell_type": "markdown",
   "metadata": {},
   "source": [
    "## Optimization and Tuning"
   ]
  },
  {
   "cell_type": "code",
   "execution_count": 42,
   "metadata": {},
   "outputs": [
    {
     "data": {
      "text/plain": [
       "DecisionTreeClassifier(ccp_alpha=0.0, class_weight=None, criterion='gini',\n",
       "                       max_depth=29, max_features=None, max_leaf_nodes=None,\n",
       "                       min_impurity_decrease=0.0, min_impurity_split=None,\n",
       "                       min_samples_leaf=10, min_samples_split=30,\n",
       "                       min_weight_fraction_leaf=0.0, presort='deprecated',\n",
       "                       random_state=5, splitter='best')"
      ]
     },
     "execution_count": 42,
     "metadata": {},
     "output_type": "execute_result"
    }
   ],
   "source": [
    "#build new model\n",
    "from sklearn.tree import DecisionTreeClassifier\n",
    "model2 = DecisionTreeClassifier(max_depth=29, min_samples_leaf=10, min_samples_split=30,random_state=5)\n",
    "model2.fit(xtrain,ytrain)"
   ]
  },
  {
   "cell_type": "code",
   "execution_count": 43,
   "metadata": {},
   "outputs": [
    {
     "name": "stdout",
     "output_type": "stream",
     "text": [
      "accuracy_score 0.83\n",
      "recall_score 0.4740740740740741\n"
     ]
    }
   ],
   "source": [
    "ypred = model2.predict(xtest)\n",
    "print('accuracy_score',metrics.accuracy_score(ytest,ypred))\n",
    "print('recall_score',metrics.recall_score(ytest,ypred))"
   ]
  },
  {
   "cell_type": "markdown",
   "metadata": {},
   "source": [
    "#### Hyperparameter tuning using gridsearch"
   ]
  },
  {
   "cell_type": "code",
   "execution_count": 44,
   "metadata": {},
   "outputs": [
    {
     "name": "stdout",
     "output_type": "stream",
     "text": [
      "Fitting 5 folds for each of 1170 candidates, totalling 5850 fits\n"
     ]
    },
    {
     "name": "stderr",
     "output_type": "stream",
     "text": [
      "[Parallel(n_jobs=-1)]: Using backend LokyBackend with 4 concurrent workers.\n",
      "[Parallel(n_jobs=-1)]: Done  68 tasks      | elapsed:    2.2s\n",
      "[Parallel(n_jobs=-1)]: Done 1260 tasks      | elapsed:   11.0s\n",
      "[Parallel(n_jobs=-1)]: Done 3260 tasks      | elapsed:   28.8s\n",
      "[Parallel(n_jobs=-1)]: Done 5850 out of 5850 | elapsed:   51.9s finished\n"
     ]
    },
    {
     "data": {
      "text/plain": [
       "GridSearchCV(cv=5, error_score=nan,\n",
       "             estimator=DecisionTreeClassifier(ccp_alpha=0.0, class_weight=None,\n",
       "                                              criterion='gini', max_depth=None,\n",
       "                                              max_features=None,\n",
       "                                              max_leaf_nodes=None,\n",
       "                                              min_impurity_decrease=0.0,\n",
       "                                              min_impurity_split=None,\n",
       "                                              min_samples_leaf=1,\n",
       "                                              min_samples_split=2,\n",
       "                                              min_weight_fraction_leaf=0.0,\n",
       "                                              presort='deprecated',\n",
       "                                              random_state=None,\n",
       "                                              splitter='best'),\n",
       "             iid='deprecated', n_jobs=-1,\n",
       "             param_grid={'max_depth': array([ 5,  7,  9, 11, 13, 15, 17, 19, 21, 23, 25, 27, 29]),\n",
       "                         'min_samples_leaf': array([10, 15, 20, 25, 30, 35, 40, 45, 50]),\n",
       "                         'min_samples_split': array([ 10,  20,  30,  40,  50,  60,  70,  80,  90, 100])},\n",
       "             pre_dispatch='2*n_jobs', refit=True, return_train_score=False,\n",
       "             scoring='recall', verbose=True)"
      ]
     },
     "execution_count": 44,
     "metadata": {},
     "output_type": "execute_result"
    }
   ],
   "source": [
    "grid = {'max_depth':np.arange(5,31,2),\n",
    "       'min_samples_leaf':np.arange(10,51,5),\n",
    "       'min_samples_split':np.arange(10,101,10)}\n",
    "\n",
    "from sklearn.model_selection import GridSearchCV\n",
    "grid_search = GridSearchCV(DecisionTreeClassifier(),param_grid=grid,verbose =True,scoring='recall',cv=5,n_jobs=-1)\n",
    "grid_search.fit(x2,y)"
   ]
  },
  {
   "cell_type": "code",
   "execution_count": 45,
   "metadata": {},
   "outputs": [
    {
     "data": {
      "text/plain": [
       "{'max_depth': 25, 'min_samples_leaf': 10, 'min_samples_split': 30}"
      ]
     },
     "execution_count": 45,
     "metadata": {},
     "output_type": "execute_result"
    }
   ],
   "source": [
    "grid_search.best_params_"
   ]
  },
  {
   "cell_type": "code",
   "execution_count": 46,
   "metadata": {},
   "outputs": [
    {
     "data": {
      "text/plain": [
       "0.502695476224888"
      ]
     },
     "execution_count": 46,
     "metadata": {},
     "output_type": "execute_result"
    }
   ],
   "source": [
    "#best recall_score without overfitting\n",
    "grid_search.best_score_"
   ]
  },
  {
   "cell_type": "code",
   "execution_count": 47,
   "metadata": {
    "scrolled": true
   },
   "outputs": [
    {
     "name": "stdout",
     "output_type": "stream",
     "text": [
      "France 0.004809523233328287\n",
      "Germany 0.04188159301599667\n",
      "Spain 0.0033149107194254666\n",
      "CreditScore 0.0738155951043722\n",
      "Gender 0.01998780719028598\n",
      "Age 0.36959783319509043\n",
      "Balance 0.1416175375118182\n",
      "NumOfProducts 0.24261150057052133\n",
      "IsActiveMember 0.10236369945916146\n"
     ]
    }
   ],
   "source": [
    "#importances of features in DecisionTree\n",
    "for i in range(len(features_names)): print(features_names[i],model2.feature_importances_[i])"
   ]
  },
  {
   "cell_type": "markdown",
   "metadata": {},
   "source": [
    "### Overfitting\n",
    "- model has very good performance on train data\n",
    "- model has not so good performance on test data\n",
    "\n",
    "### Underfitting\n",
    "- model has not so good performance on train dta\n",
    "- model has similarly not so  good performance on test data"
   ]
  },
  {
   "cell_type": "markdown",
   "metadata": {},
   "source": [
    "model is very good at train data but not good with test data. we can say the model is overfitting\n",
    "\n",
    "<img src = 'images\\overfitting2.JPG'>\n",
    "\n",
    "model overfit data when it identify outliers as patterns\n",
    "\n",
    "#### How to stop it? Define the hyperparameter such as:\n",
    "- max_depth: stop tree going further so it won't learn bad patterns\n",
    "- min samples leaf: minimum samples required in each leaf\n",
    "- min samples split: minimum samples in leaf to split"
   ]
  },
  {
   "cell_type": "code",
   "execution_count": 48,
   "metadata": {},
   "outputs": [
    {
     "name": "stdout",
     "output_type": "stream",
     "text": [
      "0.6029411764705882\n",
      "0.4740740740740741\n"
     ]
    }
   ],
   "source": [
    "print(metrics.recall_score(ytrain,model2.predict(xtrain)))\n",
    "print(metrics.recall_score(ytest,model2.predict(xtest)))"
   ]
  },
  {
   "cell_type": "code",
   "execution_count": 49,
   "metadata": {},
   "outputs": [
    {
     "data": {
      "text/plain": [
       "DecisionTreeClassifier(ccp_alpha=0.0, class_weight=None, criterion='gini',\n",
       "                       max_depth=11, max_features=None, max_leaf_nodes=None,\n",
       "                       min_impurity_decrease=0.0, min_impurity_split=None,\n",
       "                       min_samples_leaf=10, min_samples_split=30,\n",
       "                       min_weight_fraction_leaf=0.0, presort='deprecated',\n",
       "                       random_state=5, splitter='best')"
      ]
     },
     "execution_count": 49,
     "metadata": {},
     "output_type": "execute_result"
    }
   ],
   "source": [
    "#build new model\n",
    "from sklearn.tree import DecisionTreeClassifier\n",
    "model3 = DecisionTreeClassifier(max_depth=11, min_samples_leaf=10, min_samples_split=30,random_state=5)\n",
    "model3.fit(xtrain,ytrain)"
   ]
  },
  {
   "cell_type": "code",
   "execution_count": 50,
   "metadata": {},
   "outputs": [
    {
     "name": "stdout",
     "output_type": "stream",
     "text": [
      "0.6066176470588235\n",
      "0.4888888888888889\n"
     ]
    }
   ],
   "source": [
    "print(metrics.recall_score(ytrain,model3.predict(xtrain)))\n",
    "print(metrics.recall_score(ytest,model3.predict(xtest)))"
   ]
  },
  {
   "cell_type": "markdown",
   "metadata": {},
   "source": [
    "# Ensemble Learning\n",
    "## 1. Bagging - Random Forest\n",
    "Randomly cluster the data into bags. Size of bags might be different. Dataset might intersect. Random Forest is one of its implementation. Random forest is randomly learning from number of rows and columns.\n",
    "\n",
    "Random forest is an ensemble classifier that consists of many decision trees which randomly learn a part of train data\n",
    "\n",
    "Ensemble learning is a collection of multiple weak learners which is more powerful than a single strong learner.\n",
    "\n",
    "Random forest usually used for large size of data for its requirement of decision tree.\n",
    "\n",
    "<img src = 'images/random_forest.JPG'>"
   ]
  },
  {
   "cell_type": "code",
   "execution_count": 51,
   "metadata": {},
   "outputs": [
    {
     "data": {
      "text/plain": [
       "RandomForestClassifier(bootstrap=True, ccp_alpha=0.0, class_weight=None,\n",
       "                       criterion='gini', max_depth=15, max_features='auto',\n",
       "                       max_leaf_nodes=None, max_samples=None,\n",
       "                       min_impurity_decrease=0.0, min_impurity_split=None,\n",
       "                       min_samples_leaf=10, min_samples_split=40,\n",
       "                       min_weight_fraction_leaf=0.0, n_estimators=50,\n",
       "                       n_jobs=None, oob_score=True, random_state=5, verbose=0,\n",
       "                       warm_start=False)"
      ]
     },
     "execution_count": 51,
     "metadata": {},
     "output_type": "execute_result"
    }
   ],
   "source": [
    "from sklearn.ensemble import RandomForestClassifier\n",
    "model4 = RandomForestClassifier(n_estimators=50,max_depth=15,min_samples_leaf=10,min_samples_split=40,\n",
    "                                random_state=5,oob_score=True)\n",
    "model4.fit(xtrain,ytrain)\n",
    "#n_estimators represents the size of forest"
   ]
  },
  {
   "cell_type": "code",
   "execution_count": 52,
   "metadata": {},
   "outputs": [
    {
     "name": "stdout",
     "output_type": "stream",
     "text": [
      "0.87925\n",
      "0.857\n",
      "0.5110294117647058\n",
      "0.43950617283950616\n"
     ]
    }
   ],
   "source": [
    "print(metrics.accuracy_score(ytrain,model4.predict(xtrain)))\n",
    "print(metrics.accuracy_score(ytest,model4.predict(xtest)))\n",
    "print(metrics.recall_score(ytrain,model4.predict(xtrain)))\n",
    "print(metrics.recall_score(ytest,model4.predict(xtest)))"
   ]
  },
  {
   "cell_type": "markdown",
   "metadata": {},
   "source": [
    "- accuracy score ~0.85 means 85% of data is predicted correctly by model\n",
    "- recall score ~0.44 means 44% of target is correctly predicted by model\n",
    "- gap between recall score of train and test data is relatively low, means the model is quitely fit  "
   ]
  },
  {
   "cell_type": "code",
   "execution_count": 53,
   "metadata": {},
   "outputs": [
    {
     "data": {
      "text/plain": [
       "0.864375"
      ]
     },
     "execution_count": 53,
     "metadata": {},
     "output_type": "execute_result"
    }
   ],
   "source": [
    "#OOB score measures the goodness of model consume the data\n",
    "model4.oob_score_"
   ]
  },
  {
   "cell_type": "markdown",
   "metadata": {},
   "source": [
    "## 2. Boosting\n",
    "Boosting is a sequential learning process. Each learner is complimenting each other. Second learner focus on first learner's error.  \n",
    "<img src = 'images/boosting.JPG'>\n",
    "\n",
    "### a. Ada Boost\n",
    "<img src = 'images/adaboost.JPG'>"
   ]
  },
  {
   "cell_type": "code",
   "execution_count": 54,
   "metadata": {},
   "outputs": [
    {
     "data": {
      "text/plain": [
       "AdaBoostClassifier(algorithm='SAMME.R', base_estimator=None, learning_rate=1.0,\n",
       "                   n_estimators=125, random_state=5)"
      ]
     },
     "execution_count": 54,
     "metadata": {},
     "output_type": "execute_result"
    }
   ],
   "source": [
    "from sklearn.ensemble import AdaBoostClassifier\n",
    "model5 = AdaBoostClassifier(n_estimators=125,random_state=5)\n",
    "model5.fit(xtrain,ytrain)"
   ]
  },
  {
   "cell_type": "code",
   "execution_count": 55,
   "metadata": {},
   "outputs": [
    {
     "name": "stdout",
     "output_type": "stream",
     "text": [
      "0.49754901960784315\n",
      "0.45185185185185184\n"
     ]
    }
   ],
   "source": [
    "print(metrics.recall_score(ytrain,model5.predict(xtrain)))\n",
    "print(metrics.recall_score(ytest,model5.predict(xtest)))"
   ]
  },
  {
   "cell_type": "markdown",
   "metadata": {},
   "source": [
    "### b. Gradient Boost\n",
    "Each tree grows slower than before as it is decreasing its learning rate."
   ]
  },
  {
   "cell_type": "code",
   "execution_count": 56,
   "metadata": {},
   "outputs": [
    {
     "data": {
      "text/plain": [
       "GradientBoostingClassifier(ccp_alpha=0.0, criterion='friedman_mse', init=None,\n",
       "                           learning_rate=0.35, loss='deviance', max_depth=3,\n",
       "                           max_features=None, max_leaf_nodes=None,\n",
       "                           min_impurity_decrease=0.0, min_impurity_split=None,\n",
       "                           min_samples_leaf=1, min_samples_split=2,\n",
       "                           min_weight_fraction_leaf=0.0, n_estimators=125,\n",
       "                           n_iter_no_change=None, presort='deprecated',\n",
       "                           random_state=5, subsample=1.0, tol=0.0001,\n",
       "                           validation_fraction=0.1, verbose=0,\n",
       "                           warm_start=False)"
      ]
     },
     "execution_count": 56,
     "metadata": {},
     "output_type": "execute_result"
    }
   ],
   "source": [
    "from sklearn.ensemble import GradientBoostingClassifier\n",
    "model6 = GradientBoostingClassifier(n_estimators=125,random_state=5,learning_rate=0.35)\n",
    "model6.fit(xtrain,ytrain)"
   ]
  },
  {
   "cell_type": "code",
   "execution_count": 57,
   "metadata": {},
   "outputs": [
    {
     "name": "stdout",
     "output_type": "stream",
     "text": [
      "0.6102941176470589\n",
      "0.4691358024691358\n"
     ]
    }
   ],
   "source": [
    "print(metrics.recall_score(ytrain,model6.predict(xtrain)))\n",
    "print(metrics.recall_score(ytest,model6.predict(xtest)))"
   ]
  },
  {
   "cell_type": "markdown",
   "metadata": {},
   "source": [
    "### c. XGBoost\n",
    "Extreme Gradient Boost is the most powerful ensemble learning, has a lot of hyperparameter"
   ]
  },
  {
   "cell_type": "code",
   "execution_count": 58,
   "metadata": {},
   "outputs": [
    {
     "data": {
      "text/plain": [
       "XGBClassifier(base_score=0.5, booster='gbtree', colsample_bylevel=1,\n",
       "              colsample_bynode=1, colsample_bytree=1, gamma=0, gpu_id=-1,\n",
       "              importance_type='gain', interaction_constraints='',\n",
       "              learning_rate=0.4, max_delta_step=0, max_depth=5,\n",
       "              min_child_weight=1, missing=nan, monotone_constraints='()',\n",
       "              n_estimators=20, n_jobs=0, num_parallel_tree=1,\n",
       "              objective='binary:logistic', random_state=5, reg_alpha=0,\n",
       "              reg_lambda=1, scale_pos_weight=1, subsample=1,\n",
       "              tree_method='exact', validate_parameters=1, verbosity=None)"
      ]
     },
     "execution_count": 58,
     "metadata": {},
     "output_type": "execute_result"
    }
   ],
   "source": [
    "from xgboost import XGBClassifier\n",
    "model7 = XGBClassifier(max_depth=5,learning_rate=0.4,n_estimators=20,random_state=5)\n",
    "model7.fit(xtrain,ytrain)"
   ]
  },
  {
   "cell_type": "code",
   "execution_count": 59,
   "metadata": {},
   "outputs": [
    {
     "name": "stdout",
     "output_type": "stream",
     "text": [
      "0.5257352941176471\n",
      "0.4419753086419753\n"
     ]
    }
   ],
   "source": [
    "print(metrics.recall_score(ytrain,model7.predict(xtrain)))\n",
    "print(metrics.recall_score(ytest,model7.predict(xtest)))"
   ]
  },
  {
   "cell_type": "code",
   "execution_count": 60,
   "metadata": {},
   "outputs": [],
   "source": [
    "def get_recall(thresh,feature,label,model):\n",
    "    ypred = model.predict_proba(feature)[:,1]\n",
    "    ypred = np.where(ypred>thresh,1,0)\n",
    "    return metrics.f1_score(label,ypred),metrics.recall_score(label,ypred)"
   ]
  },
  {
   "cell_type": "code",
   "execution_count": 61,
   "metadata": {},
   "outputs": [
    {
     "data": {
      "text/plain": [
       "(0.5507692307692308, 0.4419753086419753)"
      ]
     },
     "execution_count": 61,
     "metadata": {},
     "output_type": "execute_result"
    }
   ],
   "source": [
    "get_recall(0.5,xtest,ytest,model7)"
   ]
  },
  {
   "cell_type": "markdown",
   "metadata": {},
   "source": [
    "## 3. Stacking\n",
    "Combine different models into metamodel which is trained to output predictions based on weak learners predictions"
   ]
  },
  {
   "cell_type": "code",
   "execution_count": 67,
   "metadata": {},
   "outputs": [],
   "source": [
    "from sklearn.ensemble import RandomForestClassifier,GradientBoostingClassifier\n",
    "from sklearn.linear_model import LogisticRegression\n",
    "from mlxtend.classifier import StackingClassifier\n",
    "from sklearn.tree import DecisionTreeClassifier"
   ]
  },
  {
   "cell_type": "code",
   "execution_count": 68,
   "metadata": {},
   "outputs": [],
   "source": [
    "rf = RandomForestClassifier(n_estimators=100,random_state=5)\n",
    "gb = GradientBoostingClassifier(n_estimators=100,random_state=5)\n",
    "lr = LogisticRegression()\n",
    "dt = DecisionTreeClassifier(max_depth=20)"
   ]
  },
  {
   "cell_type": "code",
   "execution_count": 70,
   "metadata": {
    "collapsed": true
   },
   "outputs": [
    {
     "data": {
      "text/plain": [
       "StackingClassifier(average_probas=False,\n",
       "                   classifiers=[RandomForestClassifier(bootstrap=True,\n",
       "                                                       ccp_alpha=0.0,\n",
       "                                                       class_weight=None,\n",
       "                                                       criterion='gini',\n",
       "                                                       max_depth=None,\n",
       "                                                       max_features='auto',\n",
       "                                                       max_leaf_nodes=None,\n",
       "                                                       max_samples=None,\n",
       "                                                       min_impurity_decrease=0.0,\n",
       "                                                       min_impurity_split=None,\n",
       "                                                       min_samples_leaf=1,\n",
       "                                                       min_samples_split=2,\n",
       "                                                       min_weight_fraction_leaf=0.0,\n",
       "                                                       n_estimators=100,\n",
       "                                                       n_j...\n",
       "                   meta_classifier=LogisticRegression(C=1.0, class_weight=None,\n",
       "                                                      dual=False,\n",
       "                                                      fit_intercept=True,\n",
       "                                                      intercept_scaling=1,\n",
       "                                                      l1_ratio=None,\n",
       "                                                      max_iter=100,\n",
       "                                                      multi_class='auto',\n",
       "                                                      n_jobs=None, penalty='l2',\n",
       "                                                      random_state=None,\n",
       "                                                      solver='lbfgs',\n",
       "                                                      tol=0.0001, verbose=0,\n",
       "                                                      warm_start=False),\n",
       "                   store_train_meta_features=False, use_clones=True,\n",
       "                   use_features_in_secondary=False, use_probas=False,\n",
       "                   verbose=0)"
      ]
     },
     "execution_count": 70,
     "metadata": {},
     "output_type": "execute_result"
    }
   ],
   "source": [
    "model8 = StackingClassifier(classifiers=[rf,gb,dt],meta_classifier=lr)\n",
    "model8.fit(xtrain,ytrain)"
   ]
  },
  {
   "cell_type": "code",
   "execution_count": 71,
   "metadata": {},
   "outputs": [
    {
     "name": "stdout",
     "output_type": "stream",
     "text": [
      "0.9987745098039216\n",
      "0.4765432098765432\n"
     ]
    }
   ],
   "source": [
    "print(metrics.recall_score(ytrain,model8.predict(xtrain)))\n",
    "print(metrics.recall_score(ytest,model8.predict(xtest)))"
   ]
  },
  {
   "cell_type": "code",
   "execution_count": null,
   "metadata": {},
   "outputs": [],
   "source": []
  }
 ],
 "metadata": {
  "kernelspec": {
   "display_name": "Python 3",
   "language": "python",
   "name": "python3"
  },
  "language_info": {
   "codemirror_mode": {
    "name": "ipython",
    "version": 3
   },
   "file_extension": ".py",
   "mimetype": "text/x-python",
   "name": "python",
   "nbconvert_exporter": "python",
   "pygments_lexer": "ipython3",
   "version": "3.7.6"
  }
 },
 "nbformat": 4,
 "nbformat_minor": 4
}
