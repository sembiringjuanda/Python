{
 "cells": [
  {
   "cell_type": "markdown",
   "metadata": {},
   "source": [
    "# Exercise 1\n",
    "\n",
    "## Finance Account Receivable\n",
    "\n",
    "Load the dataset from \n",
    "\n",
    "https://raw.githubusercontent.com/anshupandey/Machine_Learning_Training/master/datasets/Finance-Accounts-Receivable.csv\n",
    "\n",
    "Understand the factors of successful collection efforts. You can Predict which customers will pay fastest and recover more money and improve collections efficiency.\n",
    "\n",
    "Perform - \n",
    "- Cleaing of data (If required)\n",
    "- Exploratory Analysis - This is not feature selection or feature engineering, Here you need to perform Data Analytics, Use Visualization, Statistics and Filtering to Comment on the pattern present in the data.\n",
    "- Perform Clustering usign KMeans on group of any 3 features, you find important in the previous analysis.\n",
    "- Perform Feature Engineering using suitable techniques. Comment your results and findings\n",
    "- Use appropriate algorithms to build a predictive model.\n",
    "- Compare the training time, validation accuracy and prediction time for atleast 3 algorithms using cross validation.\n",
    "- Build a pipeline for all the preprocessing steps."
   ]
  },
  {
   "cell_type": "code",
   "execution_count": 1,
   "metadata": {},
   "outputs": [],
   "source": [
    "import numpy as np\n",
    "import pandas as pd\n",
    "import matplotlib.pyplot as plt\n",
    "import seaborn as sns"
   ]
  },
  {
   "cell_type": "code",
   "execution_count": 2,
   "metadata": {
    "collapsed": true
   },
   "outputs": [
    {
     "data": {
      "text/html": [
       "<div>\n",
       "<style scoped>\n",
       "    .dataframe tbody tr th:only-of-type {\n",
       "        vertical-align: middle;\n",
       "    }\n",
       "\n",
       "    .dataframe tbody tr th {\n",
       "        vertical-align: top;\n",
       "    }\n",
       "\n",
       "    .dataframe thead th {\n",
       "        text-align: right;\n",
       "    }\n",
       "</style>\n",
       "<table border=\"1\" class=\"dataframe\">\n",
       "  <thead>\n",
       "    <tr style=\"text-align: right;\">\n",
       "      <th></th>\n",
       "      <th>countryCode</th>\n",
       "      <th>customerID</th>\n",
       "      <th>PaperlessDate</th>\n",
       "      <th>invoiceNumber</th>\n",
       "      <th>InvoiceDate</th>\n",
       "      <th>DueDate</th>\n",
       "      <th>InvoiceAmount</th>\n",
       "      <th>Disputed</th>\n",
       "      <th>SettledDate</th>\n",
       "      <th>PaperlessBill</th>\n",
       "      <th>DaysToSettle</th>\n",
       "      <th>DaysLate</th>\n",
       "    </tr>\n",
       "  </thead>\n",
       "  <tbody>\n",
       "    <tr>\n",
       "      <th>0</th>\n",
       "      <td>391</td>\n",
       "      <td>0379-NEVHP</td>\n",
       "      <td>4/6/2013</td>\n",
       "      <td>611365</td>\n",
       "      <td>1/2/2013</td>\n",
       "      <td>2/1/2013</td>\n",
       "      <td>55.94</td>\n",
       "      <td>No</td>\n",
       "      <td>1/15/2013</td>\n",
       "      <td>Paper</td>\n",
       "      <td>13</td>\n",
       "      <td>0</td>\n",
       "    </tr>\n",
       "    <tr>\n",
       "      <th>1</th>\n",
       "      <td>406</td>\n",
       "      <td>8976-AMJEO</td>\n",
       "      <td>3/3/2012</td>\n",
       "      <td>7900770</td>\n",
       "      <td>1/26/2013</td>\n",
       "      <td>2/25/2013</td>\n",
       "      <td>61.74</td>\n",
       "      <td>Yes</td>\n",
       "      <td>3/3/2013</td>\n",
       "      <td>Electronic</td>\n",
       "      <td>36</td>\n",
       "      <td>6</td>\n",
       "    </tr>\n",
       "    <tr>\n",
       "      <th>2</th>\n",
       "      <td>391</td>\n",
       "      <td>2820-XGXSB</td>\n",
       "      <td>1/26/2012</td>\n",
       "      <td>9231909</td>\n",
       "      <td>7/3/2013</td>\n",
       "      <td>8/2/2013</td>\n",
       "      <td>65.88</td>\n",
       "      <td>No</td>\n",
       "      <td>7/8/2013</td>\n",
       "      <td>Electronic</td>\n",
       "      <td>5</td>\n",
       "      <td>0</td>\n",
       "    </tr>\n",
       "    <tr>\n",
       "      <th>3</th>\n",
       "      <td>406</td>\n",
       "      <td>9322-YCTQO</td>\n",
       "      <td>4/6/2012</td>\n",
       "      <td>9888306</td>\n",
       "      <td>2/10/2013</td>\n",
       "      <td>3/12/2013</td>\n",
       "      <td>105.92</td>\n",
       "      <td>No</td>\n",
       "      <td>3/17/2013</td>\n",
       "      <td>Electronic</td>\n",
       "      <td>35</td>\n",
       "      <td>5</td>\n",
       "    </tr>\n",
       "    <tr>\n",
       "      <th>4</th>\n",
       "      <td>818</td>\n",
       "      <td>6627-ELFBK</td>\n",
       "      <td>11/26/2012</td>\n",
       "      <td>15752855</td>\n",
       "      <td>10/25/2012</td>\n",
       "      <td>11/24/2012</td>\n",
       "      <td>72.27</td>\n",
       "      <td>Yes</td>\n",
       "      <td>11/28/2012</td>\n",
       "      <td>Paper</td>\n",
       "      <td>34</td>\n",
       "      <td>4</td>\n",
       "    </tr>\n",
       "  </tbody>\n",
       "</table>\n",
       "</div>"
      ],
      "text/plain": [
       "   countryCode  customerID PaperlessDate  invoiceNumber InvoiceDate  \\\n",
       "0          391  0379-NEVHP      4/6/2013         611365    1/2/2013   \n",
       "1          406  8976-AMJEO      3/3/2012        7900770   1/26/2013   \n",
       "2          391  2820-XGXSB     1/26/2012        9231909    7/3/2013   \n",
       "3          406  9322-YCTQO      4/6/2012        9888306   2/10/2013   \n",
       "4          818  6627-ELFBK    11/26/2012       15752855  10/25/2012   \n",
       "\n",
       "      DueDate  InvoiceAmount Disputed SettledDate PaperlessBill  DaysToSettle  \\\n",
       "0    2/1/2013          55.94       No   1/15/2013         Paper            13   \n",
       "1   2/25/2013          61.74      Yes    3/3/2013    Electronic            36   \n",
       "2    8/2/2013          65.88       No    7/8/2013    Electronic             5   \n",
       "3   3/12/2013         105.92       No   3/17/2013    Electronic            35   \n",
       "4  11/24/2012          72.27      Yes  11/28/2012         Paper            34   \n",
       "\n",
       "   DaysLate  \n",
       "0         0  \n",
       "1         6  \n",
       "2         0  \n",
       "3         5  \n",
       "4         4  "
      ]
     },
     "execution_count": 2,
     "metadata": {},
     "output_type": "execute_result"
    }
   ],
   "source": [
    "df = pd.read_csv(r'https://raw.githubusercontent.com/anshupandey/Machine_Learning_Training/master/datasets/Finance-Accounts-Receivable.csv')\n",
    "df.head()"
   ]
  },
  {
   "cell_type": "code",
   "execution_count": 3,
   "metadata": {
    "collapsed": true
   },
   "outputs": [
    {
     "name": "stdout",
     "output_type": "stream",
     "text": [
      "<class 'pandas.core.frame.DataFrame'>\n",
      "RangeIndex: 2466 entries, 0 to 2465\n",
      "Data columns (total 12 columns):\n",
      " #   Column         Non-Null Count  Dtype  \n",
      "---  ------         --------------  -----  \n",
      " 0   countryCode    2466 non-null   int64  \n",
      " 1   customerID     2466 non-null   object \n",
      " 2   PaperlessDate  2466 non-null   object \n",
      " 3   invoiceNumber  2466 non-null   int64  \n",
      " 4   InvoiceDate    2466 non-null   object \n",
      " 5   DueDate        2466 non-null   object \n",
      " 6   InvoiceAmount  2466 non-null   float64\n",
      " 7   Disputed       2466 non-null   object \n",
      " 8   SettledDate    2466 non-null   object \n",
      " 9   PaperlessBill  2466 non-null   object \n",
      " 10  DaysToSettle   2466 non-null   int64  \n",
      " 11  DaysLate       2466 non-null   int64  \n",
      "dtypes: float64(1), int64(4), object(7)\n",
      "memory usage: 231.3+ KB\n"
     ]
    }
   ],
   "source": [
    "df.info()"
   ]
  },
  {
   "cell_type": "code",
   "execution_count": 4,
   "metadata": {
    "collapsed": true
   },
   "outputs": [
    {
     "data": {
      "text/plain": [
       "countryCode      0\n",
       "customerID       0\n",
       "PaperlessDate    0\n",
       "invoiceNumber    0\n",
       "InvoiceDate      0\n",
       "DueDate          0\n",
       "InvoiceAmount    0\n",
       "Disputed         0\n",
       "SettledDate      0\n",
       "PaperlessBill    0\n",
       "DaysToSettle     0\n",
       "DaysLate         0\n",
       "dtype: int64"
      ]
     },
     "execution_count": 4,
     "metadata": {},
     "output_type": "execute_result"
    }
   ],
   "source": [
    "df.isnull().sum()"
   ]
  },
  {
   "cell_type": "code",
   "execution_count": 5,
   "metadata": {},
   "outputs": [
    {
     "data": {
      "text/html": [
       "<div>\n",
       "<style scoped>\n",
       "    .dataframe tbody tr th:only-of-type {\n",
       "        vertical-align: middle;\n",
       "    }\n",
       "\n",
       "    .dataframe tbody tr th {\n",
       "        vertical-align: top;\n",
       "    }\n",
       "\n",
       "    .dataframe thead th {\n",
       "        text-align: right;\n",
       "    }\n",
       "</style>\n",
       "<table border=\"1\" class=\"dataframe\">\n",
       "  <thead>\n",
       "    <tr style=\"text-align: right;\">\n",
       "      <th></th>\n",
       "      <th>countryCode</th>\n",
       "      <th>invoiceNumber</th>\n",
       "      <th>InvoiceAmount</th>\n",
       "      <th>DaysToSettle</th>\n",
       "      <th>DaysLate</th>\n",
       "    </tr>\n",
       "  </thead>\n",
       "  <tbody>\n",
       "    <tr>\n",
       "      <th>count</th>\n",
       "      <td>2466.000000</td>\n",
       "      <td>2.466000e+03</td>\n",
       "      <td>2466.000000</td>\n",
       "      <td>2466.00000</td>\n",
       "      <td>2466.000000</td>\n",
       "    </tr>\n",
       "    <tr>\n",
       "      <th>mean</th>\n",
       "      <td>620.446067</td>\n",
       "      <td>4.978431e+09</td>\n",
       "      <td>59.895856</td>\n",
       "      <td>26.44485</td>\n",
       "      <td>3.442417</td>\n",
       "    </tr>\n",
       "    <tr>\n",
       "      <th>std</th>\n",
       "      <td>215.933610</td>\n",
       "      <td>2.884272e+09</td>\n",
       "      <td>20.435838</td>\n",
       "      <td>12.33493</td>\n",
       "      <td>6.290607</td>\n",
       "    </tr>\n",
       "    <tr>\n",
       "      <th>min</th>\n",
       "      <td>391.000000</td>\n",
       "      <td>6.113650e+05</td>\n",
       "      <td>5.260000</td>\n",
       "      <td>0.00000</td>\n",
       "      <td>0.000000</td>\n",
       "    </tr>\n",
       "    <tr>\n",
       "      <th>25%</th>\n",
       "      <td>406.000000</td>\n",
       "      <td>2.528854e+09</td>\n",
       "      <td>46.400000</td>\n",
       "      <td>18.00000</td>\n",
       "      <td>0.000000</td>\n",
       "    </tr>\n",
       "    <tr>\n",
       "      <th>50%</th>\n",
       "      <td>770.000000</td>\n",
       "      <td>4.964228e+09</td>\n",
       "      <td>60.560000</td>\n",
       "      <td>26.00000</td>\n",
       "      <td>0.000000</td>\n",
       "    </tr>\n",
       "    <tr>\n",
       "      <th>75%</th>\n",
       "      <td>818.000000</td>\n",
       "      <td>7.494512e+09</td>\n",
       "      <td>73.765000</td>\n",
       "      <td>35.00000</td>\n",
       "      <td>5.000000</td>\n",
       "    </tr>\n",
       "    <tr>\n",
       "      <th>max</th>\n",
       "      <td>897.000000</td>\n",
       "      <td>9.990244e+09</td>\n",
       "      <td>128.280000</td>\n",
       "      <td>75.00000</td>\n",
       "      <td>45.000000</td>\n",
       "    </tr>\n",
       "  </tbody>\n",
       "</table>\n",
       "</div>"
      ],
      "text/plain": [
       "       countryCode  invoiceNumber  InvoiceAmount  DaysToSettle     DaysLate\n",
       "count  2466.000000   2.466000e+03    2466.000000    2466.00000  2466.000000\n",
       "mean    620.446067   4.978431e+09      59.895856      26.44485     3.442417\n",
       "std     215.933610   2.884272e+09      20.435838      12.33493     6.290607\n",
       "min     391.000000   6.113650e+05       5.260000       0.00000     0.000000\n",
       "25%     406.000000   2.528854e+09      46.400000      18.00000     0.000000\n",
       "50%     770.000000   4.964228e+09      60.560000      26.00000     0.000000\n",
       "75%     818.000000   7.494512e+09      73.765000      35.00000     5.000000\n",
       "max     897.000000   9.990244e+09     128.280000      75.00000    45.000000"
      ]
     },
     "execution_count": 5,
     "metadata": {},
     "output_type": "execute_result"
    }
   ],
   "source": [
    "df.describe()"
   ]
  },
  {
   "cell_type": "code",
   "execution_count": 6,
   "metadata": {
    "collapsed": true
   },
   "outputs": [
    {
     "data": {
      "text/plain": [
       "Index(['countryCode', 'customerID', 'PaperlessDate', 'invoiceNumber',\n",
       "       'InvoiceDate', 'DueDate', 'InvoiceAmount', 'Disputed', 'SettledDate',\n",
       "       'PaperlessBill', 'DaysToSettle', 'DaysLate'],\n",
       "      dtype='object')"
      ]
     },
     "execution_count": 6,
     "metadata": {},
     "output_type": "execute_result"
    }
   ],
   "source": [
    "df.columns"
   ]
  },
  {
   "cell_type": "code",
   "execution_count": 7,
   "metadata": {
    "collapsed": true
   },
   "outputs": [
    {
     "data": {
      "text/html": [
       "<div>\n",
       "<style scoped>\n",
       "    .dataframe tbody tr th:only-of-type {\n",
       "        vertical-align: middle;\n",
       "    }\n",
       "\n",
       "    .dataframe tbody tr th {\n",
       "        vertical-align: top;\n",
       "    }\n",
       "\n",
       "    .dataframe thead th {\n",
       "        text-align: right;\n",
       "    }\n",
       "</style>\n",
       "<table border=\"1\" class=\"dataframe\">\n",
       "  <thead>\n",
       "    <tr style=\"text-align: right;\">\n",
       "      <th></th>\n",
       "      <th>countryCode</th>\n",
       "      <th>InvoiceAmount</th>\n",
       "      <th>Disputed</th>\n",
       "      <th>PaperlessBill</th>\n",
       "      <th>DaysToSettle</th>\n",
       "      <th>DaysLate</th>\n",
       "    </tr>\n",
       "  </thead>\n",
       "  <tbody>\n",
       "    <tr>\n",
       "      <th>0</th>\n",
       "      <td>391</td>\n",
       "      <td>55.94</td>\n",
       "      <td>No</td>\n",
       "      <td>Paper</td>\n",
       "      <td>13</td>\n",
       "      <td>0</td>\n",
       "    </tr>\n",
       "    <tr>\n",
       "      <th>1</th>\n",
       "      <td>406</td>\n",
       "      <td>61.74</td>\n",
       "      <td>Yes</td>\n",
       "      <td>Electronic</td>\n",
       "      <td>36</td>\n",
       "      <td>6</td>\n",
       "    </tr>\n",
       "    <tr>\n",
       "      <th>2</th>\n",
       "      <td>391</td>\n",
       "      <td>65.88</td>\n",
       "      <td>No</td>\n",
       "      <td>Electronic</td>\n",
       "      <td>5</td>\n",
       "      <td>0</td>\n",
       "    </tr>\n",
       "    <tr>\n",
       "      <th>3</th>\n",
       "      <td>406</td>\n",
       "      <td>105.92</td>\n",
       "      <td>No</td>\n",
       "      <td>Electronic</td>\n",
       "      <td>35</td>\n",
       "      <td>5</td>\n",
       "    </tr>\n",
       "    <tr>\n",
       "      <th>4</th>\n",
       "      <td>818</td>\n",
       "      <td>72.27</td>\n",
       "      <td>Yes</td>\n",
       "      <td>Paper</td>\n",
       "      <td>34</td>\n",
       "      <td>4</td>\n",
       "    </tr>\n",
       "  </tbody>\n",
       "</table>\n",
       "</div>"
      ],
      "text/plain": [
       "   countryCode  InvoiceAmount Disputed PaperlessBill  DaysToSettle  DaysLate\n",
       "0          391          55.94       No         Paper            13         0\n",
       "1          406          61.74      Yes    Electronic            36         6\n",
       "2          391          65.88       No    Electronic             5         0\n",
       "3          406         105.92       No    Electronic            35         5\n",
       "4          818          72.27      Yes         Paper            34         4"
      ]
     },
     "execution_count": 7,
     "metadata": {},
     "output_type": "execute_result"
    }
   ],
   "source": [
    "df.drop(['customerID','PaperlessDate','invoiceNumber','InvoiceDate','DueDate','SettledDate'],axis=1,inplace=True)\n",
    "df.head()"
   ]
  },
  {
   "cell_type": "code",
   "execution_count": 8,
   "metadata": {},
   "outputs": [
    {
     "data": {
      "text/plain": [
       "array(['Paper', 'Electronic'], dtype=object)"
      ]
     },
     "execution_count": 8,
     "metadata": {},
     "output_type": "execute_result"
    }
   ],
   "source": [
    "df['PaperlessBill'].unique()"
   ]
  },
  {
   "cell_type": "code",
   "execution_count": 9,
   "metadata": {
    "collapsed": true
   },
   "outputs": [
    {
     "data": {
      "text/html": [
       "<div>\n",
       "<style scoped>\n",
       "    .dataframe tbody tr th:only-of-type {\n",
       "        vertical-align: middle;\n",
       "    }\n",
       "\n",
       "    .dataframe tbody tr th {\n",
       "        vertical-align: top;\n",
       "    }\n",
       "\n",
       "    .dataframe thead th {\n",
       "        text-align: right;\n",
       "    }\n",
       "</style>\n",
       "<table border=\"1\" class=\"dataframe\">\n",
       "  <thead>\n",
       "    <tr style=\"text-align: right;\">\n",
       "      <th></th>\n",
       "      <th>countryCode</th>\n",
       "      <th>InvoiceAmount</th>\n",
       "      <th>Disputed</th>\n",
       "      <th>PaperlessBill</th>\n",
       "      <th>DaysToSettle</th>\n",
       "      <th>DaysLate</th>\n",
       "    </tr>\n",
       "  </thead>\n",
       "  <tbody>\n",
       "    <tr>\n",
       "      <th>0</th>\n",
       "      <td>391</td>\n",
       "      <td>55.94</td>\n",
       "      <td>No</td>\n",
       "      <td>0</td>\n",
       "      <td>13</td>\n",
       "      <td>0</td>\n",
       "    </tr>\n",
       "    <tr>\n",
       "      <th>1</th>\n",
       "      <td>406</td>\n",
       "      <td>61.74</td>\n",
       "      <td>Yes</td>\n",
       "      <td>1</td>\n",
       "      <td>36</td>\n",
       "      <td>6</td>\n",
       "    </tr>\n",
       "    <tr>\n",
       "      <th>2</th>\n",
       "      <td>391</td>\n",
       "      <td>65.88</td>\n",
       "      <td>No</td>\n",
       "      <td>1</td>\n",
       "      <td>5</td>\n",
       "      <td>0</td>\n",
       "    </tr>\n",
       "    <tr>\n",
       "      <th>3</th>\n",
       "      <td>406</td>\n",
       "      <td>105.92</td>\n",
       "      <td>No</td>\n",
       "      <td>1</td>\n",
       "      <td>35</td>\n",
       "      <td>5</td>\n",
       "    </tr>\n",
       "    <tr>\n",
       "      <th>4</th>\n",
       "      <td>818</td>\n",
       "      <td>72.27</td>\n",
       "      <td>Yes</td>\n",
       "      <td>0</td>\n",
       "      <td>34</td>\n",
       "      <td>4</td>\n",
       "    </tr>\n",
       "  </tbody>\n",
       "</table>\n",
       "</div>"
      ],
      "text/plain": [
       "   countryCode  InvoiceAmount Disputed  PaperlessBill  DaysToSettle  DaysLate\n",
       "0          391          55.94       No              0            13         0\n",
       "1          406          61.74      Yes              1            36         6\n",
       "2          391          65.88       No              1             5         0\n",
       "3          406         105.92       No              1            35         5\n",
       "4          818          72.27      Yes              0            34         4"
      ]
     },
     "execution_count": 9,
     "metadata": {},
     "output_type": "execute_result"
    }
   ],
   "source": [
    "df['PaperlessBill'].replace(['Paper','Electronic'],[0,1],inplace=True)\n",
    "df.head()"
   ]
  },
  {
   "cell_type": "code",
   "execution_count": 10,
   "metadata": {
    "collapsed": true
   },
   "outputs": [
    {
     "data": {
      "text/html": [
       "<div>\n",
       "<style scoped>\n",
       "    .dataframe tbody tr th:only-of-type {\n",
       "        vertical-align: middle;\n",
       "    }\n",
       "\n",
       "    .dataframe tbody tr th {\n",
       "        vertical-align: top;\n",
       "    }\n",
       "\n",
       "    .dataframe thead th {\n",
       "        text-align: right;\n",
       "    }\n",
       "</style>\n",
       "<table border=\"1\" class=\"dataframe\">\n",
       "  <thead>\n",
       "    <tr style=\"text-align: right;\">\n",
       "      <th></th>\n",
       "      <th>countryCode</th>\n",
       "      <th>InvoiceAmount</th>\n",
       "      <th>Disputed</th>\n",
       "      <th>PaperlessBill</th>\n",
       "      <th>DaysToSettle</th>\n",
       "      <th>DaysLate</th>\n",
       "    </tr>\n",
       "  </thead>\n",
       "  <tbody>\n",
       "    <tr>\n",
       "      <th>0</th>\n",
       "      <td>391</td>\n",
       "      <td>55.94</td>\n",
       "      <td>0</td>\n",
       "      <td>0</td>\n",
       "      <td>13</td>\n",
       "      <td>0</td>\n",
       "    </tr>\n",
       "    <tr>\n",
       "      <th>1</th>\n",
       "      <td>406</td>\n",
       "      <td>61.74</td>\n",
       "      <td>1</td>\n",
       "      <td>1</td>\n",
       "      <td>36</td>\n",
       "      <td>6</td>\n",
       "    </tr>\n",
       "    <tr>\n",
       "      <th>2</th>\n",
       "      <td>391</td>\n",
       "      <td>65.88</td>\n",
       "      <td>0</td>\n",
       "      <td>1</td>\n",
       "      <td>5</td>\n",
       "      <td>0</td>\n",
       "    </tr>\n",
       "    <tr>\n",
       "      <th>3</th>\n",
       "      <td>406</td>\n",
       "      <td>105.92</td>\n",
       "      <td>0</td>\n",
       "      <td>1</td>\n",
       "      <td>35</td>\n",
       "      <td>5</td>\n",
       "    </tr>\n",
       "    <tr>\n",
       "      <th>4</th>\n",
       "      <td>818</td>\n",
       "      <td>72.27</td>\n",
       "      <td>1</td>\n",
       "      <td>0</td>\n",
       "      <td>34</td>\n",
       "      <td>4</td>\n",
       "    </tr>\n",
       "  </tbody>\n",
       "</table>\n",
       "</div>"
      ],
      "text/plain": [
       "   countryCode  InvoiceAmount  Disputed  PaperlessBill  DaysToSettle  DaysLate\n",
       "0          391          55.94         0              0            13         0\n",
       "1          406          61.74         1              1            36         6\n",
       "2          391          65.88         0              1             5         0\n",
       "3          406         105.92         0              1            35         5\n",
       "4          818          72.27         1              0            34         4"
      ]
     },
     "execution_count": 10,
     "metadata": {},
     "output_type": "execute_result"
    }
   ],
   "source": [
    "from sklearn.preprocessing import LabelEncoder\n",
    "df.Disputed = LabelEncoder().fit_transform(df.Disputed)\n",
    "df.head()"
   ]
  },
  {
   "cell_type": "code",
   "execution_count": 46,
   "metadata": {},
   "outputs": [],
   "source": [
    "num = ['countryCode','InvoiceAmount','DaysToSettle','DaysLate']\n",
    "cat = ['PaperlessBill']"
   ]
  },
  {
   "cell_type": "code",
   "execution_count": 12,
   "metadata": {
    "collapsed": true
   },
   "outputs": [
    {
     "data": {
      "image/png": "[encoded data removed]",
      "text/plain": [
       "<Figure size 720x360 with 1 Axes>"
      ]
     },
     "metadata": {
      "needs_background": "light"
     },
     "output_type": "display_data"
    },
    {
     "data": {
      "image/png": "[encoded data removed]",
      "text/plain": [
       "<Figure size 720x360 with 1 Axes>"
      ]
     },
     "metadata": {
      "needs_background": "light"
     },
     "output_type": "display_data"
    },
    {
     "data": {
      "image/png": "[encoded data removed]",
      "text/plain": [
       "<Figure size 720x360 with 1 Axes>"
      ]
     },
     "metadata": {
      "needs_background": "light"
     },
     "output_type": "display_data"
    },
    {
     "data": {
      "image/png": "[encoded data removed]",
      "text/plain": [
       "<Figure size 720x360 with 1 Axes>"
      ]
     },
     "metadata": {
      "needs_background": "light"
     },
     "output_type": "display_data"
    }
   ],
   "source": [
    "for col in num:\n",
    "    plt.figure(figsize=(10,5))\n",
    "    sns.distplot(df[col][df.Disputed==0])\n",
    "    sns.distplot(df[col][df.Disputed==1])\n",
    "    plt.legend(['0','1'])\n",
    "    plt.show()"
   ]
  },
  {
   "cell_type": "markdown",
   "metadata": {},
   "source": [
    "InvoiceAmount, DaysToSettle, DaysLate are important\n",
    "\n",
    "- InvoiceAmount doesn't significantly\n",
    "- DaysToSettle more than 30 seem to be dispute\n",
    "- Customer who have 0 dayslate have high probability of not dispute"
   ]
  },
  {
   "cell_type": "code",
   "execution_count": 33,
   "metadata": {},
   "outputs": [
    {
     "data": {
      "text/plain": [
       "array([391, 406, 818, 897, 770], dtype=int64)"
      ]
     },
     "execution_count": 33,
     "metadata": {},
     "output_type": "execute_result"
    }
   ],
   "source": [
    "df.countryCode.unique()"
   ]
  },
  {
   "cell_type": "code",
   "execution_count": 50,
   "metadata": {},
   "outputs": [
    {
     "data": {
      "text/html": [
       "<div>\n",
       "<style scoped>\n",
       "    .dataframe tbody tr th:only-of-type {\n",
       "        vertical-align: middle;\n",
       "    }\n",
       "\n",
       "    .dataframe tbody tr th {\n",
       "        vertical-align: top;\n",
       "    }\n",
       "\n",
       "    .dataframe thead th {\n",
       "        text-align: right;\n",
       "    }\n",
       "</style>\n",
       "<table border=\"1\" class=\"dataframe\">\n",
       "  <thead>\n",
       "    <tr style=\"text-align: right;\">\n",
       "      <th></th>\n",
       "      <th>InvoiceAmount</th>\n",
       "      <th>PaperlessBill</th>\n",
       "      <th>DaysLate</th>\n",
       "    </tr>\n",
       "  </thead>\n",
       "  <tbody>\n",
       "    <tr>\n",
       "      <th>0</th>\n",
       "      <td>55.94</td>\n",
       "      <td>0</td>\n",
       "      <td>0</td>\n",
       "    </tr>\n",
       "    <tr>\n",
       "      <th>1</th>\n",
       "      <td>61.74</td>\n",
       "      <td>1</td>\n",
       "      <td>6</td>\n",
       "    </tr>\n",
       "    <tr>\n",
       "      <th>2</th>\n",
       "      <td>65.88</td>\n",
       "      <td>1</td>\n",
       "      <td>0</td>\n",
       "    </tr>\n",
       "    <tr>\n",
       "      <th>3</th>\n",
       "      <td>105.92</td>\n",
       "      <td>1</td>\n",
       "      <td>5</td>\n",
       "    </tr>\n",
       "    <tr>\n",
       "      <th>4</th>\n",
       "      <td>72.27</td>\n",
       "      <td>0</td>\n",
       "      <td>4</td>\n",
       "    </tr>\n",
       "  </tbody>\n",
       "</table>\n",
       "</div>"
      ],
      "text/plain": [
       "   InvoiceAmount  PaperlessBill  DaysLate\n",
       "0          55.94              0         0\n",
       "1          61.74              1         6\n",
       "2          65.88              1         0\n",
       "3         105.92              1         5\n",
       "4          72.27              0         4"
      ]
     },
     "execution_count": 50,
     "metadata": {},
     "output_type": "execute_result"
    }
   ],
   "source": [
    "df2 = df[['InvoiceAmount','PaperlessBill','DaysLate']]\n",
    "df2.head()"
   ]
  },
  {
   "cell_type": "code",
   "execution_count": 22,
   "metadata": {},
   "outputs": [],
   "source": [
    "#clustering based on countryCode, InvoiceAmount, DaysToSettle\n",
    "from sklearn.cluster import KMeans"
   ]
  },
  {
   "cell_type": "code",
   "execution_count": 51,
   "metadata": {},
   "outputs": [
    {
     "data": {
      "text/plain": [
       "KMeans(algorithm='auto', copy_x=True, init='k-means++', max_iter=300,\n",
       "       n_clusters=6, n_init=10, n_jobs=None, precompute_distances='auto',\n",
       "       random_state=5, tol=0.0001, verbose=0)"
      ]
     },
     "execution_count": 51,
     "metadata": {},
     "output_type": "execute_result"
    }
   ],
   "source": [
    "model = KMeans(n_clusters=6,random_state=5)\n",
    "model.fit(df2)"
   ]
  },
  {
   "cell_type": "code",
   "execution_count": 52,
   "metadata": {},
   "outputs": [
    {
     "data": {
      "text/plain": [
       "array([[22.64853755,  0.40711462,  3.09881423],\n",
       "       [59.20628834,  0.50460123,  1.08588957],\n",
       "       [92.42929032,  0.51612903,  4.11290323],\n",
       "       [43.55513761,  0.52477064,  2.99816514],\n",
       "       [65.30367816,  0.29310345, 18.49425287],\n",
       "       [74.46828947,  0.51503759,  1.63533835]])"
      ]
     },
     "execution_count": 52,
     "metadata": {},
     "output_type": "execute_result"
    }
   ],
   "source": [
    "model.cluster_centers_"
   ]
  },
  {
   "cell_type": "markdown",
   "metadata": {},
   "source": [
    "- low InvoiceAmount, not Paperless, not Late\n",
    "- moderate InvoiceAmount, Paperless, Late\n",
    "- high InvoiceAmount, Paperless, Late\n",
    "- low InvoiceAmount, Paperless, not Late\n",
    "- moderate InvoiceAmount, not Paperless, Late\n",
    "- high InvoiceAmount, Paperless, not Late"
   ]
  },
  {
   "cell_type": "code",
   "execution_count": 53,
   "metadata": {},
   "outputs": [
    {
     "data": {
      "image/png": "[encoded data removed]",
      "text/plain": [
       "<Figure size 432x288 with 1 Axes>"
      ]
     },
     "metadata": {
      "needs_background": "light"
     },
     "output_type": "display_data"
    }
   ],
   "source": [
    "sns.countplot(model.labels_)\n",
    "plt.show()"
   ]
  },
  {
   "cell_type": "markdown",
   "metadata": {},
   "source": [
    "- For low invoice amount, the performance is poor (high dayslate and high daystosettle). It needs to be evaluated and improved. Recommendation: analyze further the method of payment, reminder system."
   ]
  },
  {
   "cell_type": "code",
   "execution_count": null,
   "metadata": {},
   "outputs": [],
   "source": []
  }
 ],
 "metadata": {
  "kernelspec": {
   "display_name": "Python 3",
   "language": "python",
   "name": "python3"
  },
  "language_info": {
   "codemirror_mode": {
    "name": "ipython",
    "version": 3
   },
   "file_extension": ".py",
   "mimetype": "text/x-python",
   "name": "python",
   "nbconvert_exporter": "python",
   "pygments_lexer": "ipython3",
   "version": "3.7.6"
  }
 },
 "nbformat": 4,
 "nbformat_minor": 2
}
