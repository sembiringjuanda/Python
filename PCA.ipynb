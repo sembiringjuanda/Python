{
 "cells": [
  {
   "cell_type": "code",
   "execution_count": 1,
   "metadata": {},
   "outputs": [],
   "source": [
    "import numpy as np\n",
    "import matplotlib.pyplot as plt"
   ]
  },
  {
   "cell_type": "code",
   "execution_count": 3,
   "metadata": {},
   "outputs": [
    {
     "data": {
      "image/png": "[encoded data removed]",
      "text/plain": [
       "<Figure size 432x288 with 1 Axes>"
      ]
     },
     "metadata": {
      "needs_background": "light"
     },
     "output_type": "display_data"
    }
   ],
   "source": [
    "x1 = np.random.randint(5,15,20)\n",
    "x2 = 0.8*x1 + 0.4*np.random.randint(1,8,20)\n",
    "\n",
    "plt.scatter(x1,x2)\n",
    "plt.show()"
   ]
  },
  {
   "cell_type": "code",
   "execution_count": 4,
   "metadata": {},
   "outputs": [
    {
     "name": "stdout",
     "output_type": "stream",
     "text": [
      "(2, 20)\n",
      "(20, 2)\n"
     ]
    }
   ],
   "source": [
    "data = np.concatenate([[x1],[x2]])\n",
    "print(data.shape)\n",
    "data = data.T #transpose\n",
    "print(data.shape)"
   ]
  },
  {
   "cell_type": "code",
   "execution_count": 6,
   "metadata": {},
   "outputs": [],
   "source": [
    "from sklearn.decomposition import pca\n",
    "pca = pca.PCA(n_components=1)"
   ]
  },
  {
   "cell_type": "code",
   "execution_count": 7,
   "metadata": {},
   "outputs": [
    {
     "data": {
      "text/plain": [
       "PCA(copy=True, iterated_power='auto', n_components=1, random_state=None,\n",
       "    svd_solver='auto', tol=0.0, whiten=False)"
      ]
     },
     "execution_count": 7,
     "metadata": {},
     "output_type": "execute_result"
    }
   ],
   "source": [
    "pca.fit(data)"
   ]
  },
  {
   "cell_type": "code",
   "execution_count": 8,
   "metadata": {},
   "outputs": [
    {
     "name": "stdout",
     "output_type": "stream",
     "text": [
      "(20, 1)\n"
     ]
    }
   ],
   "source": [
    "data2 = pca.transform(data)\n",
    "print(data2.shape)"
   ]
  },
  {
   "cell_type": "code",
   "execution_count": 9,
   "metadata": {},
   "outputs": [
    {
     "data": {
      "text/plain": [
       "array([[12. , 10. ],\n",
       "       [13. , 12. ],\n",
       "       [12. , 12. ],\n",
       "       [12. , 11.2],\n",
       "       [ 9. ,  8.4],\n",
       "       [ 7. ,  7.2],\n",
       "       [ 7. ,  6. ],\n",
       "       [11. ,  9.6],\n",
       "       [10. , 10.8],\n",
       "       [ 5. ,  6. ],\n",
       "       [11. , 11.2],\n",
       "       [ 9. ,  9.6],\n",
       "       [ 5. ,  6.8],\n",
       "       [12. , 11.6],\n",
       "       [12. , 11.6],\n",
       "       [ 8. ,  8. ],\n",
       "       [ 8. ,  7.6],\n",
       "       [ 5. ,  4.4],\n",
       "       [ 9. ,  9.2],\n",
       "       [ 6. ,  6. ]])"
      ]
     },
     "execution_count": 9,
     "metadata": {},
     "output_type": "execute_result"
    }
   ],
   "source": [
    "data"
   ]
  },
  {
   "cell_type": "code",
   "execution_count": 10,
   "metadata": {},
   "outputs": [
    {
     "data": {
      "text/plain": [
       "array([[-2.8304134 ],\n",
       "       [-4.8994373 ],\n",
       "       [-4.14642401],\n",
       "       [-3.62001977],\n",
       "       [ 0.48143496],\n",
       "       [ 2.77706792],\n",
       "       [ 3.56667428],\n",
       "       [-1.81419799],\n",
       "       [-1.85079106],\n",
       "       [ 5.07270087],\n",
       "       [-2.86700647],\n",
       "       [-0.3081714 ],\n",
       "       [ 4.54629663],\n",
       "       [-3.88322189],\n",
       "       [-3.88322189],\n",
       "       [ 1.49765038],\n",
       "       [ 1.7608525 ],\n",
       "       [ 6.12550935],\n",
       "       [-0.04496928],\n",
       "       [ 4.31968757]])"
      ]
     },
     "execution_count": 10,
     "metadata": {},
     "output_type": "execute_result"
    }
   ],
   "source": [
    "data2"
   ]
  },
  {
   "cell_type": "code",
   "execution_count": 12,
   "metadata": {},
   "outputs": [
    {
     "data": {
      "text/plain": [
       "array([0.97448661])"
      ]
     },
     "execution_count": 12,
     "metadata": {},
     "output_type": "execute_result"
    }
   ],
   "source": [
    "pca.explained_variance_ratio_"
   ]
  },
  {
   "cell_type": "code",
   "execution_count": 14,
   "metadata": {},
   "outputs": [
    {
     "data": {
      "text/plain": [
       "array([[11.28133892, 10.82242703],\n",
       "       [12.83934143, 12.18385573],\n",
       "       [12.2723124 , 11.68836898],\n",
       "       [11.87592301, 11.3419922 ],\n",
       "       [ 8.78747307,  8.64321324],\n",
       "       [ 7.05883094,  7.13267459],\n",
       "       [ 6.46424685,  6.61310941],\n",
       "       [10.5161152 , 10.1537519 ],\n",
       "       [10.54367027, 10.17783033],\n",
       "       [ 5.33018881,  5.62213593],\n",
       "       [11.30889399, 10.84650546],\n",
       "       [ 9.38205716,  9.16277841],\n",
       "       [ 5.7265782 ,  5.96851271],\n",
       "       [12.07411771, 11.51518059],\n",
       "       [12.07411771, 11.51518059],\n",
       "       [ 8.02224935,  7.97453811],\n",
       "       [ 7.82405466,  7.80134972],\n",
       "       [ 4.53741002,  4.92938237],\n",
       "       [ 9.18386246,  8.98959002],\n",
       "       [ 5.89721783,  6.11762267]])"
      ]
     },
     "execution_count": 14,
     "metadata": {},
     "output_type": "execute_result"
    }
   ],
   "source": [
    "data3 = pca.inverse_transform(data2)\n",
    "data3"
   ]
  },
  {
   "cell_type": "code",
   "execution_count": null,
   "metadata": {},
   "outputs": [],
   "source": []
  }
 ],
 "metadata": {
  "kernelspec": {
   "display_name": "Python 3",
   "language": "python",
   "name": "python3"
  },
  "language_info": {
   "codemirror_mode": {
    "name": "ipython",
    "version": 3
   },
   "file_extension": ".py",
   "mimetype": "text/x-python",
   "name": "python",
   "nbconvert_exporter": "python",
   "pygments_lexer": "ipython3",
   "version": "3.7.6"
  }
 },
 "nbformat": 4,
 "nbformat_minor": 4
}
