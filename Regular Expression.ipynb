{
 "cells": [
  {
   "cell_type": "code",
   "execution_count": 1,
   "metadata": {},
   "outputs": [],
   "source": [
    "import re"
   ]
  },
  {
   "cell_type": "code",
   "execution_count": 5,
   "metadata": {},
   "outputs": [
    {
     "data": {
      "text/plain": [
       "['1234567890', '12345678902', '123456789034']"
      ]
     },
     "execution_count": 5,
     "metadata": {},
     "output_type": "execute_result"
    }
   ],
   "source": [
    "data = 'hi, my email is abc@abc.com. my phone number is 1234567890 and 12345678902 and 123456789034. My birthday is 17-01-1988.'\n",
    "re.findall('[0-9]{10,12}',data)"
   ]
  },
  {
   "cell_type": "code",
   "execution_count": 26,
   "metadata": {},
   "outputs": [
    {
     "data": {
      "text/plain": [
       "['anshu123_pandey@gmail', 'juanda@bootup']"
      ]
     },
     "execution_count": 26,
     "metadata": {},
     "output_type": "execute_result"
    }
   ],
   "source": [
    "re.findall('[a-z0-9A-Z._]+@[0-9a-zA-Z]+',data)"
   ]
  },
  {
   "cell_type": "code",
   "execution_count": 17,
   "metadata": {},
   "outputs": [],
   "source": [
    "data = \"\"\" my birthday is 05-6-1992 and your birthday is 12-05-1897 and his irthday is 5-6-1655 and his\n",
    "friend's birthday is 05/11/1996 and drop him an email on anshu123_pandey@gmail.co.id on 12/5/1996.\n",
    "please also keep juanda@bootup.ai in cc and keep updating the things from 12-10-2020 \"\"\""
   ]
  },
  {
   "cell_type": "code",
   "execution_count": 28,
   "metadata": {},
   "outputs": [
    {
     "data": {
      "text/plain": [
       "['05-6-1992',\n",
       " '12-05-1897',\n",
       " '5-6-1655',\n",
       " '05/11/1996',\n",
       " 'anshu123_pandey@gmail.co.id',\n",
       " '12/5/1996',\n",
       " 'juanda@bootup.ai',\n",
       " '12-10-2020']"
      ]
     },
     "execution_count": 28,
     "metadata": {},
     "output_type": "execute_result"
    }
   ],
   "source": [
    "re.findall('[0-9]{1,2}[-/.][0-9]{1,2}[-/.][0-9]{2,4}|[a-z0-9A-Z._]+@[0-9a-zA-Z._]+',data)"
   ]
  },
  {
   "cell_type": "code",
   "execution_count": 27,
   "metadata": {},
   "outputs": [
    {
     "data": {
      "text/plain": [
       "['anshu123_pandey@gmail.co.id', 'juanda@bootup.ai']"
      ]
     },
     "execution_count": 27,
     "metadata": {},
     "output_type": "execute_result"
    }
   ],
   "source": [
    "re.findall('[a-z0-9A-Z._]+@[0-9a-zA-Z._]+',data)"
   ]
  },
  {
   "cell_type": "code",
   "execution_count": null,
   "metadata": {},
   "outputs": [],
   "source": []
  }
 ],
 "metadata": {
  "kernelspec": {
   "display_name": "Python 3",
   "language": "python",
   "name": "python3"
  },
  "language_info": {
   "codemirror_mode": {
    "name": "ipython",
    "version": 3
   },
   "file_extension": ".py",
   "mimetype": "text/x-python",
   "name": "python",
   "nbconvert_exporter": "python",
   "pygments_lexer": "ipython3",
   "version": "3.7.6"
  }
 },
 "nbformat": 4,
 "nbformat_minor": 4
}
