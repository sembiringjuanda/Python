{
 "cells": [
  {
   "cell_type": "markdown",
   "metadata": {},
   "source": [
    "## Control Flow"
   ]
  },
  {
   "cell_type": "code",
   "execution_count": 1,
   "metadata": {},
   "outputs": [],
   "source": [
    "#if else condition\n",
    "def num(x):\n",
    "    if x<5:\n",
    "        print('your number is smaller')\n",
    "    else:\n",
    "        print('your number is larger')"
   ]
  },
  {
   "cell_type": "code",
   "execution_count": 5,
   "metadata": {},
   "outputs": [
    {
     "name": "stdout",
     "output_type": "stream",
     "text": [
      "your number is larger\n"
     ]
    }
   ],
   "source": [
    "num(5)"
   ]
  },
  {
   "cell_type": "code",
   "execution_count": 6,
   "metadata": {
    "collapsed": true
   },
   "outputs": [
    {
     "name": "stdout",
     "output_type": "stream",
     "text": [
      "testing python\n",
      "testing python\n",
      "testing python\n",
      "testing python\n",
      "testing python\n"
     ]
    }
   ],
   "source": [
    "#for is to repeat/iterate command on defined quantity\n",
    "for i in range(5):\n",
    "    print('testing python')"
   ]
  },
  {
   "cell_type": "code",
   "execution_count": 9,
   "metadata": {
    "collapsed": true
   },
   "outputs": [
    {
     "name": "stdout",
     "output_type": "stream",
     "text": [
      "hello python 2\n",
      "hello python 4\n",
      "hello python 6\n",
      "hello python 8\n",
      "hello python 10\n"
     ]
    }
   ],
   "source": [
    "for i in range(2,12,2):\n",
    "    print('hello python',i)"
   ]
  },
  {
   "cell_type": "code",
   "execution_count": 10,
   "metadata": {},
   "outputs": [
    {
     "data": {
      "text/plain": [
       "[24, 25, 26, 25, 21, 22]"
      ]
     },
     "execution_count": 10,
     "metadata": {},
     "output_type": "execute_result"
    }
   ],
   "source": [
    "#list comprehension\n",
    "temp = [24,25,27,28,30,34,29,26,25,21,22,31,32]\n",
    "[i for i in temp if i<27]"
   ]
  },
  {
   "cell_type": "code",
   "execution_count": 13,
   "metadata": {
    "collapsed": true
   },
   "outputs": [
    {
     "name": "stdout",
     "output_type": "stream",
     "text": [
      "Enter a value: 3\n",
      "your value is lesser\n",
      "Enter a value: 4\n",
      "your value is lesser\n",
      "Enter a value: 5\n",
      "your value is lesser\n",
      "Enter a value: 6\n",
      "your value is lesser\n",
      "Enter a value: 7\n",
      "your value is lesser\n",
      "Enter a value: 8\n",
      "your value is lesser\n",
      "Enter a value: 9\n",
      "your value is lesser\n",
      "Enter a value: 0\n",
      "your value is lesser\n",
      "Enter a value: 9\n",
      "your value is lesser\n",
      "Enter a value: 0\n",
      "your value is lesser\n",
      "Enter a value: 9\n",
      "your value is lesser\n",
      "Enter a value: 8\n",
      "your value is lesser\n",
      "Enter a value: 7\n",
      "your value is lesser\n",
      "Enter a value: 6\n",
      "your value is lesser\n",
      "Enter a value: 5\n",
      "your value is lesser\n",
      "Enter a value: 4\n",
      "your value is lesser\n",
      "Enter a value: 3\n",
      "your value is lesser\n",
      "Enter a value: 2\n",
      "your value is lesser\n",
      "Enter a value: 1\n",
      "your value is lesser\n",
      "Enter a value: 2\n",
      "your value is lesser\n",
      "Enter a value: 21\n",
      "your value is lesser\n"
     ]
    }
   ],
   "source": [
    "#while is to repeat command until it reach wanted value\n",
    "x=2\n",
    "while x<20:\n",
    "    x = int(input('Enter a value: '))\n",
    "    print('your value is lesser')"
   ]
  },
  {
   "cell_type": "markdown",
   "metadata": {},
   "source": [
    "## Function"
   ]
  },
  {
   "cell_type": "code",
   "execution_count": 14,
   "metadata": {},
   "outputs": [
    {
     "name": "stdout",
     "output_type": "stream",
     "text": [
      "8\n",
      "1\n",
      "36\n",
      "[1, 2, 2, 4, 6, 6, 7, 8]\n"
     ]
    }
   ],
   "source": [
    "z = [2,4,6,7,8,1,2,6]\n",
    "print(max(z))\n",
    "print(min(z))\n",
    "print(sum(z))\n",
    "print(sorted(z))"
   ]
  },
  {
   "cell_type": "code",
   "execution_count": 21,
   "metadata": {},
   "outputs": [],
   "source": [
    "def func(x,y):\n",
    "    z=x+y\n",
    "    k=x*y\n",
    "    return z,k"
   ]
  },
  {
   "cell_type": "code",
   "execution_count": 22,
   "metadata": {},
   "outputs": [
    {
     "data": {
      "text/plain": [
       "(7, 12)"
      ]
     },
     "execution_count": 22,
     "metadata": {},
     "output_type": "execute_result"
    }
   ],
   "source": [
    "func(3,4)"
   ]
  },
  {
   "cell_type": "code",
   "execution_count": 23,
   "metadata": {},
   "outputs": [],
   "source": [
    "#Lambda function = anonymous function - it doesn't exist\n",
    "\n",
    "a = lambda x:x+5"
   ]
  },
  {
   "cell_type": "code",
   "execution_count": 24,
   "metadata": {},
   "outputs": [
    {
     "data": {
      "text/plain": [
       "8"
      ]
     },
     "execution_count": 24,
     "metadata": {},
     "output_type": "execute_result"
    }
   ],
   "source": [
    "a(3)"
   ]
  },
  {
   "cell_type": "code",
   "execution_count": 32,
   "metadata": {},
   "outputs": [
    {
     "data": {
      "text/html": [
       "<div>\n",
       "<style scoped>\n",
       "    .dataframe tbody tr th:only-of-type {\n",
       "        vertical-align: middle;\n",
       "    }\n",
       "\n",
       "    .dataframe tbody tr th {\n",
       "        vertical-align: top;\n",
       "    }\n",
       "\n",
       "    .dataframe thead th {\n",
       "        text-align: right;\n",
       "    }\n",
       "</style>\n",
       "<table border=\"1\" class=\"dataframe\">\n",
       "  <thead>\n",
       "    <tr style=\"text-align: right;\">\n",
       "      <th></th>\n",
       "      <th>name</th>\n",
       "      <th>dob</th>\n",
       "    </tr>\n",
       "  </thead>\n",
       "  <tbody>\n",
       "    <tr>\n",
       "      <th>0</th>\n",
       "      <td>Achmad Rifaie de Jong</td>\n",
       "      <td>11/9/1989</td>\n",
       "    </tr>\n",
       "    <tr>\n",
       "      <th>1</th>\n",
       "      <td>Aditya Perdana Suherman Putra</td>\n",
       "      <td>22/12/1986</td>\n",
       "    </tr>\n",
       "    <tr>\n",
       "      <th>2</th>\n",
       "      <td>Aditya Satrio Prabowo</td>\n",
       "      <td>8/19/1988</td>\n",
       "    </tr>\n",
       "    <tr>\n",
       "      <th>3</th>\n",
       "      <td>Aditya Septiana</td>\n",
       "      <td>9/25/1987</td>\n",
       "    </tr>\n",
       "    <tr>\n",
       "      <th>4</th>\n",
       "      <td>Aditya Yudistira Octaputra</td>\n",
       "      <td>18/8/1988</td>\n",
       "    </tr>\n",
       "  </tbody>\n",
       "</table>\n",
       "</div>"
      ],
      "text/plain": [
       "                            name         dob\n",
       "0          Achmad Rifaie de Jong   11/9/1989\n",
       "1  Aditya Perdana Suherman Putra  22/12/1986\n",
       "2          Aditya Satrio Prabowo   8/19/1988\n",
       "3                Aditya Septiana   9/25/1987\n",
       "4     Aditya Yudistira Octaputra   18/8/1988"
      ]
     },
     "execution_count": 32,
     "metadata": {},
     "output_type": "execute_result"
    }
   ],
   "source": [
    "import pandas as pd\n",
    "df = pd.read_csv(r'D:\\Github\\Datasets\\dob_2.csv')\n",
    "df.head()"
   ]
  },
  {
   "cell_type": "code",
   "execution_count": 33,
   "metadata": {},
   "outputs": [],
   "source": [
    "df['dob'] = pd.to_datetime(df['dob'])"
   ]
  },
  {
   "cell_type": "code",
   "execution_count": 29,
   "metadata": {},
   "outputs": [],
   "source": [
    "import datetime as dt\n",
    "def to_dob(date):\n",
    "    today = dt.datetime.now()\n",
    "    days = (today-date).days\n",
    "    age = round(days/365)\n",
    "    return age"
   ]
  },
  {
   "cell_type": "code",
   "execution_count": 30,
   "metadata": {
    "collapsed": true
   },
   "outputs": [
    {
     "data": {
      "text/html": [
       "<div>\n",
       "<style scoped>\n",
       "    .dataframe tbody tr th:only-of-type {\n",
       "        vertical-align: middle;\n",
       "    }\n",
       "\n",
       "    .dataframe tbody tr th {\n",
       "        vertical-align: top;\n",
       "    }\n",
       "\n",
       "    .dataframe thead th {\n",
       "        text-align: right;\n",
       "    }\n",
       "</style>\n",
       "<table border=\"1\" class=\"dataframe\">\n",
       "  <thead>\n",
       "    <tr style=\"text-align: right;\">\n",
       "      <th></th>\n",
       "      <th>name</th>\n",
       "      <th>dob</th>\n",
       "      <th>age</th>\n",
       "    </tr>\n",
       "  </thead>\n",
       "  <tbody>\n",
       "    <tr>\n",
       "      <th>0</th>\n",
       "      <td>Achmad Rifaie de Jong</td>\n",
       "      <td>1989-11-09</td>\n",
       "      <td>31</td>\n",
       "    </tr>\n",
       "    <tr>\n",
       "      <th>1</th>\n",
       "      <td>Aditya Perdana Suherman Putra</td>\n",
       "      <td>1986-12-22</td>\n",
       "      <td>34</td>\n",
       "    </tr>\n",
       "    <tr>\n",
       "      <th>2</th>\n",
       "      <td>Aditya Satrio Prabowo</td>\n",
       "      <td>1988-08-19</td>\n",
       "      <td>32</td>\n",
       "    </tr>\n",
       "    <tr>\n",
       "      <th>3</th>\n",
       "      <td>Aditya Septiana</td>\n",
       "      <td>1987-09-25</td>\n",
       "      <td>33</td>\n",
       "    </tr>\n",
       "    <tr>\n",
       "      <th>4</th>\n",
       "      <td>Aditya Yudistira Octaputra</td>\n",
       "      <td>1988-08-18</td>\n",
       "      <td>32</td>\n",
       "    </tr>\n",
       "  </tbody>\n",
       "</table>\n",
       "</div>"
      ],
      "text/plain": [
       "                            name        dob  age\n",
       "0          Achmad Rifaie de Jong 1989-11-09   31\n",
       "1  Aditya Perdana Suherman Putra 1986-12-22   34\n",
       "2          Aditya Satrio Prabowo 1988-08-19   32\n",
       "3                Aditya Septiana 1987-09-25   33\n",
       "4     Aditya Yudistira Octaputra 1988-08-18   32"
      ]
     },
     "execution_count": 30,
     "metadata": {},
     "output_type": "execute_result"
    }
   ],
   "source": [
    "df['age'] = df['dob'].transform(to_dob)\n",
    "df.head()"
   ]
  },
  {
   "cell_type": "code",
   "execution_count": 35,
   "metadata": {},
   "outputs": [],
   "source": [
    "today = dt.datetime.now()\n",
    "df['age'] = df['dob'].transform(lambda x: round(((today-x).days)/365))"
   ]
  },
  {
   "cell_type": "code",
   "execution_count": 36,
   "metadata": {},
   "outputs": [
    {
     "data": {
      "text/html": [
       "<div>\n",
       "<style scoped>\n",
       "    .dataframe tbody tr th:only-of-type {\n",
       "        vertical-align: middle;\n",
       "    }\n",
       "\n",
       "    .dataframe tbody tr th {\n",
       "        vertical-align: top;\n",
       "    }\n",
       "\n",
       "    .dataframe thead th {\n",
       "        text-align: right;\n",
       "    }\n",
       "</style>\n",
       "<table border=\"1\" class=\"dataframe\">\n",
       "  <thead>\n",
       "    <tr style=\"text-align: right;\">\n",
       "      <th></th>\n",
       "      <th>name</th>\n",
       "      <th>dob</th>\n",
       "      <th>age</th>\n",
       "    </tr>\n",
       "  </thead>\n",
       "  <tbody>\n",
       "    <tr>\n",
       "      <th>0</th>\n",
       "      <td>Achmad Rifaie de Jong</td>\n",
       "      <td>1989-11-09</td>\n",
       "      <td>31</td>\n",
       "    </tr>\n",
       "    <tr>\n",
       "      <th>1</th>\n",
       "      <td>Aditya Perdana Suherman Putra</td>\n",
       "      <td>1986-12-22</td>\n",
       "      <td>34</td>\n",
       "    </tr>\n",
       "    <tr>\n",
       "      <th>2</th>\n",
       "      <td>Aditya Satrio Prabowo</td>\n",
       "      <td>1988-08-19</td>\n",
       "      <td>32</td>\n",
       "    </tr>\n",
       "    <tr>\n",
       "      <th>3</th>\n",
       "      <td>Aditya Septiana</td>\n",
       "      <td>1987-09-25</td>\n",
       "      <td>33</td>\n",
       "    </tr>\n",
       "    <tr>\n",
       "      <th>4</th>\n",
       "      <td>Aditya Yudistira Octaputra</td>\n",
       "      <td>1988-08-18</td>\n",
       "      <td>32</td>\n",
       "    </tr>\n",
       "  </tbody>\n",
       "</table>\n",
       "</div>"
      ],
      "text/plain": [
       "                            name        dob  age\n",
       "0          Achmad Rifaie de Jong 1989-11-09   31\n",
       "1  Aditya Perdana Suherman Putra 1986-12-22   34\n",
       "2          Aditya Satrio Prabowo 1988-08-19   32\n",
       "3                Aditya Septiana 1987-09-25   33\n",
       "4     Aditya Yudistira Octaputra 1988-08-18   32"
      ]
     },
     "execution_count": 36,
     "metadata": {},
     "output_type": "execute_result"
    }
   ],
   "source": [
    "df.head()"
   ]
  },
  {
   "cell_type": "markdown",
   "metadata": {},
   "source": [
    "Using user-defined function may get slowing the process because each of rows will call function from memory, compared to lambda function. The advantage of user-defined function is that it can contains complex operations."
   ]
  },
  {
   "cell_type": "markdown",
   "metadata": {},
   "source": [
    "## Object Oriented Programming"
   ]
  },
  {
   "cell_type": "code",
   "execution_count": 47,
   "metadata": {},
   "outputs": [],
   "source": [
    "class employee:\n",
    "    Name = \"Jack Ma\"\n",
    "    Age = \"24\"\n",
    "    Salary = 0\n",
    "    Status = True\n",
    "    def resignation(x):\n",
    "        x.Status = False\n"
   ]
  },
  {
   "cell_type": "code",
   "execution_count": 48,
   "metadata": {},
   "outputs": [],
   "source": [
    "e1 = employee()"
   ]
  },
  {
   "cell_type": "code",
   "execution_count": 49,
   "metadata": {},
   "outputs": [
    {
     "data": {
      "text/plain": [
       "'Jack Ma'"
      ]
     },
     "execution_count": 49,
     "metadata": {},
     "output_type": "execute_result"
    }
   ],
   "source": [
    "e1.Name"
   ]
  },
  {
   "cell_type": "code",
   "execution_count": 50,
   "metadata": {},
   "outputs": [
    {
     "data": {
      "text/plain": [
       "'24'"
      ]
     },
     "execution_count": 50,
     "metadata": {},
     "output_type": "execute_result"
    }
   ],
   "source": [
    "e1.Age"
   ]
  },
  {
   "cell_type": "code",
   "execution_count": 51,
   "metadata": {},
   "outputs": [],
   "source": [
    "e1.Salary = 46712"
   ]
  },
  {
   "cell_type": "code",
   "execution_count": 52,
   "metadata": {},
   "outputs": [
    {
     "data": {
      "text/plain": [
       "46712"
      ]
     },
     "execution_count": 52,
     "metadata": {},
     "output_type": "execute_result"
    }
   ],
   "source": [
    "e1.Salary"
   ]
  },
  {
   "cell_type": "code",
   "execution_count": 53,
   "metadata": {},
   "outputs": [
    {
     "data": {
      "text/plain": [
       "'Jack Ma'"
      ]
     },
     "execution_count": 53,
     "metadata": {},
     "output_type": "execute_result"
    }
   ],
   "source": [
    "e2 = employee()\n",
    "e2.Name"
   ]
  },
  {
   "cell_type": "code",
   "execution_count": 54,
   "metadata": {},
   "outputs": [],
   "source": [
    "e2.resignation()"
   ]
  },
  {
   "cell_type": "code",
   "execution_count": 55,
   "metadata": {},
   "outputs": [
    {
     "data": {
      "text/plain": [
       "False"
      ]
     },
     "execution_count": 55,
     "metadata": {},
     "output_type": "execute_result"
    }
   ],
   "source": [
    "e2.Status"
   ]
  },
  {
   "cell_type": "markdown",
   "metadata": {},
   "source": [
    "## Inheritance"
   ]
  },
  {
   "cell_type": "code",
   "execution_count": 56,
   "metadata": {},
   "outputs": [],
   "source": [
    "class A:\n",
    "    x = 5\n",
    "    y = 6\n",
    "    def func(self):\n",
    "        print('this is class A')\n",
    "        \n",
    "    def func2(self,a,b):\n",
    "        c = a+b\n",
    "        return c"
   ]
  },
  {
   "cell_type": "code",
   "execution_count": 67,
   "metadata": {},
   "outputs": [],
   "source": [
    "class B(A):\n",
    "    y = 10\n",
    "    z = 12\n",
    "    def funct(self):\n",
    "        print('welcome to class B')"
   ]
  },
  {
   "cell_type": "code",
   "execution_count": 68,
   "metadata": {},
   "outputs": [],
   "source": [
    "m = A()\n",
    "n = B()"
   ]
  },
  {
   "cell_type": "code",
   "execution_count": 62,
   "metadata": {},
   "outputs": [
    {
     "data": {
      "text/plain": [
       "5"
      ]
     },
     "execution_count": 62,
     "metadata": {},
     "output_type": "execute_result"
    }
   ],
   "source": [
    "m.func2(2,3)"
   ]
  },
  {
   "cell_type": "code",
   "execution_count": 71,
   "metadata": {},
   "outputs": [
    {
     "name": "stdout",
     "output_type": "stream",
     "text": [
      "this is class A\n"
     ]
    }
   ],
   "source": [
    "n.func()"
   ]
  },
  {
   "cell_type": "markdown",
   "metadata": {},
   "source": [
    "## Modul and packages"
   ]
  },
  {
   "cell_type": "markdown",
   "metadata": {},
   "source": [
    "- numpy, scipy = mathematical computation\n",
    "- pandas, dask = data import/export, data engineering, data cleaning, data manipulation, data visualization, statistical analysis\n",
    "- seaborn, matplotlib = data visualization\n",
    "- statsmodels = advance statistics\n",
    "- sklearn (scikit-learn) = supervised and unsupervised ML algorithms, feature engineering\n",
    "- tensorflow, keras, pytorch = deep learning, computer vision and NLP\n",
    "- openCV, PIL = computer vision and  image processing\n",
    "*********************\n",
    "- NLTK, spacy, gensim = natural language processing\n",
    "- textblob = text processing\n",
    "- librosa = audio processing\n",
    "********************\n",
    "- pyspark = apache spark\n",
    "- flask, django = web app development\n",
    "\n",
    "ORDER: package, class, function"
   ]
  },
  {
   "cell_type": "code",
   "execution_count": null,
   "metadata": {},
   "outputs": [],
   "source": []
  }
 ],
 "metadata": {
  "kernelspec": {
   "display_name": "Python 3",
   "language": "python",
   "name": "python3"
  },
  "language_info": {
   "codemirror_mode": {
    "name": "ipython",
    "version": 3
   },
   "file_extension": ".py",
   "mimetype": "text/x-python",
   "name": "python",
   "nbconvert_exporter": "python",
   "pygments_lexer": "ipython3",
   "version": "3.7.6"
  }
 },
 "nbformat": 4,
 "nbformat_minor": 4
}
